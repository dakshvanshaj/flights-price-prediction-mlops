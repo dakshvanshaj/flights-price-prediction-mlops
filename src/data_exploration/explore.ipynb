from data_ingestion.data_loader import load_data
import pandas as pd
from shared.config import config_gold

df = load_data(config_gold.GOLD_PROCESSED_DIR/'train.parquet')
