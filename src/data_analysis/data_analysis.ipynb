{
 "cells": [
  {
   "cell_type": "markdown",
   "metadata": {},
   "source": [
    "# Data Analysis and Pipeline Verification"
   ]
  },
  {
   "cell_type": "markdown",
   "metadata": {},
   "source": [
    "This notebook analyzes the flight price prediction dataset at different stages of the MLOps pipeline: raw, bronze, silver, and gold. The goal is to perform basic data analysis at each stage and verify if the corresponding data processing pipelines have worked as expected."
   ]
  },
  {
   "cell_type": "code",
   "execution_count": 20,
   "metadata": {},
   "outputs": [],
   "source": [
    "import pandas as pd\n",
    "import numpy as np\n",
    "import warnings\n",
    "\n",
    "warnings.filterwarnings(\"ignore\")"
   ]
  },
  {
   "cell_type": "markdown",
   "metadata": {},
   "source": [
    "## 1. Raw Data Analysis"
   ]
  },
  {
   "cell_type": "markdown",
   "metadata": {},
   "source": [
    "We start by loading the raw dataset and performing a preliminary analysis."
   ]
  },
  {
   "cell_type": "code",
   "execution_count": 21,
   "metadata": {},
   "outputs": [],
   "source": [
    "from shared.config import core_paths, config_bronze, config_gold, config_silver"
   ]
  },
  {
   "cell_type": "code",
   "execution_count": 22,
   "metadata": {},
   "outputs": [
    {
     "data": {
      "application/vnd.microsoft.datawrangler.viewer.v0+json": {
       "columns": [
        {
         "name": "index",
         "rawType": "int64",
         "type": "integer"
        },
        {
         "name": "travelCode",
         "rawType": "int64",
         "type": "integer"
        },
        {
         "name": "userCode",
         "rawType": "int64",
         "type": "integer"
        },
        {
         "name": "from",
         "rawType": "object",
         "type": "string"
        },
        {
         "name": "to",
         "rawType": "object",
         "type": "string"
        },
        {
         "name": "flightType",
         "rawType": "object",
         "type": "string"
        },
        {
         "name": "price",
         "rawType": "float64",
         "type": "float"
        },
        {
         "name": "time",
         "rawType": "float64",
         "type": "float"
        },
        {
         "name": "distance",
         "rawType": "float64",
         "type": "float"
        },
        {
         "name": "agency",
         "rawType": "object",
         "type": "string"
        },
        {
         "name": "date",
         "rawType": "object",
         "type": "string"
        }
       ],
       "ref": "4ec7c655-8060-41d5-8bbf-4629657de360",
       "rows": [
        [
         "0",
         "0",
         "0",
         "Recife (PE)",
         "Florianopolis (SC)",
         "firstClass",
         "1434.38",
         "1.76",
         "676.53",
         "FlyingDrops",
         "2019-09-26"
        ],
        [
         "1",
         "121138",
         "1202",
         "Florianopolis (SC)",
         "Natal (RN)",
         "firstClass",
         "1315.27",
         "1.84",
         "709.37",
         "CloudFy",
         "2019-09-26"
        ],
        [
         "2",
         "132076",
         "1301",
         "Florianopolis (SC)",
         "Salvador (BH)",
         "premium",
         "1311.38",
         "2.44",
         "937.77",
         "CloudFy",
         "2019-09-26"
        ],
        [
         "3",
         "28904",
         "276",
         "Recife (PE)",
         "Rio de Janeiro (RJ)",
         "economic",
         "908.93",
         "2.3",
         "885.57",
         "Rainbow",
         "2019-09-26"
        ],
        [
         "4",
         "88695",
         "877",
         "Aracaju (SE)",
         "Natal (RN)",
         "firstClass",
         "598.61",
         "0.46",
         "176.33",
         "CloudFy",
         "2019-09-26"
        ]
       ],
       "shape": {
        "columns": 10,
        "rows": 5
       }
      },
      "text/html": [
       "<div>\n",
       "<style scoped>\n",
       "    .dataframe tbody tr th:only-of-type {\n",
       "        vertical-align: middle;\n",
       "    }\n",
       "\n",
       "    .dataframe tbody tr th {\n",
       "        vertical-align: top;\n",
       "    }\n",
       "\n",
       "    .dataframe thead th {\n",
       "        text-align: right;\n",
       "    }\n",
       "</style>\n",
       "<table border=\"1\" class=\"dataframe\">\n",
       "  <thead>\n",
       "    <tr style=\"text-align: right;\">\n",
       "      <th></th>\n",
       "      <th>travelCode</th>\n",
       "      <th>userCode</th>\n",
       "      <th>from</th>\n",
       "      <th>to</th>\n",
       "      <th>flightType</th>\n",
       "      <th>price</th>\n",
       "      <th>time</th>\n",
       "      <th>distance</th>\n",
       "      <th>agency</th>\n",
       "      <th>date</th>\n",
       "    </tr>\n",
       "  </thead>\n",
       "  <tbody>\n",
       "    <tr>\n",
       "      <th>0</th>\n",
       "      <td>0</td>\n",
       "      <td>0</td>\n",
       "      <td>Recife (PE)</td>\n",
       "      <td>Florianopolis (SC)</td>\n",
       "      <td>firstClass</td>\n",
       "      <td>1434.38</td>\n",
       "      <td>1.76</td>\n",
       "      <td>676.53</td>\n",
       "      <td>FlyingDrops</td>\n",
       "      <td>2019-09-26</td>\n",
       "    </tr>\n",
       "    <tr>\n",
       "      <th>1</th>\n",
       "      <td>121138</td>\n",
       "      <td>1202</td>\n",
       "      <td>Florianopolis (SC)</td>\n",
       "      <td>Natal (RN)</td>\n",
       "      <td>firstClass</td>\n",
       "      <td>1315.27</td>\n",
       "      <td>1.84</td>\n",
       "      <td>709.37</td>\n",
       "      <td>CloudFy</td>\n",
       "      <td>2019-09-26</td>\n",
       "    </tr>\n",
       "    <tr>\n",
       "      <th>2</th>\n",
       "      <td>132076</td>\n",
       "      <td>1301</td>\n",
       "      <td>Florianopolis (SC)</td>\n",
       "      <td>Salvador (BH)</td>\n",
       "      <td>premium</td>\n",
       "      <td>1311.38</td>\n",
       "      <td>2.44</td>\n",
       "      <td>937.77</td>\n",
       "      <td>CloudFy</td>\n",
       "      <td>2019-09-26</td>\n",
       "    </tr>\n",
       "    <tr>\n",
       "      <th>3</th>\n",
       "      <td>28904</td>\n",
       "      <td>276</td>\n",
       "      <td>Recife (PE)</td>\n",
       "      <td>Rio de Janeiro (RJ)</td>\n",
       "      <td>economic</td>\n",
       "      <td>908.93</td>\n",
       "      <td>2.30</td>\n",
       "      <td>885.57</td>\n",
       "      <td>Rainbow</td>\n",
       "      <td>2019-09-26</td>\n",
       "    </tr>\n",
       "    <tr>\n",
       "      <th>4</th>\n",
       "      <td>88695</td>\n",
       "      <td>877</td>\n",
       "      <td>Aracaju (SE)</td>\n",
       "      <td>Natal (RN)</td>\n",
       "      <td>firstClass</td>\n",
       "      <td>598.61</td>\n",
       "      <td>0.46</td>\n",
       "      <td>176.33</td>\n",
       "      <td>CloudFy</td>\n",
       "      <td>2019-09-26</td>\n",
       "    </tr>\n",
       "  </tbody>\n",
       "</table>\n",
       "</div>"
      ],
      "text/plain": [
       "   travelCode  userCode                from                   to  flightType  \\\n",
       "0           0         0         Recife (PE)   Florianopolis (SC)  firstClass   \n",
       "1      121138      1202  Florianopolis (SC)           Natal (RN)  firstClass   \n",
       "2      132076      1301  Florianopolis (SC)        Salvador (BH)     premium   \n",
       "3       28904       276         Recife (PE)  Rio de Janeiro (RJ)    economic   \n",
       "4       88695       877        Aracaju (SE)           Natal (RN)  firstClass   \n",
       "\n",
       "     price  time  distance       agency        date  \n",
       "0  1434.38  1.76    676.53  FlyingDrops  2019-09-26  \n",
       "1  1315.27  1.84    709.37      CloudFy  2019-09-26  \n",
       "2  1311.38  2.44    937.77      CloudFy  2019-09-26  \n",
       "3   908.93  2.30    885.57      Rainbow  2019-09-26  \n",
       "4   598.61  0.46    176.33      CloudFy  2019-09-26  "
      ]
     },
     "execution_count": 22,
     "metadata": {},
     "output_type": "execute_result"
    }
   ],
   "source": [
    "raw_df = pd.read_csv(core_paths.RAW_DATA_DIR / \"train_validation_test\" / \"train.csv\")\n",
    "raw_df.head()"
   ]
  },
  {
   "cell_type": "code",
   "execution_count": 23,
   "metadata": {},
   "outputs": [
    {
     "name": "stdout",
     "output_type": "stream",
     "text": [
      "<class 'pandas.core.frame.DataFrame'>\n",
      "RangeIndex: 190321 entries, 0 to 190320\n",
      "Data columns (total 10 columns):\n",
      " #   Column      Non-Null Count   Dtype  \n",
      "---  ------      --------------   -----  \n",
      " 0   travelCode  190321 non-null  int64  \n",
      " 1   userCode    190321 non-null  int64  \n",
      " 2   from        190321 non-null  object \n",
      " 3   to          190321 non-null  object \n",
      " 4   flightType  190321 non-null  object \n",
      " 5   price       190321 non-null  float64\n",
      " 6   time        190321 non-null  float64\n",
      " 7   distance    190321 non-null  float64\n",
      " 8   agency      190321 non-null  object \n",
      " 9   date        190321 non-null  object \n",
      "dtypes: float64(3), int64(2), object(5)\n",
      "memory usage: 14.5+ MB\n"
     ]
    }
   ],
   "source": [
    "raw_df.info()"
   ]
  },
  {
   "cell_type": "code",
   "execution_count": 24,
   "metadata": {},
   "outputs": [
    {
     "data": {
      "application/vnd.microsoft.datawrangler.viewer.v0+json": {
       "columns": [
        {
         "name": "index",
         "rawType": "object",
         "type": "string"
        },
        {
         "name": "travelCode",
         "rawType": "float64",
         "type": "float"
        },
        {
         "name": "userCode",
         "rawType": "float64",
         "type": "float"
        },
        {
         "name": "price",
         "rawType": "float64",
         "type": "float"
        },
        {
         "name": "time",
         "rawType": "float64",
         "type": "float"
        },
        {
         "name": "distance",
         "rawType": "float64",
         "type": "float"
        }
       ],
       "ref": "f4810814-3f51-4a11-b73f-4600c861f7b1",
       "rows": [
        [
         "count",
         "190321.0",
         "190321.0",
         "190321.0",
         "190321.0",
         "190321.0"
        ],
        [
         "mean",
         "67919.41227189853",
         "667.159567257423",
         "955.6013910708749",
         "1.4183429574245616",
         "545.8752212840412"
        ],
        [
         "std",
         "39051.35276859851",
         "387.6247774338065",
         "362.4322407539498",
         "0.5435625681000794",
         "209.24670661403098"
        ],
        [
         "min",
         "0.0",
         "0.0",
         "301.51",
         "0.44",
         "168.22"
        ],
        [
         "25%",
         "34245.0",
         "328.0",
         "672.66",
         "1.02",
         "392.76"
        ],
        [
         "50%",
         "68332.0",
         "662.0",
         "899.6",
         "1.46",
         "562.14"
        ],
        [
         "75%",
         "101679.0",
         "1009.0",
         "1222.24",
         "1.76",
         "676.53"
        ],
        [
         "max",
         "135943.0",
         "1339.0",
         "1754.17",
         "2.44",
         "937.77"
        ]
       ],
       "shape": {
        "columns": 5,
        "rows": 8
       }
      },
      "text/html": [
       "<div>\n",
       "<style scoped>\n",
       "    .dataframe tbody tr th:only-of-type {\n",
       "        vertical-align: middle;\n",
       "    }\n",
       "\n",
       "    .dataframe tbody tr th {\n",
       "        vertical-align: top;\n",
       "    }\n",
       "\n",
       "    .dataframe thead th {\n",
       "        text-align: right;\n",
       "    }\n",
       "</style>\n",
       "<table border=\"1\" class=\"dataframe\">\n",
       "  <thead>\n",
       "    <tr style=\"text-align: right;\">\n",
       "      <th></th>\n",
       "      <th>travelCode</th>\n",
       "      <th>userCode</th>\n",
       "      <th>price</th>\n",
       "      <th>time</th>\n",
       "      <th>distance</th>\n",
       "    </tr>\n",
       "  </thead>\n",
       "  <tbody>\n",
       "    <tr>\n",
       "      <th>count</th>\n",
       "      <td>190321.000000</td>\n",
       "      <td>190321.000000</td>\n",
       "      <td>190321.000000</td>\n",
       "      <td>190321.000000</td>\n",
       "      <td>190321.000000</td>\n",
       "    </tr>\n",
       "    <tr>\n",
       "      <th>mean</th>\n",
       "      <td>67919.412272</td>\n",
       "      <td>667.159567</td>\n",
       "      <td>955.601391</td>\n",
       "      <td>1.418343</td>\n",
       "      <td>545.875221</td>\n",
       "    </tr>\n",
       "    <tr>\n",
       "      <th>std</th>\n",
       "      <td>39051.352769</td>\n",
       "      <td>387.624777</td>\n",
       "      <td>362.432241</td>\n",
       "      <td>0.543563</td>\n",
       "      <td>209.246707</td>\n",
       "    </tr>\n",
       "    <tr>\n",
       "      <th>min</th>\n",
       "      <td>0.000000</td>\n",
       "      <td>0.000000</td>\n",
       "      <td>301.510000</td>\n",
       "      <td>0.440000</td>\n",
       "      <td>168.220000</td>\n",
       "    </tr>\n",
       "    <tr>\n",
       "      <th>25%</th>\n",
       "      <td>34245.000000</td>\n",
       "      <td>328.000000</td>\n",
       "      <td>672.660000</td>\n",
       "      <td>1.020000</td>\n",
       "      <td>392.760000</td>\n",
       "    </tr>\n",
       "    <tr>\n",
       "      <th>50%</th>\n",
       "      <td>68332.000000</td>\n",
       "      <td>662.000000</td>\n",
       "      <td>899.600000</td>\n",
       "      <td>1.460000</td>\n",
       "      <td>562.140000</td>\n",
       "    </tr>\n",
       "    <tr>\n",
       "      <th>75%</th>\n",
       "      <td>101679.000000</td>\n",
       "      <td>1009.000000</td>\n",
       "      <td>1222.240000</td>\n",
       "      <td>1.760000</td>\n",
       "      <td>676.530000</td>\n",
       "    </tr>\n",
       "    <tr>\n",
       "      <th>max</th>\n",
       "      <td>135943.000000</td>\n",
       "      <td>1339.000000</td>\n",
       "      <td>1754.170000</td>\n",
       "      <td>2.440000</td>\n",
       "      <td>937.770000</td>\n",
       "    </tr>\n",
       "  </tbody>\n",
       "</table>\n",
       "</div>"
      ],
      "text/plain": [
       "          travelCode       userCode          price           time  \\\n",
       "count  190321.000000  190321.000000  190321.000000  190321.000000   \n",
       "mean    67919.412272     667.159567     955.601391       1.418343   \n",
       "std     39051.352769     387.624777     362.432241       0.543563   \n",
       "min         0.000000       0.000000     301.510000       0.440000   \n",
       "25%     34245.000000     328.000000     672.660000       1.020000   \n",
       "50%     68332.000000     662.000000     899.600000       1.460000   \n",
       "75%    101679.000000    1009.000000    1222.240000       1.760000   \n",
       "max    135943.000000    1339.000000    1754.170000       2.440000   \n",
       "\n",
       "            distance  \n",
       "count  190321.000000  \n",
       "mean      545.875221  \n",
       "std       209.246707  \n",
       "min       168.220000  \n",
       "25%       392.760000  \n",
       "50%       562.140000  \n",
       "75%       676.530000  \n",
       "max       937.770000  "
      ]
     },
     "execution_count": 24,
     "metadata": {},
     "output_type": "execute_result"
    }
   ],
   "source": [
    "raw_df.describe()"
   ]
  },
  {
   "cell_type": "code",
   "execution_count": 25,
   "metadata": {},
   "outputs": [
    {
     "data": {
      "application/vnd.microsoft.datawrangler.viewer.v0+json": {
       "columns": [
        {
         "name": "index",
         "rawType": "object",
         "type": "string"
        },
        {
         "name": "from",
         "rawType": "object",
         "type": "unknown"
        },
        {
         "name": "to",
         "rawType": "object",
         "type": "unknown"
        },
        {
         "name": "flightType",
         "rawType": "object",
         "type": "unknown"
        },
        {
         "name": "agency",
         "rawType": "object",
         "type": "unknown"
        },
        {
         "name": "date",
         "rawType": "object",
         "type": "unknown"
        }
       ],
       "ref": "da22c114-b73a-457d-b69b-324b603fb6f9",
       "rows": [
        [
         "count",
         "190321",
         "190321",
         "190321",
         "190321",
         "190321"
        ],
        [
         "unique",
         "9",
         "9",
         "3",
         "3",
         "461"
        ],
        [
         "top",
         "Florianopolis (SC)",
         "Florianopolis (SC)",
         "firstClass",
         "Rainbow",
         "2019-09-26"
        ],
        [
         "freq",
         "39868",
         "39737",
         "81242",
         "81741",
         "1335"
        ]
       ],
       "shape": {
        "columns": 5,
        "rows": 4
       }
      },
      "text/html": [
       "<div>\n",
       "<style scoped>\n",
       "    .dataframe tbody tr th:only-of-type {\n",
       "        vertical-align: middle;\n",
       "    }\n",
       "\n",
       "    .dataframe tbody tr th {\n",
       "        vertical-align: top;\n",
       "    }\n",
       "\n",
       "    .dataframe thead th {\n",
       "        text-align: right;\n",
       "    }\n",
       "</style>\n",
       "<table border=\"1\" class=\"dataframe\">\n",
       "  <thead>\n",
       "    <tr style=\"text-align: right;\">\n",
       "      <th></th>\n",
       "      <th>from</th>\n",
       "      <th>to</th>\n",
       "      <th>flightType</th>\n",
       "      <th>agency</th>\n",
       "      <th>date</th>\n",
       "    </tr>\n",
       "  </thead>\n",
       "  <tbody>\n",
       "    <tr>\n",
       "      <th>count</th>\n",
       "      <td>190321</td>\n",
       "      <td>190321</td>\n",
       "      <td>190321</td>\n",
       "      <td>190321</td>\n",
       "      <td>190321</td>\n",
       "    </tr>\n",
       "    <tr>\n",
       "      <th>unique</th>\n",
       "      <td>9</td>\n",
       "      <td>9</td>\n",
       "      <td>3</td>\n",
       "      <td>3</td>\n",
       "      <td>461</td>\n",
       "    </tr>\n",
       "    <tr>\n",
       "      <th>top</th>\n",
       "      <td>Florianopolis (SC)</td>\n",
       "      <td>Florianopolis (SC)</td>\n",
       "      <td>firstClass</td>\n",
       "      <td>Rainbow</td>\n",
       "      <td>2019-09-26</td>\n",
       "    </tr>\n",
       "    <tr>\n",
       "      <th>freq</th>\n",
       "      <td>39868</td>\n",
       "      <td>39737</td>\n",
       "      <td>81242</td>\n",
       "      <td>81741</td>\n",
       "      <td>1335</td>\n",
       "    </tr>\n",
       "  </tbody>\n",
       "</table>\n",
       "</div>"
      ],
      "text/plain": [
       "                      from                  to  flightType   agency  \\\n",
       "count               190321              190321      190321   190321   \n",
       "unique                   9                   9           3        3   \n",
       "top     Florianopolis (SC)  Florianopolis (SC)  firstClass  Rainbow   \n",
       "freq                 39868               39737       81242    81741   \n",
       "\n",
       "              date  \n",
       "count       190321  \n",
       "unique         461  \n",
       "top     2019-09-26  \n",
       "freq          1335  "
      ]
     },
     "execution_count": 25,
     "metadata": {},
     "output_type": "execute_result"
    }
   ],
   "source": [
    "raw_df.describe(include=\"object\")"
   ]
  },
  {
   "cell_type": "code",
   "execution_count": 26,
   "metadata": {},
   "outputs": [
    {
     "data": {
      "application/vnd.microsoft.datawrangler.viewer.v0+json": {
       "columns": [
        {
         "name": "index",
         "rawType": "object",
         "type": "string"
        },
        {
         "name": "0",
         "rawType": "int64",
         "type": "integer"
        }
       ],
       "ref": "4db650db-34e5-46a5-924d-97c75c763377",
       "rows": [
        [
         "travelCode",
         "95430"
        ],
        [
         "userCode",
         "1335"
        ],
        [
         "from",
         "9"
        ],
        [
         "to",
         "9"
        ],
        [
         "flightType",
         "3"
        ],
        [
         "price",
         "490"
        ],
        [
         "time",
         "33"
        ],
        [
         "distance",
         "35"
        ],
        [
         "agency",
         "3"
        ],
        [
         "date",
         "461"
        ]
       ],
       "shape": {
        "columns": 1,
        "rows": 10
       }
      },
      "text/plain": [
       "travelCode    95430\n",
       "userCode       1335\n",
       "from              9\n",
       "to                9\n",
       "flightType        3\n",
       "price           490\n",
       "time             33\n",
       "distance         35\n",
       "agency            3\n",
       "date            461\n",
       "dtype: int64"
      ]
     },
     "execution_count": 26,
     "metadata": {},
     "output_type": "execute_result"
    }
   ],
   "source": [
    "raw_df.nunique()"
   ]
  },
  {
   "cell_type": "code",
   "execution_count": 27,
   "metadata": {},
   "outputs": [
    {
     "name": "stdout",
     "output_type": "stream",
     "text": [
      "from:['Recife (PE)', 'Florianopolis (SC)', 'Aracaju (SE)', 'Campo Grande (MS)', 'Brasilia (DF)', 'Natal (RN)', 'Sao Paulo (SP)', 'Rio de Janeiro (RJ)', 'Salvador (BH)']\n",
      "to:['Florianopolis (SC)', 'Natal (RN)', 'Salvador (BH)', 'Rio de Janeiro (RJ)', 'Aracaju (SE)', 'Sao Paulo (SP)', 'Recife (PE)', 'Campo Grande (MS)', 'Brasilia (DF)']\n",
      "flightType:['firstClass', 'premium', 'economic']\n",
      "agency:['FlyingDrops', 'CloudFy', 'Rainbow']\n"
     ]
    }
   ],
   "source": [
    "cat_cols = list(raw_df.select_dtypes(include=\"object\").columns)\n",
    "cat_cols.remove(\"date\")\n",
    "for col in cat_cols:\n",
    "    unique_cats = list(raw_df[col].unique())\n",
    "    print(f\"{col}:{unique_cats}\")"
   ]
  },
  {
   "cell_type": "markdown",
   "metadata": {},
   "source": [
    "### Initial Thoughts on Raw Data:\n",
    "- The dataset contains a mix of numerical and categorical features.\n",
    "- Column names are not standardized.\n"
   ]
  },
  {
   "cell_type": "markdown",
   "metadata": {},
   "source": [
    "## 2. Bronze Data Analysis"
   ]
  },
  {
   "cell_type": "code",
   "execution_count": 28,
   "metadata": {},
   "outputs": [
    {
     "data": {
      "application/vnd.microsoft.datawrangler.viewer.v0+json": {
       "columns": [
        {
         "name": "index",
         "rawType": "int64",
         "type": "integer"
        },
        {
         "name": "travelCode",
         "rawType": "int64",
         "type": "integer"
        },
        {
         "name": "userCode",
         "rawType": "int64",
         "type": "integer"
        },
        {
         "name": "from",
         "rawType": "object",
         "type": "string"
        },
        {
         "name": "to",
         "rawType": "object",
         "type": "string"
        },
        {
         "name": "flightType",
         "rawType": "object",
         "type": "string"
        },
        {
         "name": "price",
         "rawType": "float64",
         "type": "float"
        },
        {
         "name": "time",
         "rawType": "float64",
         "type": "float"
        },
        {
         "name": "distance",
         "rawType": "float64",
         "type": "float"
        },
        {
         "name": "agency",
         "rawType": "object",
         "type": "string"
        },
        {
         "name": "date",
         "rawType": "object",
         "type": "string"
        }
       ],
       "ref": "b4275a76-e74e-475b-b871-a3b977a619f1",
       "rows": [
        [
         "0",
         "0",
         "0",
         "Recife (PE)",
         "Florianopolis (SC)",
         "firstClass",
         "1434.38",
         "1.76",
         "676.53",
         "FlyingDrops",
         "2019-09-26"
        ],
        [
         "1",
         "121138",
         "1202",
         "Florianopolis (SC)",
         "Natal (RN)",
         "firstClass",
         "1315.27",
         "1.84",
         "709.37",
         "CloudFy",
         "2019-09-26"
        ],
        [
         "2",
         "132076",
         "1301",
         "Florianopolis (SC)",
         "Salvador (BH)",
         "premium",
         "1311.38",
         "2.44",
         "937.77",
         "CloudFy",
         "2019-09-26"
        ],
        [
         "3",
         "28904",
         "276",
         "Recife (PE)",
         "Rio de Janeiro (RJ)",
         "economic",
         "908.93",
         "2.3",
         "885.57",
         "Rainbow",
         "2019-09-26"
        ],
        [
         "4",
         "88695",
         "877",
         "Aracaju (SE)",
         "Natal (RN)",
         "firstClass",
         "598.61",
         "0.46",
         "176.33",
         "CloudFy",
         "2019-09-26"
        ]
       ],
       "shape": {
        "columns": 10,
        "rows": 5
       }
      },
      "text/html": [
       "<div>\n",
       "<style scoped>\n",
       "    .dataframe tbody tr th:only-of-type {\n",
       "        vertical-align: middle;\n",
       "    }\n",
       "\n",
       "    .dataframe tbody tr th {\n",
       "        vertical-align: top;\n",
       "    }\n",
       "\n",
       "    .dataframe thead th {\n",
       "        text-align: right;\n",
       "    }\n",
       "</style>\n",
       "<table border=\"1\" class=\"dataframe\">\n",
       "  <thead>\n",
       "    <tr style=\"text-align: right;\">\n",
       "      <th></th>\n",
       "      <th>travelCode</th>\n",
       "      <th>userCode</th>\n",
       "      <th>from</th>\n",
       "      <th>to</th>\n",
       "      <th>flightType</th>\n",
       "      <th>price</th>\n",
       "      <th>time</th>\n",
       "      <th>distance</th>\n",
       "      <th>agency</th>\n",
       "      <th>date</th>\n",
       "    </tr>\n",
       "  </thead>\n",
       "  <tbody>\n",
       "    <tr>\n",
       "      <th>0</th>\n",
       "      <td>0</td>\n",
       "      <td>0</td>\n",
       "      <td>Recife (PE)</td>\n",
       "      <td>Florianopolis (SC)</td>\n",
       "      <td>firstClass</td>\n",
       "      <td>1434.38</td>\n",
       "      <td>1.76</td>\n",
       "      <td>676.53</td>\n",
       "      <td>FlyingDrops</td>\n",
       "      <td>2019-09-26</td>\n",
       "    </tr>\n",
       "    <tr>\n",
       "      <th>1</th>\n",
       "      <td>121138</td>\n",
       "      <td>1202</td>\n",
       "      <td>Florianopolis (SC)</td>\n",
       "      <td>Natal (RN)</td>\n",
       "      <td>firstClass</td>\n",
       "      <td>1315.27</td>\n",
       "      <td>1.84</td>\n",
       "      <td>709.37</td>\n",
       "      <td>CloudFy</td>\n",
       "      <td>2019-09-26</td>\n",
       "    </tr>\n",
       "    <tr>\n",
       "      <th>2</th>\n",
       "      <td>132076</td>\n",
       "      <td>1301</td>\n",
       "      <td>Florianopolis (SC)</td>\n",
       "      <td>Salvador (BH)</td>\n",
       "      <td>premium</td>\n",
       "      <td>1311.38</td>\n",
       "      <td>2.44</td>\n",
       "      <td>937.77</td>\n",
       "      <td>CloudFy</td>\n",
       "      <td>2019-09-26</td>\n",
       "    </tr>\n",
       "    <tr>\n",
       "      <th>3</th>\n",
       "      <td>28904</td>\n",
       "      <td>276</td>\n",
       "      <td>Recife (PE)</td>\n",
       "      <td>Rio de Janeiro (RJ)</td>\n",
       "      <td>economic</td>\n",
       "      <td>908.93</td>\n",
       "      <td>2.30</td>\n",
       "      <td>885.57</td>\n",
       "      <td>Rainbow</td>\n",
       "      <td>2019-09-26</td>\n",
       "    </tr>\n",
       "    <tr>\n",
       "      <th>4</th>\n",
       "      <td>88695</td>\n",
       "      <td>877</td>\n",
       "      <td>Aracaju (SE)</td>\n",
       "      <td>Natal (RN)</td>\n",
       "      <td>firstClass</td>\n",
       "      <td>598.61</td>\n",
       "      <td>0.46</td>\n",
       "      <td>176.33</td>\n",
       "      <td>CloudFy</td>\n",
       "      <td>2019-09-26</td>\n",
       "    </tr>\n",
       "  </tbody>\n",
       "</table>\n",
       "</div>"
      ],
      "text/plain": [
       "   travelCode  userCode                from                   to  flightType  \\\n",
       "0           0         0         Recife (PE)   Florianopolis (SC)  firstClass   \n",
       "1      121138      1202  Florianopolis (SC)           Natal (RN)  firstClass   \n",
       "2      132076      1301  Florianopolis (SC)        Salvador (BH)     premium   \n",
       "3       28904       276         Recife (PE)  Rio de Janeiro (RJ)    economic   \n",
       "4       88695       877        Aracaju (SE)           Natal (RN)  firstClass   \n",
       "\n",
       "     price  time  distance       agency        date  \n",
       "0  1434.38  1.76    676.53  FlyingDrops  2019-09-26  \n",
       "1  1315.27  1.84    709.37      CloudFy  2019-09-26  \n",
       "2  1311.38  2.44    937.77      CloudFy  2019-09-26  \n",
       "3   908.93  2.30    885.57      Rainbow  2019-09-26  \n",
       "4   598.61  0.46    176.33      CloudFy  2019-09-26  "
      ]
     },
     "execution_count": 28,
     "metadata": {},
     "output_type": "execute_result"
    }
   ],
   "source": [
    "bronze_train_df = pd.read_csv(config_bronze.BRONZE_PROCESSED_DIR / \"train.csv\")\n",
    "bronze_train_df.head()"
   ]
  },
  {
   "cell_type": "code",
   "execution_count": 29,
   "metadata": {},
   "outputs": [
    {
     "name": "stdout",
     "output_type": "stream",
     "text": [
      "<class 'pandas.core.frame.DataFrame'>\n",
      "RangeIndex: 190321 entries, 0 to 190320\n",
      "Data columns (total 10 columns):\n",
      " #   Column      Non-Null Count   Dtype  \n",
      "---  ------      --------------   -----  \n",
      " 0   travelCode  190321 non-null  int64  \n",
      " 1   userCode    190321 non-null  int64  \n",
      " 2   from        190321 non-null  object \n",
      " 3   to          190321 non-null  object \n",
      " 4   flightType  190321 non-null  object \n",
      " 5   price       190321 non-null  float64\n",
      " 6   time        190321 non-null  float64\n",
      " 7   distance    190321 non-null  float64\n",
      " 8   agency      190321 non-null  object \n",
      " 9   date        190321 non-null  object \n",
      "dtypes: float64(3), int64(2), object(5)\n",
      "memory usage: 14.5+ MB\n"
     ]
    }
   ],
   "source": [
    "bronze_train_df.info()"
   ]
  },
  {
   "cell_type": "code",
   "execution_count": 30,
   "metadata": {},
   "outputs": [
    {
     "data": {
      "application/vnd.microsoft.datawrangler.viewer.v0+json": {
       "columns": [
        {
         "name": "index",
         "rawType": "object",
         "type": "string"
        },
        {
         "name": "travelCode",
         "rawType": "float64",
         "type": "float"
        },
        {
         "name": "userCode",
         "rawType": "float64",
         "type": "float"
        },
        {
         "name": "price",
         "rawType": "float64",
         "type": "float"
        },
        {
         "name": "time",
         "rawType": "float64",
         "type": "float"
        },
        {
         "name": "distance",
         "rawType": "float64",
         "type": "float"
        }
       ],
       "ref": "449981ff-0bbb-4214-a621-d29af54a23f6",
       "rows": [
        [
         "count",
         "190321.0",
         "190321.0",
         "190321.0",
         "190321.0",
         "190321.0"
        ],
        [
         "mean",
         "67919.41227189853",
         "667.159567257423",
         "955.6013910708749",
         "1.4183429574245616",
         "545.8752212840412"
        ],
        [
         "std",
         "39051.35276859851",
         "387.6247774338065",
         "362.4322407539498",
         "0.5435625681000794",
         "209.24670661403098"
        ],
        [
         "min",
         "0.0",
         "0.0",
         "301.51",
         "0.44",
         "168.22"
        ],
        [
         "25%",
         "34245.0",
         "328.0",
         "672.66",
         "1.02",
         "392.76"
        ],
        [
         "50%",
         "68332.0",
         "662.0",
         "899.6",
         "1.46",
         "562.14"
        ],
        [
         "75%",
         "101679.0",
         "1009.0",
         "1222.24",
         "1.76",
         "676.53"
        ],
        [
         "max",
         "135943.0",
         "1339.0",
         "1754.17",
         "2.44",
         "937.77"
        ]
       ],
       "shape": {
        "columns": 5,
        "rows": 8
       }
      },
      "text/html": [
       "<div>\n",
       "<style scoped>\n",
       "    .dataframe tbody tr th:only-of-type {\n",
       "        vertical-align: middle;\n",
       "    }\n",
       "\n",
       "    .dataframe tbody tr th {\n",
       "        vertical-align: top;\n",
       "    }\n",
       "\n",
       "    .dataframe thead th {\n",
       "        text-align: right;\n",
       "    }\n",
       "</style>\n",
       "<table border=\"1\" class=\"dataframe\">\n",
       "  <thead>\n",
       "    <tr style=\"text-align: right;\">\n",
       "      <th></th>\n",
       "      <th>travelCode</th>\n",
       "      <th>userCode</th>\n",
       "      <th>price</th>\n",
       "      <th>time</th>\n",
       "      <th>distance</th>\n",
       "    </tr>\n",
       "  </thead>\n",
       "  <tbody>\n",
       "    <tr>\n",
       "      <th>count</th>\n",
       "      <td>190321.000000</td>\n",
       "      <td>190321.000000</td>\n",
       "      <td>190321.000000</td>\n",
       "      <td>190321.000000</td>\n",
       "      <td>190321.000000</td>\n",
       "    </tr>\n",
       "    <tr>\n",
       "      <th>mean</th>\n",
       "      <td>67919.412272</td>\n",
       "      <td>667.159567</td>\n",
       "      <td>955.601391</td>\n",
       "      <td>1.418343</td>\n",
       "      <td>545.875221</td>\n",
       "    </tr>\n",
       "    <tr>\n",
       "      <th>std</th>\n",
       "      <td>39051.352769</td>\n",
       "      <td>387.624777</td>\n",
       "      <td>362.432241</td>\n",
       "      <td>0.543563</td>\n",
       "      <td>209.246707</td>\n",
       "    </tr>\n",
       "    <tr>\n",
       "      <th>min</th>\n",
       "      <td>0.000000</td>\n",
       "      <td>0.000000</td>\n",
       "      <td>301.510000</td>\n",
       "      <td>0.440000</td>\n",
       "      <td>168.220000</td>\n",
       "    </tr>\n",
       "    <tr>\n",
       "      <th>25%</th>\n",
       "      <td>34245.000000</td>\n",
       "      <td>328.000000</td>\n",
       "      <td>672.660000</td>\n",
       "      <td>1.020000</td>\n",
       "      <td>392.760000</td>\n",
       "    </tr>\n",
       "    <tr>\n",
       "      <th>50%</th>\n",
       "      <td>68332.000000</td>\n",
       "      <td>662.000000</td>\n",
       "      <td>899.600000</td>\n",
       "      <td>1.460000</td>\n",
       "      <td>562.140000</td>\n",
       "    </tr>\n",
       "    <tr>\n",
       "      <th>75%</th>\n",
       "      <td>101679.000000</td>\n",
       "      <td>1009.000000</td>\n",
       "      <td>1222.240000</td>\n",
       "      <td>1.760000</td>\n",
       "      <td>676.530000</td>\n",
       "    </tr>\n",
       "    <tr>\n",
       "      <th>max</th>\n",
       "      <td>135943.000000</td>\n",
       "      <td>1339.000000</td>\n",
       "      <td>1754.170000</td>\n",
       "      <td>2.440000</td>\n",
       "      <td>937.770000</td>\n",
       "    </tr>\n",
       "  </tbody>\n",
       "</table>\n",
       "</div>"
      ],
      "text/plain": [
       "          travelCode       userCode          price           time  \\\n",
       "count  190321.000000  190321.000000  190321.000000  190321.000000   \n",
       "mean    67919.412272     667.159567     955.601391       1.418343   \n",
       "std     39051.352769     387.624777     362.432241       0.543563   \n",
       "min         0.000000       0.000000     301.510000       0.440000   \n",
       "25%     34245.000000     328.000000     672.660000       1.020000   \n",
       "50%     68332.000000     662.000000     899.600000       1.460000   \n",
       "75%    101679.000000    1009.000000    1222.240000       1.760000   \n",
       "max    135943.000000    1339.000000    1754.170000       2.440000   \n",
       "\n",
       "            distance  \n",
       "count  190321.000000  \n",
       "mean      545.875221  \n",
       "std       209.246707  \n",
       "min       168.220000  \n",
       "25%       392.760000  \n",
       "50%       562.140000  \n",
       "75%       676.530000  \n",
       "max       937.770000  "
      ]
     },
     "execution_count": 30,
     "metadata": {},
     "output_type": "execute_result"
    }
   ],
   "source": [
    "bronze_train_df.describe()"
   ]
  },
  {
   "cell_type": "code",
   "execution_count": 31,
   "metadata": {},
   "outputs": [
    {
     "data": {
      "application/vnd.microsoft.datawrangler.viewer.v0+json": {
       "columns": [
        {
         "name": "index",
         "rawType": "object",
         "type": "string"
        },
        {
         "name": "from",
         "rawType": "object",
         "type": "unknown"
        },
        {
         "name": "to",
         "rawType": "object",
         "type": "unknown"
        },
        {
         "name": "flightType",
         "rawType": "object",
         "type": "unknown"
        },
        {
         "name": "agency",
         "rawType": "object",
         "type": "unknown"
        },
        {
         "name": "date",
         "rawType": "object",
         "type": "unknown"
        }
       ],
       "ref": "82f76f5d-151a-460f-9599-d21336f7e778",
       "rows": [
        [
         "count",
         "190321",
         "190321",
         "190321",
         "190321",
         "190321"
        ],
        [
         "unique",
         "9",
         "9",
         "3",
         "3",
         "461"
        ],
        [
         "top",
         "Florianopolis (SC)",
         "Florianopolis (SC)",
         "firstClass",
         "Rainbow",
         "2019-09-26"
        ],
        [
         "freq",
         "39868",
         "39737",
         "81242",
         "81741",
         "1335"
        ]
       ],
       "shape": {
        "columns": 5,
        "rows": 4
       }
      },
      "text/html": [
       "<div>\n",
       "<style scoped>\n",
       "    .dataframe tbody tr th:only-of-type {\n",
       "        vertical-align: middle;\n",
       "    }\n",
       "\n",
       "    .dataframe tbody tr th {\n",
       "        vertical-align: top;\n",
       "    }\n",
       "\n",
       "    .dataframe thead th {\n",
       "        text-align: right;\n",
       "    }\n",
       "</style>\n",
       "<table border=\"1\" class=\"dataframe\">\n",
       "  <thead>\n",
       "    <tr style=\"text-align: right;\">\n",
       "      <th></th>\n",
       "      <th>from</th>\n",
       "      <th>to</th>\n",
       "      <th>flightType</th>\n",
       "      <th>agency</th>\n",
       "      <th>date</th>\n",
       "    </tr>\n",
       "  </thead>\n",
       "  <tbody>\n",
       "    <tr>\n",
       "      <th>count</th>\n",
       "      <td>190321</td>\n",
       "      <td>190321</td>\n",
       "      <td>190321</td>\n",
       "      <td>190321</td>\n",
       "      <td>190321</td>\n",
       "    </tr>\n",
       "    <tr>\n",
       "      <th>unique</th>\n",
       "      <td>9</td>\n",
       "      <td>9</td>\n",
       "      <td>3</td>\n",
       "      <td>3</td>\n",
       "      <td>461</td>\n",
       "    </tr>\n",
       "    <tr>\n",
       "      <th>top</th>\n",
       "      <td>Florianopolis (SC)</td>\n",
       "      <td>Florianopolis (SC)</td>\n",
       "      <td>firstClass</td>\n",
       "      <td>Rainbow</td>\n",
       "      <td>2019-09-26</td>\n",
       "    </tr>\n",
       "    <tr>\n",
       "      <th>freq</th>\n",
       "      <td>39868</td>\n",
       "      <td>39737</td>\n",
       "      <td>81242</td>\n",
       "      <td>81741</td>\n",
       "      <td>1335</td>\n",
       "    </tr>\n",
       "  </tbody>\n",
       "</table>\n",
       "</div>"
      ],
      "text/plain": [
       "                      from                  to  flightType   agency  \\\n",
       "count               190321              190321      190321   190321   \n",
       "unique                   9                   9           3        3   \n",
       "top     Florianopolis (SC)  Florianopolis (SC)  firstClass  Rainbow   \n",
       "freq                 39868               39737       81242    81741   \n",
       "\n",
       "              date  \n",
       "count       190321  \n",
       "unique         461  \n",
       "top     2019-09-26  \n",
       "freq          1335  "
      ]
     },
     "execution_count": 31,
     "metadata": {},
     "output_type": "execute_result"
    }
   ],
   "source": [
    "bronze_train_df.describe(include=\"object\")"
   ]
  },
  {
   "cell_type": "code",
   "execution_count": 32,
   "metadata": {},
   "outputs": [
    {
     "data": {
      "application/vnd.microsoft.datawrangler.viewer.v0+json": {
       "columns": [
        {
         "name": "index",
         "rawType": "object",
         "type": "string"
        },
        {
         "name": "0",
         "rawType": "int64",
         "type": "integer"
        }
       ],
       "ref": "d0adadc6-846d-4aa8-8435-00c875d23921",
       "rows": [
        [
         "travelCode",
         "95430"
        ],
        [
         "userCode",
         "1335"
        ],
        [
         "from",
         "9"
        ],
        [
         "to",
         "9"
        ],
        [
         "flightType",
         "3"
        ],
        [
         "price",
         "490"
        ],
        [
         "time",
         "33"
        ],
        [
         "distance",
         "35"
        ],
        [
         "agency",
         "3"
        ],
        [
         "date",
         "461"
        ]
       ],
       "shape": {
        "columns": 1,
        "rows": 10
       }
      },
      "text/plain": [
       "travelCode    95430\n",
       "userCode       1335\n",
       "from              9\n",
       "to                9\n",
       "flightType        3\n",
       "price           490\n",
       "time             33\n",
       "distance         35\n",
       "agency            3\n",
       "date            461\n",
       "dtype: int64"
      ]
     },
     "execution_count": 32,
     "metadata": {},
     "output_type": "execute_result"
    }
   ],
   "source": [
    "bronze_train_df.nunique()"
   ]
  },
  {
   "cell_type": "markdown",
   "metadata": {},
   "source": [
    "### Bronze Pipeline Verification\n",
    "The `bronze_pipeline.py` is mainly responsible for data validation. It checks for:\n",
    "- Column presence and order.\n",
    "- Data types.\n",
    "Since the bronze data is just a validated version of the raw data, we don't expect to see significant changes in the data itself, but we can be more confident in its quality."
   ]
  },
  {
   "cell_type": "markdown",
   "metadata": {},
   "source": [
    "## 3. Silver Data Analysis"
   ]
  },
  {
   "cell_type": "code",
   "execution_count": 33,
   "metadata": {},
   "outputs": [
    {
     "data": {
      "application/vnd.microsoft.datawrangler.viewer.v0+json": {
       "columns": [
        {
         "name": "index",
         "rawType": "int64",
         "type": "integer"
        },
        {
         "name": "travel_code",
         "rawType": "int32",
         "type": "integer"
        },
        {
         "name": "user_code",
         "rawType": "int16",
         "type": "integer"
        },
        {
         "name": "from_location",
         "rawType": "category",
         "type": "unknown"
        },
        {
         "name": "to_location",
         "rawType": "category",
         "type": "unknown"
        },
        {
         "name": "flight_type",
         "rawType": "category",
         "type": "unknown"
        },
        {
         "name": "price",
         "rawType": "float32",
         "type": "float"
        },
        {
         "name": "time",
         "rawType": "float32",
         "type": "float"
        },
        {
         "name": "distance",
         "rawType": "float32",
         "type": "float"
        },
        {
         "name": "agency",
         "rawType": "category",
         "type": "unknown"
        },
        {
         "name": "date",
         "rawType": "datetime64[ns]",
         "type": "datetime"
        },
        {
         "name": "year",
         "rawType": "int16",
         "type": "integer"
        },
        {
         "name": "month",
         "rawType": "int8",
         "type": "integer"
        },
        {
         "name": "day",
         "rawType": "int8",
         "type": "integer"
        },
        {
         "name": "day_of_week",
         "rawType": "int8",
         "type": "integer"
        },
        {
         "name": "day_of_year",
         "rawType": "int16",
         "type": "integer"
        },
        {
         "name": "week_of_year",
         "rawType": "int32",
         "type": "integer"
        }
       ],
       "ref": "930541c5-a23f-44a7-878b-734df5af2fb4",
       "rows": [
        [
         "0",
         "0",
         "0",
         "Recife (PE)",
         "Florianopolis (SC)",
         "firstClass",
         "1434.38",
         "1.76",
         "676.53",
         "FlyingDrops",
         "2019-09-26 00:00:00",
         "2019",
         "9",
         "26",
         "3",
         "269",
         "39"
        ],
        [
         "1",
         "121138",
         "1202",
         "Florianopolis (SC)",
         "Natal (RN)",
         "firstClass",
         "1315.27",
         "1.84",
         "709.37",
         "CloudFy",
         "2019-09-26 00:00:00",
         "2019",
         "9",
         "26",
         "3",
         "269",
         "39"
        ],
        [
         "2",
         "132076",
         "1301",
         "Florianopolis (SC)",
         "Salvador (BH)",
         "premium",
         "1311.38",
         "2.44",
         "937.77",
         "CloudFy",
         "2019-09-26 00:00:00",
         "2019",
         "9",
         "26",
         "3",
         "269",
         "39"
        ],
        [
         "3",
         "28904",
         "276",
         "Recife (PE)",
         "Rio de Janeiro (RJ)",
         "economic",
         "908.93",
         "2.3",
         "885.57",
         "Rainbow",
         "2019-09-26 00:00:00",
         "2019",
         "9",
         "26",
         "3",
         "269",
         "39"
        ],
        [
         "4",
         "88695",
         "877",
         "Aracaju (SE)",
         "Natal (RN)",
         "firstClass",
         "598.61",
         "0.46",
         "176.33",
         "CloudFy",
         "2019-09-26 00:00:00",
         "2019",
         "9",
         "26",
         "3",
         "269",
         "39"
        ]
       ],
       "shape": {
        "columns": 16,
        "rows": 5
       }
      },
      "text/html": [
       "<div>\n",
       "<style scoped>\n",
       "    .dataframe tbody tr th:only-of-type {\n",
       "        vertical-align: middle;\n",
       "    }\n",
       "\n",
       "    .dataframe tbody tr th {\n",
       "        vertical-align: top;\n",
       "    }\n",
       "\n",
       "    .dataframe thead th {\n",
       "        text-align: right;\n",
       "    }\n",
       "</style>\n",
       "<table border=\"1\" class=\"dataframe\">\n",
       "  <thead>\n",
       "    <tr style=\"text-align: right;\">\n",
       "      <th></th>\n",
       "      <th>travel_code</th>\n",
       "      <th>user_code</th>\n",
       "      <th>from_location</th>\n",
       "      <th>to_location</th>\n",
       "      <th>flight_type</th>\n",
       "      <th>price</th>\n",
       "      <th>time</th>\n",
       "      <th>distance</th>\n",
       "      <th>agency</th>\n",
       "      <th>date</th>\n",
       "      <th>year</th>\n",
       "      <th>month</th>\n",
       "      <th>day</th>\n",
       "      <th>day_of_week</th>\n",
       "      <th>day_of_year</th>\n",
       "      <th>week_of_year</th>\n",
       "    </tr>\n",
       "  </thead>\n",
       "  <tbody>\n",
       "    <tr>\n",
       "      <th>0</th>\n",
       "      <td>0</td>\n",
       "      <td>0</td>\n",
       "      <td>Recife (PE)</td>\n",
       "      <td>Florianopolis (SC)</td>\n",
       "      <td>firstClass</td>\n",
       "      <td>1434.380005</td>\n",
       "      <td>1.76</td>\n",
       "      <td>676.530029</td>\n",
       "      <td>FlyingDrops</td>\n",
       "      <td>2019-09-26</td>\n",
       "      <td>2019</td>\n",
       "      <td>9</td>\n",
       "      <td>26</td>\n",
       "      <td>3</td>\n",
       "      <td>269</td>\n",
       "      <td>39</td>\n",
       "    </tr>\n",
       "    <tr>\n",
       "      <th>1</th>\n",
       "      <td>121138</td>\n",
       "      <td>1202</td>\n",
       "      <td>Florianopolis (SC)</td>\n",
       "      <td>Natal (RN)</td>\n",
       "      <td>firstClass</td>\n",
       "      <td>1315.270020</td>\n",
       "      <td>1.84</td>\n",
       "      <td>709.369995</td>\n",
       "      <td>CloudFy</td>\n",
       "      <td>2019-09-26</td>\n",
       "      <td>2019</td>\n",
       "      <td>9</td>\n",
       "      <td>26</td>\n",
       "      <td>3</td>\n",
       "      <td>269</td>\n",
       "      <td>39</td>\n",
       "    </tr>\n",
       "    <tr>\n",
       "      <th>2</th>\n",
       "      <td>132076</td>\n",
       "      <td>1301</td>\n",
       "      <td>Florianopolis (SC)</td>\n",
       "      <td>Salvador (BH)</td>\n",
       "      <td>premium</td>\n",
       "      <td>1311.380005</td>\n",
       "      <td>2.44</td>\n",
       "      <td>937.770020</td>\n",
       "      <td>CloudFy</td>\n",
       "      <td>2019-09-26</td>\n",
       "      <td>2019</td>\n",
       "      <td>9</td>\n",
       "      <td>26</td>\n",
       "      <td>3</td>\n",
       "      <td>269</td>\n",
       "      <td>39</td>\n",
       "    </tr>\n",
       "    <tr>\n",
       "      <th>3</th>\n",
       "      <td>28904</td>\n",
       "      <td>276</td>\n",
       "      <td>Recife (PE)</td>\n",
       "      <td>Rio de Janeiro (RJ)</td>\n",
       "      <td>economic</td>\n",
       "      <td>908.929993</td>\n",
       "      <td>2.30</td>\n",
       "      <td>885.570007</td>\n",
       "      <td>Rainbow</td>\n",
       "      <td>2019-09-26</td>\n",
       "      <td>2019</td>\n",
       "      <td>9</td>\n",
       "      <td>26</td>\n",
       "      <td>3</td>\n",
       "      <td>269</td>\n",
       "      <td>39</td>\n",
       "    </tr>\n",
       "    <tr>\n",
       "      <th>4</th>\n",
       "      <td>88695</td>\n",
       "      <td>877</td>\n",
       "      <td>Aracaju (SE)</td>\n",
       "      <td>Natal (RN)</td>\n",
       "      <td>firstClass</td>\n",
       "      <td>598.609985</td>\n",
       "      <td>0.46</td>\n",
       "      <td>176.330002</td>\n",
       "      <td>CloudFy</td>\n",
       "      <td>2019-09-26</td>\n",
       "      <td>2019</td>\n",
       "      <td>9</td>\n",
       "      <td>26</td>\n",
       "      <td>3</td>\n",
       "      <td>269</td>\n",
       "      <td>39</td>\n",
       "    </tr>\n",
       "  </tbody>\n",
       "</table>\n",
       "</div>"
      ],
      "text/plain": [
       "   travel_code  user_code       from_location          to_location  \\\n",
       "0            0          0         Recife (PE)   Florianopolis (SC)   \n",
       "1       121138       1202  Florianopolis (SC)           Natal (RN)   \n",
       "2       132076       1301  Florianopolis (SC)        Salvador (BH)   \n",
       "3        28904        276         Recife (PE)  Rio de Janeiro (RJ)   \n",
       "4        88695        877        Aracaju (SE)           Natal (RN)   \n",
       "\n",
       "  flight_type        price  time    distance       agency       date  year  \\\n",
       "0  firstClass  1434.380005  1.76  676.530029  FlyingDrops 2019-09-26  2019   \n",
       "1  firstClass  1315.270020  1.84  709.369995      CloudFy 2019-09-26  2019   \n",
       "2     premium  1311.380005  2.44  937.770020      CloudFy 2019-09-26  2019   \n",
       "3    economic   908.929993  2.30  885.570007      Rainbow 2019-09-26  2019   \n",
       "4  firstClass   598.609985  0.46  176.330002      CloudFy 2019-09-26  2019   \n",
       "\n",
       "   month  day  day_of_week  day_of_year  week_of_year  \n",
       "0      9   26            3          269            39  \n",
       "1      9   26            3          269            39  \n",
       "2      9   26            3          269            39  \n",
       "3      9   26            3          269            39  \n",
       "4      9   26            3          269            39  "
      ]
     },
     "execution_count": 33,
     "metadata": {},
     "output_type": "execute_result"
    }
   ],
   "source": [
    "silver_train_df = pd.read_parquet(config_silver.SILVER_PROCESSED_DIR / \"train.parquet\")\n",
    "silver_train_df.head()"
   ]
  },
  {
   "cell_type": "code",
   "execution_count": 34,
   "metadata": {},
   "outputs": [
    {
     "name": "stdout",
     "output_type": "stream",
     "text": [
      "<class 'pandas.core.frame.DataFrame'>\n",
      "RangeIndex: 190321 entries, 0 to 190320\n",
      "Data columns (total 16 columns):\n",
      " #   Column         Non-Null Count   Dtype         \n",
      "---  ------         --------------   -----         \n",
      " 0   travel_code    190321 non-null  int32         \n",
      " 1   user_code      190321 non-null  int16         \n",
      " 2   from_location  190321 non-null  category      \n",
      " 3   to_location    190321 non-null  category      \n",
      " 4   flight_type    190321 non-null  category      \n",
      " 5   price          190321 non-null  float32       \n",
      " 6   time           190321 non-null  float32       \n",
      " 7   distance       190321 non-null  float32       \n",
      " 8   agency         190321 non-null  category      \n",
      " 9   date           190321 non-null  datetime64[ns]\n",
      " 10  year           190321 non-null  int16         \n",
      " 11  month          190321 non-null  int8          \n",
      " 12  day            190321 non-null  int8          \n",
      " 13  day_of_week    190321 non-null  int8          \n",
      " 14  day_of_year    190321 non-null  int16         \n",
      " 15  week_of_year   190321 non-null  int32         \n",
      "dtypes: category(4), datetime64[ns](1), float32(3), int16(3), int32(2), int8(3)\n",
      "memory usage: 7.4 MB\n"
     ]
    }
   ],
   "source": [
    "silver_train_df.info()"
   ]
  },
  {
   "cell_type": "code",
   "execution_count": 35,
   "metadata": {},
   "outputs": [
    {
     "data": {
      "application/vnd.microsoft.datawrangler.viewer.v0+json": {
       "columns": [
        {
         "name": "index",
         "rawType": "object",
         "type": "string"
        },
        {
         "name": "travel_code",
         "rawType": "float64",
         "type": "float"
        },
        {
         "name": "user_code",
         "rawType": "float64",
         "type": "float"
        },
        {
         "name": "price",
         "rawType": "float64",
         "type": "float"
        },
        {
         "name": "time",
         "rawType": "float64",
         "type": "float"
        },
        {
         "name": "distance",
         "rawType": "float64",
         "type": "float"
        },
        {
         "name": "date",
         "rawType": "object",
         "type": "unknown"
        },
        {
         "name": "year",
         "rawType": "float64",
         "type": "float"
        },
        {
         "name": "month",
         "rawType": "float64",
         "type": "float"
        },
        {
         "name": "day",
         "rawType": "float64",
         "type": "float"
        },
        {
         "name": "day_of_week",
         "rawType": "float64",
         "type": "float"
        },
        {
         "name": "day_of_year",
         "rawType": "float64",
         "type": "float"
        },
        {
         "name": "week_of_year",
         "rawType": "float64",
         "type": "float"
        }
       ],
       "ref": "3327b66f-00e0-4793-9ee7-6f8d380db6fc",
       "rows": [
        [
         "count",
         "190321.0",
         "190321.0",
         "190321.0",
         "190321.0",
         "190321.0",
         "190321",
         "190321.0",
         "190321.0",
         "190321.0",
         "190321.0",
         "190321.0",
         "190321.0"
        ],
        [
         "mean",
         "67919.41227189853",
         "667.159567257423",
         "955.6013793945312",
         "1.4183430671691895",
         "545.875244140625",
         "2020-07-11 06:14:53.299215872",
         "2020.032040605083",
         "6.449950347045255",
         "15.853079796764414",
         "3.373122251354291",
         "181.34523778248328",
         "26.484938603727386"
        ],
        [
         "min",
         "0.0",
         "0.0",
         "301.510009765625",
         "0.4399999976158142",
         "168.22000122070312",
         "2019-09-26 00:00:00",
         "2019.0",
         "1.0",
         "1.0",
         "0.0",
         "1.0",
         "1.0"
        ],
        [
         "25%",
         "34245.0",
         "328.0",
         "672.6599731445312",
         "1.0199999809265137",
         "392.760009765625",
         "2020-02-02 00:00:00",
         "2020.0",
         "3.0",
         "8.0",
         "3.0",
         "80.0",
         "12.0"
        ],
        [
         "50%",
         "68332.0",
         "662.0",
         "899.5999755859375",
         "1.4600000381469727",
         "562.1400146484375",
         "2020-06-26 00:00:00",
         "2020.0",
         "6.0",
         "16.0",
         "3.0",
         "168.0",
         "24.0"
        ],
        [
         "75%",
         "101679.0",
         "1009.0",
         "1222.239990234375",
         "1.7599999904632568",
         "676.530029296875",
         "2020-12-10 00:00:00",
         "2020.0",
         "10.0",
         "24.0",
         "4.0",
         "290.0",
         "42.0"
        ],
        [
         "max",
         "135943.0",
         "1339.0",
         "1754.1700439453125",
         "2.440000057220459",
         "937.77001953125",
         "2021-07-01 00:00:00",
         "2021.0",
         "12.0",
         "31.0",
         "6.0",
         "366.0",
         "53.0"
        ],
        [
         "std",
         "39051.35276859851",
         "387.62477743381083",
         "362.42645263671875",
         "0.5434548854827881",
         "209.2086639404297",
         null,
         "0.6383540417921405",
         "3.6730528536654035",
         "8.843703162754972",
         "1.653324808139473",
         "112.40368993668412",
         "16.158774568885537"
        ]
       ],
       "shape": {
        "columns": 12,
        "rows": 8
       }
      },
      "text/html": [
       "<div>\n",
       "<style scoped>\n",
       "    .dataframe tbody tr th:only-of-type {\n",
       "        vertical-align: middle;\n",
       "    }\n",
       "\n",
       "    .dataframe tbody tr th {\n",
       "        vertical-align: top;\n",
       "    }\n",
       "\n",
       "    .dataframe thead th {\n",
       "        text-align: right;\n",
       "    }\n",
       "</style>\n",
       "<table border=\"1\" class=\"dataframe\">\n",
       "  <thead>\n",
       "    <tr style=\"text-align: right;\">\n",
       "      <th></th>\n",
       "      <th>travel_code</th>\n",
       "      <th>user_code</th>\n",
       "      <th>price</th>\n",
       "      <th>time</th>\n",
       "      <th>distance</th>\n",
       "      <th>date</th>\n",
       "      <th>year</th>\n",
       "      <th>month</th>\n",
       "      <th>day</th>\n",
       "      <th>day_of_week</th>\n",
       "      <th>day_of_year</th>\n",
       "      <th>week_of_year</th>\n",
       "    </tr>\n",
       "  </thead>\n",
       "  <tbody>\n",
       "    <tr>\n",
       "      <th>count</th>\n",
       "      <td>190321.000000</td>\n",
       "      <td>190321.000000</td>\n",
       "      <td>190321.000000</td>\n",
       "      <td>190321.000000</td>\n",
       "      <td>190321.000000</td>\n",
       "      <td>190321</td>\n",
       "      <td>190321.000000</td>\n",
       "      <td>190321.000000</td>\n",
       "      <td>190321.000000</td>\n",
       "      <td>190321.000000</td>\n",
       "      <td>190321.000000</td>\n",
       "      <td>190321.000000</td>\n",
       "    </tr>\n",
       "    <tr>\n",
       "      <th>mean</th>\n",
       "      <td>67919.412272</td>\n",
       "      <td>667.159567</td>\n",
       "      <td>955.601379</td>\n",
       "      <td>1.418343</td>\n",
       "      <td>545.875244</td>\n",
       "      <td>2020-07-11 06:14:53.299215872</td>\n",
       "      <td>2020.032041</td>\n",
       "      <td>6.449950</td>\n",
       "      <td>15.853080</td>\n",
       "      <td>3.373122</td>\n",
       "      <td>181.345238</td>\n",
       "      <td>26.484939</td>\n",
       "    </tr>\n",
       "    <tr>\n",
       "      <th>min</th>\n",
       "      <td>0.000000</td>\n",
       "      <td>0.000000</td>\n",
       "      <td>301.510010</td>\n",
       "      <td>0.440000</td>\n",
       "      <td>168.220001</td>\n",
       "      <td>2019-09-26 00:00:00</td>\n",
       "      <td>2019.000000</td>\n",
       "      <td>1.000000</td>\n",
       "      <td>1.000000</td>\n",
       "      <td>0.000000</td>\n",
       "      <td>1.000000</td>\n",
       "      <td>1.000000</td>\n",
       "    </tr>\n",
       "    <tr>\n",
       "      <th>25%</th>\n",
       "      <td>34245.000000</td>\n",
       "      <td>328.000000</td>\n",
       "      <td>672.659973</td>\n",
       "      <td>1.020000</td>\n",
       "      <td>392.760010</td>\n",
       "      <td>2020-02-02 00:00:00</td>\n",
       "      <td>2020.000000</td>\n",
       "      <td>3.000000</td>\n",
       "      <td>8.000000</td>\n",
       "      <td>3.000000</td>\n",
       "      <td>80.000000</td>\n",
       "      <td>12.000000</td>\n",
       "    </tr>\n",
       "    <tr>\n",
       "      <th>50%</th>\n",
       "      <td>68332.000000</td>\n",
       "      <td>662.000000</td>\n",
       "      <td>899.599976</td>\n",
       "      <td>1.460000</td>\n",
       "      <td>562.140015</td>\n",
       "      <td>2020-06-26 00:00:00</td>\n",
       "      <td>2020.000000</td>\n",
       "      <td>6.000000</td>\n",
       "      <td>16.000000</td>\n",
       "      <td>3.000000</td>\n",
       "      <td>168.000000</td>\n",
       "      <td>24.000000</td>\n",
       "    </tr>\n",
       "    <tr>\n",
       "      <th>75%</th>\n",
       "      <td>101679.000000</td>\n",
       "      <td>1009.000000</td>\n",
       "      <td>1222.239990</td>\n",
       "      <td>1.760000</td>\n",
       "      <td>676.530029</td>\n",
       "      <td>2020-12-10 00:00:00</td>\n",
       "      <td>2020.000000</td>\n",
       "      <td>10.000000</td>\n",
       "      <td>24.000000</td>\n",
       "      <td>4.000000</td>\n",
       "      <td>290.000000</td>\n",
       "      <td>42.000000</td>\n",
       "    </tr>\n",
       "    <tr>\n",
       "      <th>max</th>\n",
       "      <td>135943.000000</td>\n",
       "      <td>1339.000000</td>\n",
       "      <td>1754.170044</td>\n",
       "      <td>2.440000</td>\n",
       "      <td>937.770020</td>\n",
       "      <td>2021-07-01 00:00:00</td>\n",
       "      <td>2021.000000</td>\n",
       "      <td>12.000000</td>\n",
       "      <td>31.000000</td>\n",
       "      <td>6.000000</td>\n",
       "      <td>366.000000</td>\n",
       "      <td>53.000000</td>\n",
       "    </tr>\n",
       "    <tr>\n",
       "      <th>std</th>\n",
       "      <td>39051.352769</td>\n",
       "      <td>387.624777</td>\n",
       "      <td>362.426453</td>\n",
       "      <td>0.543455</td>\n",
       "      <td>209.208664</td>\n",
       "      <td>NaN</td>\n",
       "      <td>0.638354</td>\n",
       "      <td>3.673053</td>\n",
       "      <td>8.843703</td>\n",
       "      <td>1.653325</td>\n",
       "      <td>112.403690</td>\n",
       "      <td>16.158775</td>\n",
       "    </tr>\n",
       "  </tbody>\n",
       "</table>\n",
       "</div>"
      ],
      "text/plain": [
       "         travel_code      user_code          price           time  \\\n",
       "count  190321.000000  190321.000000  190321.000000  190321.000000   \n",
       "mean    67919.412272     667.159567     955.601379       1.418343   \n",
       "min         0.000000       0.000000     301.510010       0.440000   \n",
       "25%     34245.000000     328.000000     672.659973       1.020000   \n",
       "50%     68332.000000     662.000000     899.599976       1.460000   \n",
       "75%    101679.000000    1009.000000    1222.239990       1.760000   \n",
       "max    135943.000000    1339.000000    1754.170044       2.440000   \n",
       "std     39051.352769     387.624777     362.426453       0.543455   \n",
       "\n",
       "            distance                           date           year  \\\n",
       "count  190321.000000                         190321  190321.000000   \n",
       "mean      545.875244  2020-07-11 06:14:53.299215872    2020.032041   \n",
       "min       168.220001            2019-09-26 00:00:00    2019.000000   \n",
       "25%       392.760010            2020-02-02 00:00:00    2020.000000   \n",
       "50%       562.140015            2020-06-26 00:00:00    2020.000000   \n",
       "75%       676.530029            2020-12-10 00:00:00    2020.000000   \n",
       "max       937.770020            2021-07-01 00:00:00    2021.000000   \n",
       "std       209.208664                            NaN       0.638354   \n",
       "\n",
       "               month            day    day_of_week    day_of_year  \\\n",
       "count  190321.000000  190321.000000  190321.000000  190321.000000   \n",
       "mean        6.449950      15.853080       3.373122     181.345238   \n",
       "min         1.000000       1.000000       0.000000       1.000000   \n",
       "25%         3.000000       8.000000       3.000000      80.000000   \n",
       "50%         6.000000      16.000000       3.000000     168.000000   \n",
       "75%        10.000000      24.000000       4.000000     290.000000   \n",
       "max        12.000000      31.000000       6.000000     366.000000   \n",
       "std         3.673053       8.843703       1.653325     112.403690   \n",
       "\n",
       "        week_of_year  \n",
       "count  190321.000000  \n",
       "mean       26.484939  \n",
       "min         1.000000  \n",
       "25%        12.000000  \n",
       "50%        24.000000  \n",
       "75%        42.000000  \n",
       "max        53.000000  \n",
       "std        16.158775  "
      ]
     },
     "execution_count": 35,
     "metadata": {},
     "output_type": "execute_result"
    }
   ],
   "source": [
    "silver_train_df.describe()"
   ]
  },
  {
   "cell_type": "code",
   "execution_count": 36,
   "metadata": {},
   "outputs": [
    {
     "data": {
      "application/vnd.microsoft.datawrangler.viewer.v0+json": {
       "columns": [
        {
         "name": "index",
         "rawType": "object",
         "type": "string"
        },
        {
         "name": "from_location",
         "rawType": "object",
         "type": "unknown"
        },
        {
         "name": "to_location",
         "rawType": "object",
         "type": "unknown"
        },
        {
         "name": "flight_type",
         "rawType": "object",
         "type": "unknown"
        },
        {
         "name": "agency",
         "rawType": "object",
         "type": "unknown"
        }
       ],
       "ref": "8c8d3bf7-5584-4921-8cba-c925d6edfe96",
       "rows": [
        [
         "count",
         "190321",
         "190321",
         "190321",
         "190321"
        ],
        [
         "unique",
         "9",
         "9",
         "3",
         "3"
        ],
        [
         "top",
         "Florianopolis (SC)",
         "Florianopolis (SC)",
         "firstClass",
         "Rainbow"
        ],
        [
         "freq",
         "39868",
         "39737",
         "81242",
         "81741"
        ]
       ],
       "shape": {
        "columns": 4,
        "rows": 4
       }
      },
      "text/html": [
       "<div>\n",
       "<style scoped>\n",
       "    .dataframe tbody tr th:only-of-type {\n",
       "        vertical-align: middle;\n",
       "    }\n",
       "\n",
       "    .dataframe tbody tr th {\n",
       "        vertical-align: top;\n",
       "    }\n",
       "\n",
       "    .dataframe thead th {\n",
       "        text-align: right;\n",
       "    }\n",
       "</style>\n",
       "<table border=\"1\" class=\"dataframe\">\n",
       "  <thead>\n",
       "    <tr style=\"text-align: right;\">\n",
       "      <th></th>\n",
       "      <th>from_location</th>\n",
       "      <th>to_location</th>\n",
       "      <th>flight_type</th>\n",
       "      <th>agency</th>\n",
       "    </tr>\n",
       "  </thead>\n",
       "  <tbody>\n",
       "    <tr>\n",
       "      <th>count</th>\n",
       "      <td>190321</td>\n",
       "      <td>190321</td>\n",
       "      <td>190321</td>\n",
       "      <td>190321</td>\n",
       "    </tr>\n",
       "    <tr>\n",
       "      <th>unique</th>\n",
       "      <td>9</td>\n",
       "      <td>9</td>\n",
       "      <td>3</td>\n",
       "      <td>3</td>\n",
       "    </tr>\n",
       "    <tr>\n",
       "      <th>top</th>\n",
       "      <td>Florianopolis (SC)</td>\n",
       "      <td>Florianopolis (SC)</td>\n",
       "      <td>firstClass</td>\n",
       "      <td>Rainbow</td>\n",
       "    </tr>\n",
       "    <tr>\n",
       "      <th>freq</th>\n",
       "      <td>39868</td>\n",
       "      <td>39737</td>\n",
       "      <td>81242</td>\n",
       "      <td>81741</td>\n",
       "    </tr>\n",
       "  </tbody>\n",
       "</table>\n",
       "</div>"
      ],
      "text/plain": [
       "             from_location         to_location flight_type   agency\n",
       "count               190321              190321      190321   190321\n",
       "unique                   9                   9           3        3\n",
       "top     Florianopolis (SC)  Florianopolis (SC)  firstClass  Rainbow\n",
       "freq                 39868               39737       81242    81741"
      ]
     },
     "execution_count": 36,
     "metadata": {},
     "output_type": "execute_result"
    }
   ],
   "source": [
    "silver_train_df.describe(include=[\"object\", \"category\"])"
   ]
  },
  {
   "cell_type": "code",
   "execution_count": 37,
   "metadata": {},
   "outputs": [
    {
     "data": {
      "application/vnd.microsoft.datawrangler.viewer.v0+json": {
       "columns": [
        {
         "name": "index",
         "rawType": "object",
         "type": "string"
        },
        {
         "name": "0",
         "rawType": "int64",
         "type": "integer"
        }
       ],
       "ref": "3856ce6f-985a-4d36-91a7-4df10bfe64de",
       "rows": [
        [
         "travel_code",
         "95430"
        ],
        [
         "user_code",
         "1335"
        ],
        [
         "from_location",
         "9"
        ],
        [
         "to_location",
         "9"
        ],
        [
         "flight_type",
         "3"
        ],
        [
         "price",
         "490"
        ],
        [
         "time",
         "33"
        ],
        [
         "distance",
         "35"
        ],
        [
         "agency",
         "3"
        ],
        [
         "date",
         "461"
        ],
        [
         "year",
         "3"
        ],
        [
         "month",
         "12"
        ],
        [
         "day",
         "31"
        ],
        [
         "day_of_week",
         "5"
        ],
        [
         "day_of_year",
         "327"
        ],
        [
         "week_of_year",
         "53"
        ]
       ],
       "shape": {
        "columns": 1,
        "rows": 16
       }
      },
      "text/plain": [
       "travel_code      95430\n",
       "user_code         1335\n",
       "from_location        9\n",
       "to_location          9\n",
       "flight_type          3\n",
       "price              490\n",
       "time                33\n",
       "distance            35\n",
       "agency               3\n",
       "date               461\n",
       "year                 3\n",
       "month               12\n",
       "day                 31\n",
       "day_of_week          5\n",
       "day_of_year        327\n",
       "week_of_year        53\n",
       "dtype: int64"
      ]
     },
     "execution_count": 37,
     "metadata": {},
     "output_type": "execute_result"
    }
   ],
   "source": [
    "silver_train_df.nunique()"
   ]
  },
  {
   "cell_type": "markdown",
   "metadata": {},
   "source": [
    "### Silver Pipeline Verification\n",
    "The `silver_pipeline.py` performs several transformations:\n",
    "- **Column Renaming and Standardization**: Column names are now in snake_case.\n",
    "- **Data Type Optimization**: Data types have been optimized (e.g., `date` is now a datetime object).\n",
    "- **Feature Engineering**: New date-related features have been created (`year`, `month`, `day`, etc.).\n",
    "- **Duplicate Handling**: Erroneous duplicates have been removed.\n",
    "By comparing the silver data to the bronze data, we can verify that these transformations have been applied correctly."
   ]
  },
  {
   "cell_type": "markdown",
   "metadata": {},
   "source": [
    "## 4. Gold Data Analysis"
   ]
  },
  {
   "cell_type": "code",
   "execution_count": 29,
   "metadata": {},
   "outputs": [
    {
     "data": {
      "application/vnd.microsoft.datawrangler.viewer.v0+json": {
       "columns": [
        {
         "name": "index",
         "rawType": "int64",
         "type": "integer"
        },
        {
         "name": "from_location_aracaju_(se)",
         "rawType": "float64",
         "type": "float"
        },
        {
         "name": "from_location_brasilia_(df)",
         "rawType": "float64",
         "type": "float"
        },
        {
         "name": "from_location_campo_grande_(ms)",
         "rawType": "float64",
         "type": "float"
        },
        {
         "name": "from_location_florianopolis_(sc)",
         "rawType": "float64",
         "type": "float"
        },
        {
         "name": "from_location_natal_(rn)",
         "rawType": "float64",
         "type": "float"
        },
        {
         "name": "from_location_recife_(pe)",
         "rawType": "float64",
         "type": "float"
        },
        {
         "name": "from_location_rio_de_janeiro_(rj)",
         "rawType": "float64",
         "type": "float"
        },
        {
         "name": "from_location_salvador_(bh)",
         "rawType": "float64",
         "type": "float"
        },
        {
         "name": "from_location_sao_paulo_(sp)",
         "rawType": "float64",
         "type": "float"
        },
        {
         "name": "to_location_aracaju_(se)",
         "rawType": "float64",
         "type": "float"
        },
        {
         "name": "to_location_brasilia_(df)",
         "rawType": "float64",
         "type": "float"
        },
        {
         "name": "to_location_campo_grande_(ms)",
         "rawType": "float64",
         "type": "float"
        },
        {
         "name": "to_location_florianopolis_(sc)",
         "rawType": "float64",
         "type": "float"
        },
        {
         "name": "to_location_natal_(rn)",
         "rawType": "float64",
         "type": "float"
        },
        {
         "name": "to_location_recife_(pe)",
         "rawType": "float64",
         "type": "float"
        },
        {
         "name": "to_location_rio_de_janeiro_(rj)",
         "rawType": "float64",
         "type": "float"
        },
        {
         "name": "to_location_salvador_(bh)",
         "rawType": "float64",
         "type": "float"
        },
        {
         "name": "to_location_sao_paulo_(sp)",
         "rawType": "float64",
         "type": "float"
        },
        {
         "name": "agency_cloudfy",
         "rawType": "float64",
         "type": "float"
        },
        {
         "name": "agency_flyingdrops",
         "rawType": "float64",
         "type": "float"
        },
        {
         "name": "agency_rainbow",
         "rawType": "float64",
         "type": "float"
        },
        {
         "name": "route_aracaju_(se)_brasilia_(df)",
         "rawType": "float64",
         "type": "float"
        },
        {
         "name": "route_aracaju_(se)_campo_grande_(ms)",
         "rawType": "float64",
         "type": "float"
        },
        {
         "name": "route_aracaju_(se)_florianopolis_(sc)",
         "rawType": "float64",
         "type": "float"
        },
        {
         "name": "route_aracaju_(se)_natal_(rn)",
         "rawType": "float64",
         "type": "float"
        },
        {
         "name": "route_aracaju_(se)_recife_(pe)",
         "rawType": "float64",
         "type": "float"
        },
        {
         "name": "route_aracaju_(se)_sao_paulo_(sp)",
         "rawType": "float64",
         "type": "float"
        },
        {
         "name": "route_brasilia_(df)_aracaju_(se)",
         "rawType": "float64",
         "type": "float"
        },
        {
         "name": "route_brasilia_(df)_campo_grande_(ms)",
         "rawType": "float64",
         "type": "float"
        },
        {
         "name": "route_brasilia_(df)_florianopolis_(sc)",
         "rawType": "float64",
         "type": "float"
        },
        {
         "name": "route_brasilia_(df)_natal_(rn)",
         "rawType": "float64",
         "type": "float"
        },
        {
         "name": "route_brasilia_(df)_recife_(pe)",
         "rawType": "float64",
         "type": "float"
        },
        {
         "name": "route_brasilia_(df)_sao_paulo_(sp)",
         "rawType": "float64",
         "type": "float"
        },
        {
         "name": "route_campo_grande_(ms)_aracaju_(se)",
         "rawType": "float64",
         "type": "float"
        },
        {
         "name": "route_campo_grande_(ms)_brasilia_(df)",
         "rawType": "float64",
         "type": "float"
        },
        {
         "name": "route_campo_grande_(ms)_florianopolis_(sc)",
         "rawType": "float64",
         "type": "float"
        },
        {
         "name": "route_campo_grande_(ms)_natal_(rn)",
         "rawType": "float64",
         "type": "float"
        },
        {
         "name": "route_campo_grande_(ms)_recife_(pe)",
         "rawType": "float64",
         "type": "float"
        },
        {
         "name": "route_campo_grande_(ms)_sao_paulo_(sp)",
         "rawType": "float64",
         "type": "float"
        },
        {
         "name": "route_florianopolis_(sc)_aracaju_(se)",
         "rawType": "float64",
         "type": "float"
        },
        {
         "name": "route_florianopolis_(sc)_brasilia_(df)",
         "rawType": "float64",
         "type": "float"
        },
        {
         "name": "route_florianopolis_(sc)_campo_grande_(ms)",
         "rawType": "float64",
         "type": "float"
        },
        {
         "name": "route_florianopolis_(sc)_natal_(rn)",
         "rawType": "float64",
         "type": "float"
        },
        {
         "name": "route_florianopolis_(sc)_recife_(pe)",
         "rawType": "float64",
         "type": "float"
        },
        {
         "name": "route_florianopolis_(sc)_sao_paulo_(sp)",
         "rawType": "float64",
         "type": "float"
        },
        {
         "name": "route_natal_(rn)_aracaju_(se)",
         "rawType": "float64",
         "type": "float"
        },
        {
         "name": "route_natal_(rn)_brasilia_(df)",
         "rawType": "float64",
         "type": "float"
        },
        {
         "name": "route_natal_(rn)_campo_grande_(ms)",
         "rawType": "float64",
         "type": "float"
        },
        {
         "name": "route_natal_(rn)_florianopolis_(sc)",
         "rawType": "float64",
         "type": "float"
        },
        {
         "name": "route_natal_(rn)_recife_(pe)",
         "rawType": "float64",
         "type": "float"
        },
        {
         "name": "route_natal_(rn)_sao_paulo_(sp)",
         "rawType": "float64",
         "type": "float"
        },
        {
         "name": "route_other",
         "rawType": "float64",
         "type": "float"
        },
        {
         "name": "route_recife_(pe)_aracaju_(se)",
         "rawType": "float64",
         "type": "float"
        },
        {
         "name": "route_recife_(pe)_brasilia_(df)",
         "rawType": "float64",
         "type": "float"
        },
        {
         "name": "route_recife_(pe)_campo_grande_(ms)",
         "rawType": "float64",
         "type": "float"
        },
        {
         "name": "route_recife_(pe)_florianopolis_(sc)",
         "rawType": "float64",
         "type": "float"
        },
        {
         "name": "route_recife_(pe)_natal_(rn)",
         "rawType": "float64",
         "type": "float"
        },
        {
         "name": "route_recife_(pe)_sao_paulo_(sp)",
         "rawType": "float64",
         "type": "float"
        },
        {
         "name": "route_rio_de_janeiro_(rj)_aracaju_(se)",
         "rawType": "float64",
         "type": "float"
        },
        {
         "name": "route_rio_de_janeiro_(rj)_brasilia_(df)",
         "rawType": "float64",
         "type": "float"
        },
        {
         "name": "route_rio_de_janeiro_(rj)_campo_grande_(ms)",
         "rawType": "float64",
         "type": "float"
        },
        {
         "name": "route_rio_de_janeiro_(rj)_florianopolis_(sc)",
         "rawType": "float64",
         "type": "float"
        },
        {
         "name": "route_rio_de_janeiro_(rj)_recife_(pe)",
         "rawType": "float64",
         "type": "float"
        },
        {
         "name": "route_salvador_(bh)_aracaju_(se)",
         "rawType": "float64",
         "type": "float"
        },
        {
         "name": "route_salvador_(bh)_brasilia_(df)",
         "rawType": "float64",
         "type": "float"
        },
        {
         "name": "route_salvador_(bh)_campo_grande_(ms)",
         "rawType": "float64",
         "type": "float"
        },
        {
         "name": "route_salvador_(bh)_florianopolis_(sc)",
         "rawType": "float64",
         "type": "float"
        },
        {
         "name": "route_salvador_(bh)_recife_(pe)",
         "rawType": "float64",
         "type": "float"
        },
        {
         "name": "route_sao_paulo_(sp)_aracaju_(se)",
         "rawType": "float64",
         "type": "float"
        },
        {
         "name": "route_sao_paulo_(sp)_brasilia_(df)",
         "rawType": "float64",
         "type": "float"
        },
        {
         "name": "route_sao_paulo_(sp)_campo_grande_(ms)",
         "rawType": "float64",
         "type": "float"
        },
        {
         "name": "route_sao_paulo_(sp)_florianopolis_(sc)",
         "rawType": "float64",
         "type": "float"
        },
        {
         "name": "route_sao_paulo_(sp)_natal_(rn)",
         "rawType": "float64",
         "type": "float"
        },
        {
         "name": "route_sao_paulo_(sp)_recife_(pe)",
         "rawType": "float64",
         "type": "float"
        },
        {
         "name": "agency_flight_type_cloudfy_economic",
         "rawType": "float64",
         "type": "float"
        },
        {
         "name": "agency_flight_type_cloudfy_firstclass",
         "rawType": "float64",
         "type": "float"
        },
        {
         "name": "agency_flight_type_cloudfy_premium",
         "rawType": "float64",
         "type": "float"
        },
        {
         "name": "agency_flight_type_flyingdrops_firstclass",
         "rawType": "float64",
         "type": "float"
        },
        {
         "name": "agency_flight_type_rainbow_economic",
         "rawType": "float64",
         "type": "float"
        },
        {
         "name": "agency_flight_type_rainbow_firstclass",
         "rawType": "float64",
         "type": "float"
        },
        {
         "name": "agency_flight_type_rainbow_premium",
         "rawType": "float64",
         "type": "float"
        },
        {
         "name": "route_agency_aracaju_(se)_florianopolis_(sc)_cloudfy",
         "rawType": "float64",
         "type": "float"
        },
        {
         "name": "route_agency_aracaju_(se)_florianopolis_(sc)_rainbow",
         "rawType": "float64",
         "type": "float"
        },
        {
         "name": "route_agency_brasilia_(df)_florianopolis_(sc)_cloudfy",
         "rawType": "float64",
         "type": "float"
        },
        {
         "name": "route_agency_brasilia_(df)_florianopolis_(sc)_rainbow",
         "rawType": "float64",
         "type": "float"
        },
        {
         "name": "route_agency_campo_grande_(ms)_florianopolis_(sc)_cloudfy",
         "rawType": "float64",
         "type": "float"
        },
        {
         "name": "route_agency_campo_grande_(ms)_florianopolis_(sc)_rainbow",
         "rawType": "float64",
         "type": "float"
        },
        {
         "name": "route_agency_natal_(rn)_florianopolis_(sc)_cloudfy",
         "rawType": "float64",
         "type": "float"
        },
        {
         "name": "route_agency_natal_(rn)_florianopolis_(sc)_rainbow",
         "rawType": "float64",
         "type": "float"
        },
        {
         "name": "route_agency_other",
         "rawType": "float64",
         "type": "float"
        },
        {
         "name": "route_agency_recife_(pe)_florianopolis_(sc)_cloudfy",
         "rawType": "float64",
         "type": "float"
        },
        {
         "name": "route_agency_recife_(pe)_florianopolis_(sc)_rainbow",
         "rawType": "float64",
         "type": "float"
        },
        {
         "name": "route_agency_sao_paulo_(sp)_florianopolis_(sc)_cloudfy",
         "rawType": "float64",
         "type": "float"
        },
        {
         "name": "route_agency_sao_paulo_(sp)_florianopolis_(sc)_rainbow",
         "rawType": "float64",
         "type": "float"
        },
        {
         "name": "flight_type",
         "rawType": "float64",
         "type": "float"
        },
        {
         "name": "price",
         "rawType": "float64",
         "type": "float"
        },
        {
         "name": "time",
         "rawType": "float64",
         "type": "float"
        },
        {
         "name": "distance",
         "rawType": "float64",
         "type": "float"
        },
        {
         "name": "year",
         "rawType": "float64",
         "type": "float"
        },
        {
         "name": "month_sin",
         "rawType": "float64",
         "type": "float"
        },
        {
         "name": "month_cos",
         "rawType": "float64",
         "type": "float"
        },
        {
         "name": "day_of_week_sin",
         "rawType": "float64",
         "type": "float"
        },
        {
         "name": "day_of_week_cos",
         "rawType": "float64",
         "type": "float"
        },
        {
         "name": "day_sin",
         "rawType": "float64",
         "type": "float"
        },
        {
         "name": "day_cos",
         "rawType": "float64",
         "type": "float"
        }
       ],
       "ref": "f859c9a5-7b4e-45ff-88bd-b0a329100837",
       "rows": [
        [
         "0",
         "0.0",
         "0.0",
         "0.0",
         "0.0",
         "0.0",
         "1.0",
         "0.0",
         "0.0",
         "0.0",
         "0.0",
         "0.0",
         "0.0",
         "1.0",
         "0.0",
         "0.0",
         "0.0",
         "0.0",
         "0.0",
         "0.0",
         "1.0",
         "0.0",
         "0.0",
         "0.0",
         "0.0",
         "0.0",
         "0.0",
         "0.0",
         "0.0",
         "0.0",
         "0.0",
         "0.0",
         "0.0",
         "0.0",
         "0.0",
         "0.0",
         "0.0",
         "0.0",
         "0.0",
         "0.0",
         "0.0",
         "0.0",
         "0.0",
         "0.0",
         "0.0",
         "0.0",
         "0.0",
         "0.0",
         "0.0",
         "0.0",
         "0.0",
         "0.0",
         "0.0",
         "0.0",
         "0.0",
         "0.0",
         "1.0",
         "0.0",
         "0.0",
         "0.0",
         "0.0",
         "0.0",
         "0.0",
         "0.0",
         "0.0",
         "0.0",
         "0.0",
         "0.0",
         "0.0",
         "0.0",
         "0.0",
         "0.0",
         "0.0",
         "0.0",
         "0.0",
         "0.0",
         "0.0",
         "0.0",
         "1.0",
         "0.0",
         "0.0",
         "0.0",
         "0.0",
         "0.0",
         "0.0",
         "0.0",
         "0.0",
         "0.0",
         "0.0",
         "0.0",
         "1.0",
         "0.0",
         "0.0",
         "0.0",
         "0.0",
         "2.0",
         "1.2947995376940697",
         "0.74725008869311",
         "0.7482719185712282",
         "2019.0",
         "-1.0",
         "-1.8369701987210297e-16",
         "0.43388373911755823",
         "-0.900968867902419",
         "-0.848644257494751",
         "0.5289640103269624"
        ],
        [
         "1",
         "0.0",
         "0.0",
         "0.0",
         "1.0",
         "0.0",
         "0.0",
         "0.0",
         "0.0",
         "0.0",
         "0.0",
         "0.0",
         "0.0",
         "0.0",
         "1.0",
         "0.0",
         "0.0",
         "0.0",
         "0.0",
         "1.0",
         "0.0",
         "0.0",
         "0.0",
         "0.0",
         "0.0",
         "0.0",
         "0.0",
         "0.0",
         "0.0",
         "0.0",
         "0.0",
         "0.0",
         "0.0",
         "0.0",
         "0.0",
         "0.0",
         "0.0",
         "0.0",
         "0.0",
         "0.0",
         "0.0",
         "0.0",
         "0.0",
         "1.0",
         "0.0",
         "0.0",
         "0.0",
         "0.0",
         "0.0",
         "0.0",
         "0.0",
         "0.0",
         "0.0",
         "0.0",
         "0.0",
         "0.0",
         "0.0",
         "0.0",
         "0.0",
         "0.0",
         "0.0",
         "0.0",
         "0.0",
         "0.0",
         "0.0",
         "0.0",
         "0.0",
         "0.0",
         "0.0",
         "0.0",
         "0.0",
         "0.0",
         "0.0",
         "0.0",
         "0.0",
         "0.0",
         "1.0",
         "0.0",
         "0.0",
         "0.0",
         "0.0",
         "0.0",
         "0.0",
         "0.0",
         "0.0",
         "0.0",
         "0.0",
         "0.0",
         "0.0",
         "0.0",
         "1.0",
         "0.0",
         "0.0",
         "0.0",
         "0.0",
         "2.0",
         "1.0338976219194322",
         "0.8912175099431888",
         "0.8956372536800313",
         "2019.0",
         "-1.0",
         "-1.8369701987210297e-16",
         "0.43388373911755823",
         "-0.900968867902419",
         "-0.848644257494751",
         "0.5289640103269624"
        ],
        [
         "2",
         "0.0",
         "0.0",
         "0.0",
         "1.0",
         "0.0",
         "0.0",
         "0.0",
         "0.0",
         "0.0",
         "0.0",
         "0.0",
         "0.0",
         "0.0",
         "0.0",
         "0.0",
         "0.0",
         "1.0",
         "0.0",
         "1.0",
         "0.0",
         "0.0",
         "0.0",
         "0.0",
         "0.0",
         "0.0",
         "0.0",
         "0.0",
         "0.0",
         "0.0",
         "0.0",
         "0.0",
         "0.0",
         "0.0",
         "0.0",
         "0.0",
         "0.0",
         "0.0",
         "0.0",
         "0.0",
         "0.0",
         "0.0",
         "0.0",
         "0.0",
         "0.0",
         "0.0",
         "0.0",
         "0.0",
         "0.0",
         "0.0",
         "0.0",
         "0.0",
         "1.0",
         "0.0",
         "0.0",
         "0.0",
         "0.0",
         "0.0",
         "0.0",
         "0.0",
         "0.0",
         "0.0",
         "0.0",
         "0.0",
         "0.0",
         "0.0",
         "0.0",
         "0.0",
         "0.0",
         "0.0",
         "0.0",
         "0.0",
         "0.0",
         "0.0",
         "0.0",
         "0.0",
         "0.0",
         "1.0",
         "0.0",
         "0.0",
         "0.0",
         "0.0",
         "0.0",
         "0.0",
         "0.0",
         "0.0",
         "0.0",
         "0.0",
         "0.0",
         "0.0",
         "1.0",
         "0.0",
         "0.0",
         "0.0",
         "0.0",
         "1.0",
         "1.0251398986731164",
         "1.963483633664927",
         "1.8963179253247258",
         "2019.0",
         "-1.0",
         "-1.8369701987210297e-16",
         "0.43388373911755823",
         "-0.900968867902419",
         "-0.848644257494751",
         "0.5289640103269624"
        ],
        [
         "3",
         "0.0",
         "0.0",
         "0.0",
         "0.0",
         "0.0",
         "1.0",
         "0.0",
         "0.0",
         "0.0",
         "0.0",
         "0.0",
         "0.0",
         "0.0",
         "0.0",
         "0.0",
         "1.0",
         "0.0",
         "0.0",
         "0.0",
         "0.0",
         "1.0",
         "0.0",
         "0.0",
         "0.0",
         "0.0",
         "0.0",
         "0.0",
         "0.0",
         "0.0",
         "0.0",
         "0.0",
         "0.0",
         "0.0",
         "0.0",
         "0.0",
         "0.0",
         "0.0",
         "0.0",
         "0.0",
         "0.0",
         "0.0",
         "0.0",
         "0.0",
         "0.0",
         "0.0",
         "0.0",
         "0.0",
         "0.0",
         "0.0",
         "0.0",
         "0.0",
         "1.0",
         "0.0",
         "0.0",
         "0.0",
         "0.0",
         "0.0",
         "0.0",
         "0.0",
         "0.0",
         "0.0",
         "0.0",
         "0.0",
         "0.0",
         "0.0",
         "0.0",
         "0.0",
         "0.0",
         "0.0",
         "0.0",
         "0.0",
         "0.0",
         "0.0",
         "0.0",
         "0.0",
         "0.0",
         "0.0",
         "0.0",
         "1.0",
         "0.0",
         "0.0",
         "0.0",
         "0.0",
         "0.0",
         "0.0",
         "0.0",
         "0.0",
         "0.0",
         "0.0",
         "1.0",
         "0.0",
         "0.0",
         "0.0",
         "0.0",
         "0.0",
         "0.016546467201604253",
         "1.714398493405324",
         "1.6709942498937222",
         "2019.0",
         "-1.0",
         "-1.8369701987210297e-16",
         "0.43388373911755823",
         "-0.900968867902419",
         "-0.848644257494751",
         "0.5289640103269624"
        ],
        [
         "4",
         "1.0",
         "0.0",
         "0.0",
         "0.0",
         "0.0",
         "0.0",
         "0.0",
         "0.0",
         "0.0",
         "0.0",
         "0.0",
         "0.0",
         "0.0",
         "1.0",
         "0.0",
         "0.0",
         "0.0",
         "0.0",
         "1.0",
         "0.0",
         "0.0",
         "0.0",
         "0.0",
         "0.0",
         "1.0",
         "0.0",
         "0.0",
         "0.0",
         "0.0",
         "0.0",
         "0.0",
         "0.0",
         "0.0",
         "0.0",
         "0.0",
         "0.0",
         "0.0",
         "0.0",
         "0.0",
         "0.0",
         "0.0",
         "0.0",
         "0.0",
         "0.0",
         "0.0",
         "0.0",
         "0.0",
         "0.0",
         "0.0",
         "0.0",
         "0.0",
         "0.0",
         "0.0",
         "0.0",
         "0.0",
         "0.0",
         "0.0",
         "0.0",
         "0.0",
         "0.0",
         "0.0",
         "0.0",
         "0.0",
         "0.0",
         "0.0",
         "0.0",
         "0.0",
         "0.0",
         "0.0",
         "0.0",
         "0.0",
         "0.0",
         "0.0",
         "0.0",
         "0.0",
         "1.0",
         "0.0",
         "0.0",
         "0.0",
         "0.0",
         "0.0",
         "0.0",
         "0.0",
         "0.0",
         "0.0",
         "0.0",
         "0.0",
         "0.0",
         "0.0",
         "1.0",
         "0.0",
         "0.0",
         "0.0",
         "0.0",
         "2.0",
         "-0.9682550956113154",
         "-1.6358717136061278",
         "-1.681132490302953",
         "2019.0",
         "-1.0",
         "-1.8369701987210297e-16",
         "0.43388373911755823",
         "-0.900968867902419",
         "-0.848644257494751",
         "0.5289640103269624"
        ]
       ],
       "shape": {
        "columns": 105,
        "rows": 5
       }
      },
      "text/html": [
       "<div>\n",
       "<style scoped>\n",
       "    .dataframe tbody tr th:only-of-type {\n",
       "        vertical-align: middle;\n",
       "    }\n",
       "\n",
       "    .dataframe tbody tr th {\n",
       "        vertical-align: top;\n",
       "    }\n",
       "\n",
       "    .dataframe thead th {\n",
       "        text-align: right;\n",
       "    }\n",
       "</style>\n",
       "<table border=\"1\" class=\"dataframe\">\n",
       "  <thead>\n",
       "    <tr style=\"text-align: right;\">\n",
       "      <th></th>\n",
       "      <th>from_location_aracaju_(se)</th>\n",
       "      <th>from_location_brasilia_(df)</th>\n",
       "      <th>from_location_campo_grande_(ms)</th>\n",
       "      <th>from_location_florianopolis_(sc)</th>\n",
       "      <th>from_location_natal_(rn)</th>\n",
       "      <th>from_location_recife_(pe)</th>\n",
       "      <th>from_location_rio_de_janeiro_(rj)</th>\n",
       "      <th>from_location_salvador_(bh)</th>\n",
       "      <th>from_location_sao_paulo_(sp)</th>\n",
       "      <th>to_location_aracaju_(se)</th>\n",
       "      <th>...</th>\n",
       "      <th>price</th>\n",
       "      <th>time</th>\n",
       "      <th>distance</th>\n",
       "      <th>year</th>\n",
       "      <th>month_sin</th>\n",
       "      <th>month_cos</th>\n",
       "      <th>day_of_week_sin</th>\n",
       "      <th>day_of_week_cos</th>\n",
       "      <th>day_sin</th>\n",
       "      <th>day_cos</th>\n",
       "    </tr>\n",
       "  </thead>\n",
       "  <tbody>\n",
       "    <tr>\n",
       "      <th>0</th>\n",
       "      <td>0.0</td>\n",
       "      <td>0.0</td>\n",
       "      <td>0.0</td>\n",
       "      <td>0.0</td>\n",
       "      <td>0.0</td>\n",
       "      <td>1.0</td>\n",
       "      <td>0.0</td>\n",
       "      <td>0.0</td>\n",
       "      <td>0.0</td>\n",
       "      <td>0.0</td>\n",
       "      <td>...</td>\n",
       "      <td>1.294800</td>\n",
       "      <td>0.747250</td>\n",
       "      <td>0.748272</td>\n",
       "      <td>2019.0</td>\n",
       "      <td>-1.0</td>\n",
       "      <td>-1.836970e-16</td>\n",
       "      <td>0.433884</td>\n",
       "      <td>-0.900969</td>\n",
       "      <td>-0.848644</td>\n",
       "      <td>0.528964</td>\n",
       "    </tr>\n",
       "    <tr>\n",
       "      <th>1</th>\n",
       "      <td>0.0</td>\n",
       "      <td>0.0</td>\n",
       "      <td>0.0</td>\n",
       "      <td>1.0</td>\n",
       "      <td>0.0</td>\n",
       "      <td>0.0</td>\n",
       "      <td>0.0</td>\n",
       "      <td>0.0</td>\n",
       "      <td>0.0</td>\n",
       "      <td>0.0</td>\n",
       "      <td>...</td>\n",
       "      <td>1.033898</td>\n",
       "      <td>0.891218</td>\n",
       "      <td>0.895637</td>\n",
       "      <td>2019.0</td>\n",
       "      <td>-1.0</td>\n",
       "      <td>-1.836970e-16</td>\n",
       "      <td>0.433884</td>\n",
       "      <td>-0.900969</td>\n",
       "      <td>-0.848644</td>\n",
       "      <td>0.528964</td>\n",
       "    </tr>\n",
       "    <tr>\n",
       "      <th>2</th>\n",
       "      <td>0.0</td>\n",
       "      <td>0.0</td>\n",
       "      <td>0.0</td>\n",
       "      <td>1.0</td>\n",
       "      <td>0.0</td>\n",
       "      <td>0.0</td>\n",
       "      <td>0.0</td>\n",
       "      <td>0.0</td>\n",
       "      <td>0.0</td>\n",
       "      <td>0.0</td>\n",
       "      <td>...</td>\n",
       "      <td>1.025140</td>\n",
       "      <td>1.963484</td>\n",
       "      <td>1.896318</td>\n",
       "      <td>2019.0</td>\n",
       "      <td>-1.0</td>\n",
       "      <td>-1.836970e-16</td>\n",
       "      <td>0.433884</td>\n",
       "      <td>-0.900969</td>\n",
       "      <td>-0.848644</td>\n",
       "      <td>0.528964</td>\n",
       "    </tr>\n",
       "    <tr>\n",
       "      <th>3</th>\n",
       "      <td>0.0</td>\n",
       "      <td>0.0</td>\n",
       "      <td>0.0</td>\n",
       "      <td>0.0</td>\n",
       "      <td>0.0</td>\n",
       "      <td>1.0</td>\n",
       "      <td>0.0</td>\n",
       "      <td>0.0</td>\n",
       "      <td>0.0</td>\n",
       "      <td>0.0</td>\n",
       "      <td>...</td>\n",
       "      <td>0.016546</td>\n",
       "      <td>1.714398</td>\n",
       "      <td>1.670994</td>\n",
       "      <td>2019.0</td>\n",
       "      <td>-1.0</td>\n",
       "      <td>-1.836970e-16</td>\n",
       "      <td>0.433884</td>\n",
       "      <td>-0.900969</td>\n",
       "      <td>-0.848644</td>\n",
       "      <td>0.528964</td>\n",
       "    </tr>\n",
       "    <tr>\n",
       "      <th>4</th>\n",
       "      <td>1.0</td>\n",
       "      <td>0.0</td>\n",
       "      <td>0.0</td>\n",
       "      <td>0.0</td>\n",
       "      <td>0.0</td>\n",
       "      <td>0.0</td>\n",
       "      <td>0.0</td>\n",
       "      <td>0.0</td>\n",
       "      <td>0.0</td>\n",
       "      <td>0.0</td>\n",
       "      <td>...</td>\n",
       "      <td>-0.968255</td>\n",
       "      <td>-1.635872</td>\n",
       "      <td>-1.681132</td>\n",
       "      <td>2019.0</td>\n",
       "      <td>-1.0</td>\n",
       "      <td>-1.836970e-16</td>\n",
       "      <td>0.433884</td>\n",
       "      <td>-0.900969</td>\n",
       "      <td>-0.848644</td>\n",
       "      <td>0.528964</td>\n",
       "    </tr>\n",
       "  </tbody>\n",
       "</table>\n",
       "<p>5 rows × 105 columns</p>\n",
       "</div>"
      ],
      "text/plain": [
       "   from_location_aracaju_(se)  from_location_brasilia_(df)  \\\n",
       "0                         0.0                          0.0   \n",
       "1                         0.0                          0.0   \n",
       "2                         0.0                          0.0   \n",
       "3                         0.0                          0.0   \n",
       "4                         1.0                          0.0   \n",
       "\n",
       "   from_location_campo_grande_(ms)  from_location_florianopolis_(sc)  \\\n",
       "0                              0.0                               0.0   \n",
       "1                              0.0                               1.0   \n",
       "2                              0.0                               1.0   \n",
       "3                              0.0                               0.0   \n",
       "4                              0.0                               0.0   \n",
       "\n",
       "   from_location_natal_(rn)  from_location_recife_(pe)  \\\n",
       "0                       0.0                        1.0   \n",
       "1                       0.0                        0.0   \n",
       "2                       0.0                        0.0   \n",
       "3                       0.0                        1.0   \n",
       "4                       0.0                        0.0   \n",
       "\n",
       "   from_location_rio_de_janeiro_(rj)  from_location_salvador_(bh)  \\\n",
       "0                                0.0                          0.0   \n",
       "1                                0.0                          0.0   \n",
       "2                                0.0                          0.0   \n",
       "3                                0.0                          0.0   \n",
       "4                                0.0                          0.0   \n",
       "\n",
       "   from_location_sao_paulo_(sp)  to_location_aracaju_(se)  ...     price  \\\n",
       "0                           0.0                       0.0  ...  1.294800   \n",
       "1                           0.0                       0.0  ...  1.033898   \n",
       "2                           0.0                       0.0  ...  1.025140   \n",
       "3                           0.0                       0.0  ...  0.016546   \n",
       "4                           0.0                       0.0  ... -0.968255   \n",
       "\n",
       "       time  distance    year  month_sin     month_cos  day_of_week_sin  \\\n",
       "0  0.747250  0.748272  2019.0       -1.0 -1.836970e-16         0.433884   \n",
       "1  0.891218  0.895637  2019.0       -1.0 -1.836970e-16         0.433884   \n",
       "2  1.963484  1.896318  2019.0       -1.0 -1.836970e-16         0.433884   \n",
       "3  1.714398  1.670994  2019.0       -1.0 -1.836970e-16         0.433884   \n",
       "4 -1.635872 -1.681132  2019.0       -1.0 -1.836970e-16         0.433884   \n",
       "\n",
       "   day_of_week_cos   day_sin   day_cos  \n",
       "0        -0.900969 -0.848644  0.528964  \n",
       "1        -0.900969 -0.848644  0.528964  \n",
       "2        -0.900969 -0.848644  0.528964  \n",
       "3        -0.900969 -0.848644  0.528964  \n",
       "4        -0.900969 -0.848644  0.528964  \n",
       "\n",
       "[5 rows x 105 columns]"
      ]
     },
     "execution_count": 29,
     "metadata": {},
     "output_type": "execute_result"
    }
   ],
   "source": [
    "gold_train_df = pd.read_parquet(config_gold.GOLD_PROCESSED_DIR / \"train.parquet\")\n",
    "gold_train_df.head()"
   ]
  },
  {
   "cell_type": "code",
   "execution_count": 30,
   "metadata": {},
   "outputs": [
    {
     "name": "stdout",
     "output_type": "stream",
     "text": [
      "<class 'pandas.core.frame.DataFrame'>\n",
      "RangeIndex: 94742 entries, 0 to 94741\n",
      "Columns: 105 entries, from_location_aracaju_(se) to day_cos\n",
      "dtypes: float64(105)\n",
      "memory usage: 75.9 MB\n"
     ]
    }
   ],
   "source": [
    "gold_train_df.info()"
   ]
  },
  {
   "cell_type": "code",
   "execution_count": 31,
   "metadata": {},
   "outputs": [
    {
     "data": {
      "application/vnd.microsoft.datawrangler.viewer.v0+json": {
       "columns": [
        {
         "name": "index",
         "rawType": "object",
         "type": "string"
        },
        {
         "name": "from_location_aracaju_(se)",
         "rawType": "float64",
         "type": "float"
        },
        {
         "name": "from_location_brasilia_(df)",
         "rawType": "float64",
         "type": "float"
        },
        {
         "name": "from_location_campo_grande_(ms)",
         "rawType": "float64",
         "type": "float"
        },
        {
         "name": "from_location_florianopolis_(sc)",
         "rawType": "float64",
         "type": "float"
        },
        {
         "name": "from_location_natal_(rn)",
         "rawType": "float64",
         "type": "float"
        },
        {
         "name": "from_location_recife_(pe)",
         "rawType": "float64",
         "type": "float"
        },
        {
         "name": "from_location_rio_de_janeiro_(rj)",
         "rawType": "float64",
         "type": "float"
        },
        {
         "name": "from_location_salvador_(bh)",
         "rawType": "float64",
         "type": "float"
        },
        {
         "name": "from_location_sao_paulo_(sp)",
         "rawType": "float64",
         "type": "float"
        },
        {
         "name": "to_location_aracaju_(se)",
         "rawType": "float64",
         "type": "float"
        },
        {
         "name": "to_location_brasilia_(df)",
         "rawType": "float64",
         "type": "float"
        },
        {
         "name": "to_location_campo_grande_(ms)",
         "rawType": "float64",
         "type": "float"
        },
        {
         "name": "to_location_florianopolis_(sc)",
         "rawType": "float64",
         "type": "float"
        },
        {
         "name": "to_location_natal_(rn)",
         "rawType": "float64",
         "type": "float"
        },
        {
         "name": "to_location_recife_(pe)",
         "rawType": "float64",
         "type": "float"
        },
        {
         "name": "to_location_rio_de_janeiro_(rj)",
         "rawType": "float64",
         "type": "float"
        },
        {
         "name": "to_location_salvador_(bh)",
         "rawType": "float64",
         "type": "float"
        },
        {
         "name": "to_location_sao_paulo_(sp)",
         "rawType": "float64",
         "type": "float"
        },
        {
         "name": "agency_cloudfy",
         "rawType": "float64",
         "type": "float"
        },
        {
         "name": "agency_flyingdrops",
         "rawType": "float64",
         "type": "float"
        },
        {
         "name": "agency_rainbow",
         "rawType": "float64",
         "type": "float"
        },
        {
         "name": "route_aracaju_(se)_brasilia_(df)",
         "rawType": "float64",
         "type": "float"
        },
        {
         "name": "route_aracaju_(se)_campo_grande_(ms)",
         "rawType": "float64",
         "type": "float"
        },
        {
         "name": "route_aracaju_(se)_florianopolis_(sc)",
         "rawType": "float64",
         "type": "float"
        },
        {
         "name": "route_aracaju_(se)_natal_(rn)",
         "rawType": "float64",
         "type": "float"
        },
        {
         "name": "route_aracaju_(se)_recife_(pe)",
         "rawType": "float64",
         "type": "float"
        },
        {
         "name": "route_aracaju_(se)_sao_paulo_(sp)",
         "rawType": "float64",
         "type": "float"
        },
        {
         "name": "route_brasilia_(df)_aracaju_(se)",
         "rawType": "float64",
         "type": "float"
        },
        {
         "name": "route_brasilia_(df)_campo_grande_(ms)",
         "rawType": "float64",
         "type": "float"
        },
        {
         "name": "route_brasilia_(df)_florianopolis_(sc)",
         "rawType": "float64",
         "type": "float"
        },
        {
         "name": "route_brasilia_(df)_natal_(rn)",
         "rawType": "float64",
         "type": "float"
        },
        {
         "name": "route_brasilia_(df)_recife_(pe)",
         "rawType": "float64",
         "type": "float"
        },
        {
         "name": "route_brasilia_(df)_sao_paulo_(sp)",
         "rawType": "float64",
         "type": "float"
        },
        {
         "name": "route_campo_grande_(ms)_aracaju_(se)",
         "rawType": "float64",
         "type": "float"
        },
        {
         "name": "route_campo_grande_(ms)_brasilia_(df)",
         "rawType": "float64",
         "type": "float"
        },
        {
         "name": "route_campo_grande_(ms)_florianopolis_(sc)",
         "rawType": "float64",
         "type": "float"
        },
        {
         "name": "route_campo_grande_(ms)_natal_(rn)",
         "rawType": "float64",
         "type": "float"
        },
        {
         "name": "route_campo_grande_(ms)_recife_(pe)",
         "rawType": "float64",
         "type": "float"
        },
        {
         "name": "route_campo_grande_(ms)_sao_paulo_(sp)",
         "rawType": "float64",
         "type": "float"
        },
        {
         "name": "route_florianopolis_(sc)_aracaju_(se)",
         "rawType": "float64",
         "type": "float"
        },
        {
         "name": "route_florianopolis_(sc)_brasilia_(df)",
         "rawType": "float64",
         "type": "float"
        },
        {
         "name": "route_florianopolis_(sc)_campo_grande_(ms)",
         "rawType": "float64",
         "type": "float"
        },
        {
         "name": "route_florianopolis_(sc)_natal_(rn)",
         "rawType": "float64",
         "type": "float"
        },
        {
         "name": "route_florianopolis_(sc)_recife_(pe)",
         "rawType": "float64",
         "type": "float"
        },
        {
         "name": "route_florianopolis_(sc)_sao_paulo_(sp)",
         "rawType": "float64",
         "type": "float"
        },
        {
         "name": "route_natal_(rn)_aracaju_(se)",
         "rawType": "float64",
         "type": "float"
        },
        {
         "name": "route_natal_(rn)_brasilia_(df)",
         "rawType": "float64",
         "type": "float"
        },
        {
         "name": "route_natal_(rn)_campo_grande_(ms)",
         "rawType": "float64",
         "type": "float"
        },
        {
         "name": "route_natal_(rn)_florianopolis_(sc)",
         "rawType": "float64",
         "type": "float"
        },
        {
         "name": "route_natal_(rn)_recife_(pe)",
         "rawType": "float64",
         "type": "float"
        },
        {
         "name": "route_natal_(rn)_sao_paulo_(sp)",
         "rawType": "float64",
         "type": "float"
        },
        {
         "name": "route_other",
         "rawType": "float64",
         "type": "float"
        },
        {
         "name": "route_recife_(pe)_aracaju_(se)",
         "rawType": "float64",
         "type": "float"
        },
        {
         "name": "route_recife_(pe)_brasilia_(df)",
         "rawType": "float64",
         "type": "float"
        },
        {
         "name": "route_recife_(pe)_campo_grande_(ms)",
         "rawType": "float64",
         "type": "float"
        },
        {
         "name": "route_recife_(pe)_florianopolis_(sc)",
         "rawType": "float64",
         "type": "float"
        },
        {
         "name": "route_recife_(pe)_natal_(rn)",
         "rawType": "float64",
         "type": "float"
        },
        {
         "name": "route_recife_(pe)_sao_paulo_(sp)",
         "rawType": "float64",
         "type": "float"
        },
        {
         "name": "route_rio_de_janeiro_(rj)_aracaju_(se)",
         "rawType": "float64",
         "type": "float"
        },
        {
         "name": "route_rio_de_janeiro_(rj)_brasilia_(df)",
         "rawType": "float64",
         "type": "float"
        },
        {
         "name": "route_rio_de_janeiro_(rj)_campo_grande_(ms)",
         "rawType": "float64",
         "type": "float"
        },
        {
         "name": "route_rio_de_janeiro_(rj)_florianopolis_(sc)",
         "rawType": "float64",
         "type": "float"
        },
        {
         "name": "route_rio_de_janeiro_(rj)_recife_(pe)",
         "rawType": "float64",
         "type": "float"
        },
        {
         "name": "route_salvador_(bh)_aracaju_(se)",
         "rawType": "float64",
         "type": "float"
        },
        {
         "name": "route_salvador_(bh)_brasilia_(df)",
         "rawType": "float64",
         "type": "float"
        },
        {
         "name": "route_salvador_(bh)_campo_grande_(ms)",
         "rawType": "float64",
         "type": "float"
        },
        {
         "name": "route_salvador_(bh)_florianopolis_(sc)",
         "rawType": "float64",
         "type": "float"
        },
        {
         "name": "route_salvador_(bh)_recife_(pe)",
         "rawType": "float64",
         "type": "float"
        },
        {
         "name": "route_sao_paulo_(sp)_aracaju_(se)",
         "rawType": "float64",
         "type": "float"
        },
        {
         "name": "route_sao_paulo_(sp)_brasilia_(df)",
         "rawType": "float64",
         "type": "float"
        },
        {
         "name": "route_sao_paulo_(sp)_campo_grande_(ms)",
         "rawType": "float64",
         "type": "float"
        },
        {
         "name": "route_sao_paulo_(sp)_florianopolis_(sc)",
         "rawType": "float64",
         "type": "float"
        },
        {
         "name": "route_sao_paulo_(sp)_natal_(rn)",
         "rawType": "float64",
         "type": "float"
        },
        {
         "name": "route_sao_paulo_(sp)_recife_(pe)",
         "rawType": "float64",
         "type": "float"
        },
        {
         "name": "agency_flight_type_cloudfy_economic",
         "rawType": "float64",
         "type": "float"
        },
        {
         "name": "agency_flight_type_cloudfy_firstclass",
         "rawType": "float64",
         "type": "float"
        },
        {
         "name": "agency_flight_type_cloudfy_premium",
         "rawType": "float64",
         "type": "float"
        },
        {
         "name": "agency_flight_type_flyingdrops_firstclass",
         "rawType": "float64",
         "type": "float"
        },
        {
         "name": "agency_flight_type_rainbow_economic",
         "rawType": "float64",
         "type": "float"
        },
        {
         "name": "agency_flight_type_rainbow_firstclass",
         "rawType": "float64",
         "type": "float"
        },
        {
         "name": "agency_flight_type_rainbow_premium",
         "rawType": "float64",
         "type": "float"
        },
        {
         "name": "route_agency_aracaju_(se)_florianopolis_(sc)_cloudfy",
         "rawType": "float64",
         "type": "float"
        },
        {
         "name": "route_agency_aracaju_(se)_florianopolis_(sc)_rainbow",
         "rawType": "float64",
         "type": "float"
        },
        {
         "name": "route_agency_brasilia_(df)_florianopolis_(sc)_cloudfy",
         "rawType": "float64",
         "type": "float"
        },
        {
         "name": "route_agency_brasilia_(df)_florianopolis_(sc)_rainbow",
         "rawType": "float64",
         "type": "float"
        },
        {
         "name": "route_agency_campo_grande_(ms)_florianopolis_(sc)_cloudfy",
         "rawType": "float64",
         "type": "float"
        },
        {
         "name": "route_agency_campo_grande_(ms)_florianopolis_(sc)_rainbow",
         "rawType": "float64",
         "type": "float"
        },
        {
         "name": "route_agency_natal_(rn)_florianopolis_(sc)_cloudfy",
         "rawType": "float64",
         "type": "float"
        },
        {
         "name": "route_agency_natal_(rn)_florianopolis_(sc)_rainbow",
         "rawType": "float64",
         "type": "float"
        },
        {
         "name": "route_agency_other",
         "rawType": "float64",
         "type": "float"
        },
        {
         "name": "route_agency_recife_(pe)_florianopolis_(sc)_cloudfy",
         "rawType": "float64",
         "type": "float"
        },
        {
         "name": "route_agency_recife_(pe)_florianopolis_(sc)_rainbow",
         "rawType": "float64",
         "type": "float"
        },
        {
         "name": "route_agency_sao_paulo_(sp)_florianopolis_(sc)_cloudfy",
         "rawType": "float64",
         "type": "float"
        },
        {
         "name": "route_agency_sao_paulo_(sp)_florianopolis_(sc)_rainbow",
         "rawType": "float64",
         "type": "float"
        },
        {
         "name": "flight_type",
         "rawType": "float64",
         "type": "float"
        },
        {
         "name": "price",
         "rawType": "float64",
         "type": "float"
        },
        {
         "name": "time",
         "rawType": "float64",
         "type": "float"
        },
        {
         "name": "distance",
         "rawType": "float64",
         "type": "float"
        },
        {
         "name": "year",
         "rawType": "float64",
         "type": "float"
        },
        {
         "name": "month_sin",
         "rawType": "float64",
         "type": "float"
        },
        {
         "name": "month_cos",
         "rawType": "float64",
         "type": "float"
        },
        {
         "name": "day_of_week_sin",
         "rawType": "float64",
         "type": "float"
        },
        {
         "name": "day_of_week_cos",
         "rawType": "float64",
         "type": "float"
        },
        {
         "name": "day_sin",
         "rawType": "float64",
         "type": "float"
        },
        {
         "name": "day_cos",
         "rawType": "float64",
         "type": "float"
        }
       ],
       "ref": "77d81faf-87b8-4948-9dd6-77b29bf402e5",
       "rows": [
        [
         "count",
         "94742.0",
         "94742.0",
         "94742.0",
         "94742.0",
         "94742.0",
         "94742.0",
         "94742.0",
         "94742.0",
         "94742.0",
         "94742.0",
         "94742.0",
         "94742.0",
         "94742.0",
         "94742.0",
         "94742.0",
         "94742.0",
         "94742.0",
         "94742.0",
         "94742.0",
         "94742.0",
         "94742.0",
         "94742.0",
         "94742.0",
         "94742.0",
         "94742.0",
         "94742.0",
         "94742.0",
         "94742.0",
         "94742.0",
         "94742.0",
         "94742.0",
         "94742.0",
         "94742.0",
         "94742.0",
         "94742.0",
         "94742.0",
         "94742.0",
         "94742.0",
         "94742.0",
         "94742.0",
         "94742.0",
         "94742.0",
         "94742.0",
         "94742.0",
         "94742.0",
         "94742.0",
         "94742.0",
         "94742.0",
         "94742.0",
         "94742.0",
         "94742.0",
         "94742.0",
         "94742.0",
         "94742.0",
         "94742.0",
         "94742.0",
         "94742.0",
         "94742.0",
         "94742.0",
         "94742.0",
         "94742.0",
         "94742.0",
         "94742.0",
         "94742.0",
         "94742.0",
         "94742.0",
         "94742.0",
         "94742.0",
         "94742.0",
         "94742.0",
         "94742.0",
         "94742.0",
         "94742.0",
         "94742.0",
         "94742.0",
         "94742.0",
         "94742.0",
         "94742.0",
         "94742.0",
         "94742.0",
         "94742.0",
         "94742.0",
         "94742.0",
         "94742.0",
         "94742.0",
         "94742.0",
         "94742.0",
         "94742.0",
         "94742.0",
         "94742.0",
         "94742.0",
         "94742.0",
         "94742.0",
         "94742.0",
         "94742.0",
         "94742.0",
         "94742.0",
         "94742.0",
         "94742.0",
         "94742.0",
         "94742.0",
         "94742.0",
         "94742.0",
         "94742.0",
         "94742.0"
        ],
        [
         "mean",
         "0.12157226995419139",
         "0.12104452090941716",
         "0.12261721306284436",
         "0.1169069683983872",
         "0.1140993434801883",
         "0.12193113930463786",
         "0.08359544869223787",
         "0.08453484199193599",
         "0.1136982542061599",
         "0.15109455151886175",
         "0.12384159084672057",
         "0.14239724726098246",
         "0.20415444048046272",
         "0.08744801671908974",
         "0.12264887800553081",
         "0.040383356906124",
         "0.040731671275674994",
         "0.08730024698655295",
         "0.42830001477697327",
         "0.14324164573262121",
         "0.4284583394904055",
         "0.017785142808891517",
         "0.019832809102615524",
         "0.027991809334825105",
         "0.012845411749804733",
         "0.01742627345844504",
         "0.012665977074581496",
         "0.020434443013658144",
         "0.019547824618437442",
         "0.027442950328259906",
         "0.012613202170104072",
         "0.016951299318148233",
         "0.012011568259061451",
         "0.021109961790969158",
         "0.017510713305608917",
         "0.027622385003483144",
         "0.0131409512148783",
         "0.017267948745012772",
         "0.013109286272191847",
         "0.021173291676342066",
         "0.018175677102024446",
         "0.02001224377783876",
         "0.013003736463237001",
         "0.01770070296172764",
         "0.0131409512148783",
         "0.019748369255451648",
         "0.015410272107407485",
         "0.01797513246501024",
         "0.025638048595132044",
         "0.015589706782630724",
         "0.01090329526503557",
         "0.10647864727364843",
         "0.020624432669776867",
         "0.017257393764117286",
         "0.019558379599332924",
         "0.027115745920499885",
         "0.012507652361149226",
         "0.012898186654282155",
         "0.014396993941440965",
         "0.0111566148065272",
         "0.013056511367714425",
         "0.021468831141415633",
         "0.010987735112199446",
         "0.014396993941440965",
         "0.011378269405332377",
         "0.013689810221443499",
         "0.021257731523505942",
         "0.010977180131303962",
         "0.019210065229781935",
         "0.01516750754681134",
         "0.018724536108589644",
         "0.025616938633341073",
         "0.010544425914589095",
         "0.015748031496062992",
         "0.14276667159232442",
         "0.14193282810158114",
         "0.1436005150830677",
         "0.14324164573262121",
         "0.14335775052247154",
         "0.1431994258090393",
         "0.14190116315889467",
         "0.011906018450106606",
         "0.012043233201747905",
         "0.011811023622047244",
         "0.011694918832196914",
         "0.012043233201747905",
         "0.01177935867936079",
         "0.010998290093094932",
         "0.0110194000548859",
         "0.8614553207658694",
         "0.011673808870405944",
         "0.011578814042346583",
         "0.011114394882945262",
         "0.0108821853032446",
         "1.1422494775284457",
         "-3.802380855696215e-16",
         "7.784756071425387e-17",
         "6.209805421137014e-17",
         "2020.0774841147538",
         "0.08310325466222329",
         "0.08454658900816807",
         "-0.22862397016560418",
         "-0.20819172718949897",
         "-0.0036982613093056228",
         "-0.009739448870477334"
        ],
        [
         "std",
         "0.32679287069420426",
         "0.326180728818366",
         "0.3279990360715245",
         "0.3213110935574864",
         "0.3179335625779246",
         "0.327207986824968",
         "0.27678160749369907",
         "0.2781897182254241",
         "0.31744609754032466",
         "0.35814290704833396",
         "0.32940248405548395",
         "0.3494589535611067",
         "0.4030845070894875",
         "0.28249195279975214",
         "0.32803546534220734",
         "0.19685769080165164",
         "0.19766895215396982",
         "0.28227602604720115",
         "0.49483501960746223",
         "0.35032095572243116",
         "0.4948579347261339",
         "0.13217040474046882",
         "0.13942623128761802",
         "0.16495015953551181",
         "0.11260790820210184",
         "0.1308540376998801",
         "0.11182880709631426",
         "0.14148175794897153",
         "0.1384409963375538",
         "0.16337110062439605",
         "0.11159856968348367",
         "0.12908961483832804",
         "0.1089376690928059",
         "0.14375169361823714",
         "0.13116504799624648",
         "0.16388920755664732",
         "0.11387889838460843",
         "0.13026874455764842",
         "0.1137434369157205",
         "0.1439625025834309",
         "0.13358708853364917",
         "0.14004271091599324",
         "0.11329066498187443",
         "0.13186194144579644",
         "0.11387889838461283",
         "0.13913509800393165",
         "0.12317855239959091",
         "0.13286163252300215",
         "0.1580537969594939",
         "0.1238823224295507",
         "0.10384857845850803",
         "0.3084508861551232",
         "0.14212416631189512",
         "0.13022962464217833",
         "0.13847762198152702",
         "0.16242155242487522",
         "0.11113658876242972",
         "0.11283597751123117",
         "0.11912124193739687",
         "0.1050345714414801",
         "0.1135172889561979",
         "0.14494185789968678",
         "0.10424547707962255",
         "0.1191212419374006",
         "0.10606094060884888",
         "0.11620043819456403",
         "0.1442430586946428",
         "0.10419595117343959",
         "0.1372633872982209",
         "0.12221952351338111",
         "0.13555117776928638",
         "0.1579904255043021",
         "0.1021437767097076",
         "0.12449977752708904",
         "0.3498365916439324",
         "0.3489830739325136",
         "0.3506860493514179",
         "0.35032095572243116",
         "0.35043915608805715",
         "0.3502779543403945",
         "0.3489505814526813",
         "0.10846376974673615",
         "0.10907941750077606",
         "0.10803539483455006",
         "0.10750939355706696",
         "0.10907941750077833",
         "0.1078922066515375",
         "0.10429497839926279",
         "0.10439390741998512",
         "0.34547259057837454",
         "0.10741346673755293",
         "0.10698068006907302",
         "0.10483788017189975",
         "0.1037491058215302",
         "0.833229101696858",
         "1.000000000000063",
         "0.9999999999999108",
         "0.9999999999999821",
         "0.642241304478522",
         "0.6883344717382092",
         "0.7156478080145571",
         "0.5521173085996528",
         "0.7743147347378079",
         "0.7128549768555893",
         "0.7012416145082434"
        ],
        [
         "min",
         "0.0",
         "0.0",
         "0.0",
         "0.0",
         "0.0",
         "0.0",
         "0.0",
         "0.0",
         "0.0",
         "0.0",
         "0.0",
         "0.0",
         "0.0",
         "0.0",
         "0.0",
         "0.0",
         "0.0",
         "0.0",
         "0.0",
         "0.0",
         "0.0",
         "0.0",
         "0.0",
         "0.0",
         "0.0",
         "0.0",
         "0.0",
         "0.0",
         "0.0",
         "0.0",
         "0.0",
         "0.0",
         "0.0",
         "0.0",
         "0.0",
         "0.0",
         "0.0",
         "0.0",
         "0.0",
         "0.0",
         "0.0",
         "0.0",
         "0.0",
         "0.0",
         "0.0",
         "0.0",
         "0.0",
         "0.0",
         "0.0",
         "0.0",
         "0.0",
         "0.0",
         "0.0",
         "0.0",
         "0.0",
         "0.0",
         "0.0",
         "0.0",
         "0.0",
         "0.0",
         "0.0",
         "0.0",
         "0.0",
         "0.0",
         "0.0",
         "0.0",
         "0.0",
         "0.0",
         "0.0",
         "0.0",
         "0.0",
         "0.0",
         "0.0",
         "0.0",
         "0.0",
         "0.0",
         "0.0",
         "0.0",
         "0.0",
         "0.0",
         "0.0",
         "0.0",
         "0.0",
         "0.0",
         "0.0",
         "0.0",
         "0.0",
         "0.0",
         "0.0",
         "0.0",
         "0.0",
         "0.0",
         "0.0",
         "0.0",
         "0.0",
         "-2.271353627154659",
         "-1.673352011356261",
         "-1.7254317591362258",
         "2019.0",
         "-1.0",
         "-1.0",
         "-0.9749279121818236",
         "-0.9009688679024191",
         "-0.9987165071710528",
         "-0.9948693233918952"
        ],
        [
         "25%",
         "0.0",
         "0.0",
         "0.0",
         "0.0",
         "0.0",
         "0.0",
         "0.0",
         "0.0",
         "0.0",
         "0.0",
         "0.0",
         "0.0",
         "0.0",
         "0.0",
         "0.0",
         "0.0",
         "0.0",
         "0.0",
         "0.0",
         "0.0",
         "0.0",
         "0.0",
         "0.0",
         "0.0",
         "0.0",
         "0.0",
         "0.0",
         "0.0",
         "0.0",
         "0.0",
         "0.0",
         "0.0",
         "0.0",
         "0.0",
         "0.0",
         "0.0",
         "0.0",
         "0.0",
         "0.0",
         "0.0",
         "0.0",
         "0.0",
         "0.0",
         "0.0",
         "0.0",
         "0.0",
         "0.0",
         "0.0",
         "0.0",
         "0.0",
         "0.0",
         "0.0",
         "0.0",
         "0.0",
         "0.0",
         "0.0",
         "0.0",
         "0.0",
         "0.0",
         "0.0",
         "0.0",
         "0.0",
         "0.0",
         "0.0",
         "0.0",
         "0.0",
         "0.0",
         "0.0",
         "0.0",
         "0.0",
         "0.0",
         "0.0",
         "0.0",
         "0.0",
         "0.0",
         "0.0",
         "0.0",
         "0.0",
         "0.0",
         "0.0",
         "0.0",
         "0.0",
         "0.0",
         "0.0",
         "0.0",
         "0.0",
         "0.0",
         "0.0",
         "0.0",
         "1.0",
         "0.0",
         "0.0",
         "0.0",
         "0.0",
         "0.0",
         "-0.7285338077749264",
         "-0.9108241086496803",
         "-0.8962967012974458",
         "2020.0",
         "-0.5000000000000004",
         "-0.5000000000000004",
         "-0.7818314824680299",
         "-0.900968867902419",
         "-0.72479278722912",
         "-0.7587581226927909"
        ],
        [
         "50%",
         "0.0",
         "0.0",
         "0.0",
         "0.0",
         "0.0",
         "0.0",
         "0.0",
         "0.0",
         "0.0",
         "0.0",
         "0.0",
         "0.0",
         "0.0",
         "0.0",
         "0.0",
         "0.0",
         "0.0",
         "0.0",
         "0.0",
         "0.0",
         "0.0",
         "0.0",
         "0.0",
         "0.0",
         "0.0",
         "0.0",
         "0.0",
         "0.0",
         "0.0",
         "0.0",
         "0.0",
         "0.0",
         "0.0",
         "0.0",
         "0.0",
         "0.0",
         "0.0",
         "0.0",
         "0.0",
         "0.0",
         "0.0",
         "0.0",
         "0.0",
         "0.0",
         "0.0",
         "0.0",
         "0.0",
         "0.0",
         "0.0",
         "0.0",
         "0.0",
         "0.0",
         "0.0",
         "0.0",
         "0.0",
         "0.0",
         "0.0",
         "0.0",
         "0.0",
         "0.0",
         "0.0",
         "0.0",
         "0.0",
         "0.0",
         "0.0",
         "0.0",
         "0.0",
         "0.0",
         "0.0",
         "0.0",
         "0.0",
         "0.0",
         "0.0",
         "0.0",
         "0.0",
         "0.0",
         "0.0",
         "0.0",
         "0.0",
         "0.0",
         "0.0",
         "0.0",
         "0.0",
         "0.0",
         "0.0",
         "0.0",
         "0.0",
         "0.0",
         "0.0",
         "1.0",
         "0.0",
         "0.0",
         "0.0",
         "0.0",
         "1.0",
         "-0.03970741358644119",
         "0.16872410762165652",
         "0.19702182361874626",
         "2020.0",
         "1.2246467991473532e-16",
         "6.123233995736766e-17",
         "-0.433883739117558",
         "-0.2225209339563146",
         "-2.4492935982947064e-16",
         "-0.05064916883871264"
        ],
        [
         "75%",
         "0.0",
         "0.0",
         "0.0",
         "0.0",
         "0.0",
         "0.0",
         "0.0",
         "0.0",
         "0.0",
         "0.0",
         "0.0",
         "0.0",
         "0.0",
         "0.0",
         "0.0",
         "0.0",
         "0.0",
         "0.0",
         "1.0",
         "0.0",
         "1.0",
         "0.0",
         "0.0",
         "0.0",
         "0.0",
         "0.0",
         "0.0",
         "0.0",
         "0.0",
         "0.0",
         "0.0",
         "0.0",
         "0.0",
         "0.0",
         "0.0",
         "0.0",
         "0.0",
         "0.0",
         "0.0",
         "0.0",
         "0.0",
         "0.0",
         "0.0",
         "0.0",
         "0.0",
         "0.0",
         "0.0",
         "0.0",
         "0.0",
         "0.0",
         "0.0",
         "0.0",
         "0.0",
         "0.0",
         "0.0",
         "0.0",
         "0.0",
         "0.0",
         "0.0",
         "0.0",
         "0.0",
         "0.0",
         "0.0",
         "0.0",
         "0.0",
         "0.0",
         "0.0",
         "0.0",
         "0.0",
         "0.0",
         "0.0",
         "0.0",
         "0.0",
         "0.0",
         "0.0",
         "0.0",
         "0.0",
         "0.0",
         "0.0",
         "0.0",
         "0.0",
         "0.0",
         "0.0",
         "0.0",
         "0.0",
         "0.0",
         "0.0",
         "0.0",
         "0.0",
         "1.0",
         "0.0",
         "0.0",
         "0.0",
         "0.0",
         "2.0",
         "0.7888393583452484",
         "0.74725008869311",
         "0.7482719185712282",
         "2020.0",
         "0.8660254037844386",
         "0.8660254037844384",
         "0.43388373911755823",
         "0.6234898018587334",
         "0.7247927872291199",
         "0.6889669190756865"
        ],
        [
         "max",
         "1.0",
         "1.0",
         "1.0",
         "1.0",
         "1.0",
         "1.0",
         "1.0",
         "1.0",
         "1.0",
         "1.0",
         "1.0",
         "1.0",
         "1.0",
         "1.0",
         "1.0",
         "1.0",
         "1.0",
         "1.0",
         "1.0",
         "1.0",
         "1.0",
         "1.0",
         "1.0",
         "1.0",
         "1.0",
         "1.0",
         "1.0",
         "1.0",
         "1.0",
         "1.0",
         "1.0",
         "1.0",
         "1.0",
         "1.0",
         "1.0",
         "1.0",
         "1.0",
         "1.0",
         "1.0",
         "1.0",
         "1.0",
         "1.0",
         "1.0",
         "1.0",
         "1.0",
         "1.0",
         "1.0",
         "1.0",
         "1.0",
         "1.0",
         "1.0",
         "1.0",
         "1.0",
         "1.0",
         "1.0",
         "1.0",
         "1.0",
         "1.0",
         "1.0",
         "1.0",
         "1.0",
         "1.0",
         "1.0",
         "1.0",
         "1.0",
         "1.0",
         "1.0",
         "1.0",
         "1.0",
         "1.0",
         "1.0",
         "1.0",
         "1.0",
         "1.0",
         "1.0",
         "1.0",
         "1.0",
         "1.0",
         "1.0",
         "1.0",
         "1.0",
         "1.0",
         "1.0",
         "1.0",
         "1.0",
         "1.0",
         "1.0",
         "1.0",
         "1.0",
         "1.0",
         "1.0",
         "1.0",
         "1.0",
         "1.0",
         "2.0",
         "1.936008434863058",
         "1.963483633664927",
         "1.8963179253247258",
         "2021.0",
         "1.0",
         "1.0",
         "0.43388373911755823",
         "1.0",
         "0.9987165071710528",
         "1.0"
        ]
       ],
       "shape": {
        "columns": 105,
        "rows": 8
       }
      },
      "text/html": [
       "<div>\n",
       "<style scoped>\n",
       "    .dataframe tbody tr th:only-of-type {\n",
       "        vertical-align: middle;\n",
       "    }\n",
       "\n",
       "    .dataframe tbody tr th {\n",
       "        vertical-align: top;\n",
       "    }\n",
       "\n",
       "    .dataframe thead th {\n",
       "        text-align: right;\n",
       "    }\n",
       "</style>\n",
       "<table border=\"1\" class=\"dataframe\">\n",
       "  <thead>\n",
       "    <tr style=\"text-align: right;\">\n",
       "      <th></th>\n",
       "      <th>from_location_aracaju_(se)</th>\n",
       "      <th>from_location_brasilia_(df)</th>\n",
       "      <th>from_location_campo_grande_(ms)</th>\n",
       "      <th>from_location_florianopolis_(sc)</th>\n",
       "      <th>from_location_natal_(rn)</th>\n",
       "      <th>from_location_recife_(pe)</th>\n",
       "      <th>from_location_rio_de_janeiro_(rj)</th>\n",
       "      <th>from_location_salvador_(bh)</th>\n",
       "      <th>from_location_sao_paulo_(sp)</th>\n",
       "      <th>to_location_aracaju_(se)</th>\n",
       "      <th>...</th>\n",
       "      <th>price</th>\n",
       "      <th>time</th>\n",
       "      <th>distance</th>\n",
       "      <th>year</th>\n",
       "      <th>month_sin</th>\n",
       "      <th>month_cos</th>\n",
       "      <th>day_of_week_sin</th>\n",
       "      <th>day_of_week_cos</th>\n",
       "      <th>day_sin</th>\n",
       "      <th>day_cos</th>\n",
       "    </tr>\n",
       "  </thead>\n",
       "  <tbody>\n",
       "    <tr>\n",
       "      <th>count</th>\n",
       "      <td>94742.000000</td>\n",
       "      <td>94742.000000</td>\n",
       "      <td>94742.000000</td>\n",
       "      <td>94742.000000</td>\n",
       "      <td>94742.000000</td>\n",
       "      <td>94742.000000</td>\n",
       "      <td>94742.000000</td>\n",
       "      <td>94742.000000</td>\n",
       "      <td>94742.000000</td>\n",
       "      <td>94742.000000</td>\n",
       "      <td>...</td>\n",
       "      <td>9.474200e+04</td>\n",
       "      <td>9.474200e+04</td>\n",
       "      <td>9.474200e+04</td>\n",
       "      <td>94742.000000</td>\n",
       "      <td>9.474200e+04</td>\n",
       "      <td>9.474200e+04</td>\n",
       "      <td>94742.000000</td>\n",
       "      <td>94742.000000</td>\n",
       "      <td>9.474200e+04</td>\n",
       "      <td>94742.000000</td>\n",
       "    </tr>\n",
       "    <tr>\n",
       "      <th>mean</th>\n",
       "      <td>0.121572</td>\n",
       "      <td>0.121045</td>\n",
       "      <td>0.122617</td>\n",
       "      <td>0.116907</td>\n",
       "      <td>0.114099</td>\n",
       "      <td>0.121931</td>\n",
       "      <td>0.083595</td>\n",
       "      <td>0.084535</td>\n",
       "      <td>0.113698</td>\n",
       "      <td>0.151095</td>\n",
       "      <td>...</td>\n",
       "      <td>-3.802381e-16</td>\n",
       "      <td>7.784756e-17</td>\n",
       "      <td>6.209805e-17</td>\n",
       "      <td>2020.077484</td>\n",
       "      <td>8.310325e-02</td>\n",
       "      <td>8.454659e-02</td>\n",
       "      <td>-0.228624</td>\n",
       "      <td>-0.208192</td>\n",
       "      <td>-3.698261e-03</td>\n",
       "      <td>-0.009739</td>\n",
       "    </tr>\n",
       "    <tr>\n",
       "      <th>std</th>\n",
       "      <td>0.326793</td>\n",
       "      <td>0.326181</td>\n",
       "      <td>0.327999</td>\n",
       "      <td>0.321311</td>\n",
       "      <td>0.317934</td>\n",
       "      <td>0.327208</td>\n",
       "      <td>0.276782</td>\n",
       "      <td>0.278190</td>\n",
       "      <td>0.317446</td>\n",
       "      <td>0.358143</td>\n",
       "      <td>...</td>\n",
       "      <td>1.000000e+00</td>\n",
       "      <td>1.000000e+00</td>\n",
       "      <td>1.000000e+00</td>\n",
       "      <td>0.642241</td>\n",
       "      <td>6.883345e-01</td>\n",
       "      <td>7.156478e-01</td>\n",
       "      <td>0.552117</td>\n",
       "      <td>0.774315</td>\n",
       "      <td>7.128550e-01</td>\n",
       "      <td>0.701242</td>\n",
       "    </tr>\n",
       "    <tr>\n",
       "      <th>min</th>\n",
       "      <td>0.000000</td>\n",
       "      <td>0.000000</td>\n",
       "      <td>0.000000</td>\n",
       "      <td>0.000000</td>\n",
       "      <td>0.000000</td>\n",
       "      <td>0.000000</td>\n",
       "      <td>0.000000</td>\n",
       "      <td>0.000000</td>\n",
       "      <td>0.000000</td>\n",
       "      <td>0.000000</td>\n",
       "      <td>...</td>\n",
       "      <td>-2.271354e+00</td>\n",
       "      <td>-1.673352e+00</td>\n",
       "      <td>-1.725432e+00</td>\n",
       "      <td>2019.000000</td>\n",
       "      <td>-1.000000e+00</td>\n",
       "      <td>-1.000000e+00</td>\n",
       "      <td>-0.974928</td>\n",
       "      <td>-0.900969</td>\n",
       "      <td>-9.987165e-01</td>\n",
       "      <td>-0.994869</td>\n",
       "    </tr>\n",
       "    <tr>\n",
       "      <th>25%</th>\n",
       "      <td>0.000000</td>\n",
       "      <td>0.000000</td>\n",
       "      <td>0.000000</td>\n",
       "      <td>0.000000</td>\n",
       "      <td>0.000000</td>\n",
       "      <td>0.000000</td>\n",
       "      <td>0.000000</td>\n",
       "      <td>0.000000</td>\n",
       "      <td>0.000000</td>\n",
       "      <td>0.000000</td>\n",
       "      <td>...</td>\n",
       "      <td>-7.285338e-01</td>\n",
       "      <td>-9.108241e-01</td>\n",
       "      <td>-8.962967e-01</td>\n",
       "      <td>2020.000000</td>\n",
       "      <td>-5.000000e-01</td>\n",
       "      <td>-5.000000e-01</td>\n",
       "      <td>-0.781831</td>\n",
       "      <td>-0.900969</td>\n",
       "      <td>-7.247928e-01</td>\n",
       "      <td>-0.758758</td>\n",
       "    </tr>\n",
       "    <tr>\n",
       "      <th>50%</th>\n",
       "      <td>0.000000</td>\n",
       "      <td>0.000000</td>\n",
       "      <td>0.000000</td>\n",
       "      <td>0.000000</td>\n",
       "      <td>0.000000</td>\n",
       "      <td>0.000000</td>\n",
       "      <td>0.000000</td>\n",
       "      <td>0.000000</td>\n",
       "      <td>0.000000</td>\n",
       "      <td>0.000000</td>\n",
       "      <td>...</td>\n",
       "      <td>-3.970741e-02</td>\n",
       "      <td>1.687241e-01</td>\n",
       "      <td>1.970218e-01</td>\n",
       "      <td>2020.000000</td>\n",
       "      <td>1.224647e-16</td>\n",
       "      <td>6.123234e-17</td>\n",
       "      <td>-0.433884</td>\n",
       "      <td>-0.222521</td>\n",
       "      <td>-2.449294e-16</td>\n",
       "      <td>-0.050649</td>\n",
       "    </tr>\n",
       "    <tr>\n",
       "      <th>75%</th>\n",
       "      <td>0.000000</td>\n",
       "      <td>0.000000</td>\n",
       "      <td>0.000000</td>\n",
       "      <td>0.000000</td>\n",
       "      <td>0.000000</td>\n",
       "      <td>0.000000</td>\n",
       "      <td>0.000000</td>\n",
       "      <td>0.000000</td>\n",
       "      <td>0.000000</td>\n",
       "      <td>0.000000</td>\n",
       "      <td>...</td>\n",
       "      <td>7.888394e-01</td>\n",
       "      <td>7.472501e-01</td>\n",
       "      <td>7.482719e-01</td>\n",
       "      <td>2020.000000</td>\n",
       "      <td>8.660254e-01</td>\n",
       "      <td>8.660254e-01</td>\n",
       "      <td>0.433884</td>\n",
       "      <td>0.623490</td>\n",
       "      <td>7.247928e-01</td>\n",
       "      <td>0.688967</td>\n",
       "    </tr>\n",
       "    <tr>\n",
       "      <th>max</th>\n",
       "      <td>1.000000</td>\n",
       "      <td>1.000000</td>\n",
       "      <td>1.000000</td>\n",
       "      <td>1.000000</td>\n",
       "      <td>1.000000</td>\n",
       "      <td>1.000000</td>\n",
       "      <td>1.000000</td>\n",
       "      <td>1.000000</td>\n",
       "      <td>1.000000</td>\n",
       "      <td>1.000000</td>\n",
       "      <td>...</td>\n",
       "      <td>1.936008e+00</td>\n",
       "      <td>1.963484e+00</td>\n",
       "      <td>1.896318e+00</td>\n",
       "      <td>2021.000000</td>\n",
       "      <td>1.000000e+00</td>\n",
       "      <td>1.000000e+00</td>\n",
       "      <td>0.433884</td>\n",
       "      <td>1.000000</td>\n",
       "      <td>9.987165e-01</td>\n",
       "      <td>1.000000</td>\n",
       "    </tr>\n",
       "  </tbody>\n",
       "</table>\n",
       "<p>8 rows × 105 columns</p>\n",
       "</div>"
      ],
      "text/plain": [
       "       from_location_aracaju_(se)  from_location_brasilia_(df)  \\\n",
       "count                94742.000000                 94742.000000   \n",
       "mean                     0.121572                     0.121045   \n",
       "std                      0.326793                     0.326181   \n",
       "min                      0.000000                     0.000000   \n",
       "25%                      0.000000                     0.000000   \n",
       "50%                      0.000000                     0.000000   \n",
       "75%                      0.000000                     0.000000   \n",
       "max                      1.000000                     1.000000   \n",
       "\n",
       "       from_location_campo_grande_(ms)  from_location_florianopolis_(sc)  \\\n",
       "count                     94742.000000                      94742.000000   \n",
       "mean                          0.122617                          0.116907   \n",
       "std                           0.327999                          0.321311   \n",
       "min                           0.000000                          0.000000   \n",
       "25%                           0.000000                          0.000000   \n",
       "50%                           0.000000                          0.000000   \n",
       "75%                           0.000000                          0.000000   \n",
       "max                           1.000000                          1.000000   \n",
       "\n",
       "       from_location_natal_(rn)  from_location_recife_(pe)  \\\n",
       "count              94742.000000               94742.000000   \n",
       "mean                   0.114099                   0.121931   \n",
       "std                    0.317934                   0.327208   \n",
       "min                    0.000000                   0.000000   \n",
       "25%                    0.000000                   0.000000   \n",
       "50%                    0.000000                   0.000000   \n",
       "75%                    0.000000                   0.000000   \n",
       "max                    1.000000                   1.000000   \n",
       "\n",
       "       from_location_rio_de_janeiro_(rj)  from_location_salvador_(bh)  \\\n",
       "count                       94742.000000                 94742.000000   \n",
       "mean                            0.083595                     0.084535   \n",
       "std                             0.276782                     0.278190   \n",
       "min                             0.000000                     0.000000   \n",
       "25%                             0.000000                     0.000000   \n",
       "50%                             0.000000                     0.000000   \n",
       "75%                             0.000000                     0.000000   \n",
       "max                             1.000000                     1.000000   \n",
       "\n",
       "       from_location_sao_paulo_(sp)  to_location_aracaju_(se)  ...  \\\n",
       "count                  94742.000000              94742.000000  ...   \n",
       "mean                       0.113698                  0.151095  ...   \n",
       "std                        0.317446                  0.358143  ...   \n",
       "min                        0.000000                  0.000000  ...   \n",
       "25%                        0.000000                  0.000000  ...   \n",
       "50%                        0.000000                  0.000000  ...   \n",
       "75%                        0.000000                  0.000000  ...   \n",
       "max                        1.000000                  1.000000  ...   \n",
       "\n",
       "              price          time      distance          year     month_sin  \\\n",
       "count  9.474200e+04  9.474200e+04  9.474200e+04  94742.000000  9.474200e+04   \n",
       "mean  -3.802381e-16  7.784756e-17  6.209805e-17   2020.077484  8.310325e-02   \n",
       "std    1.000000e+00  1.000000e+00  1.000000e+00      0.642241  6.883345e-01   \n",
       "min   -2.271354e+00 -1.673352e+00 -1.725432e+00   2019.000000 -1.000000e+00   \n",
       "25%   -7.285338e-01 -9.108241e-01 -8.962967e-01   2020.000000 -5.000000e-01   \n",
       "50%   -3.970741e-02  1.687241e-01  1.970218e-01   2020.000000  1.224647e-16   \n",
       "75%    7.888394e-01  7.472501e-01  7.482719e-01   2020.000000  8.660254e-01   \n",
       "max    1.936008e+00  1.963484e+00  1.896318e+00   2021.000000  1.000000e+00   \n",
       "\n",
       "          month_cos  day_of_week_sin  day_of_week_cos       day_sin  \\\n",
       "count  9.474200e+04     94742.000000     94742.000000  9.474200e+04   \n",
       "mean   8.454659e-02        -0.228624        -0.208192 -3.698261e-03   \n",
       "std    7.156478e-01         0.552117         0.774315  7.128550e-01   \n",
       "min   -1.000000e+00        -0.974928        -0.900969 -9.987165e-01   \n",
       "25%   -5.000000e-01        -0.781831        -0.900969 -7.247928e-01   \n",
       "50%    6.123234e-17        -0.433884        -0.222521 -2.449294e-16   \n",
       "75%    8.660254e-01         0.433884         0.623490  7.247928e-01   \n",
       "max    1.000000e+00         0.433884         1.000000  9.987165e-01   \n",
       "\n",
       "            day_cos  \n",
       "count  94742.000000  \n",
       "mean      -0.009739  \n",
       "std        0.701242  \n",
       "min       -0.994869  \n",
       "25%       -0.758758  \n",
       "50%       -0.050649  \n",
       "75%        0.688967  \n",
       "max        1.000000  \n",
       "\n",
       "[8 rows x 105 columns]"
      ]
     },
     "execution_count": 31,
     "metadata": {},
     "output_type": "execute_result"
    }
   ],
   "source": [
    "gold_train_df.describe()"
   ]
  },
  {
   "cell_type": "code",
   "execution_count": 35,
   "metadata": {},
   "outputs": [
    {
     "data": {
      "application/vnd.microsoft.datawrangler.viewer.v0+json": {
       "columns": [
        {
         "name": "index",
         "rawType": "object",
         "type": "string"
        },
        {
         "name": "0",
         "rawType": "int64",
         "type": "integer"
        }
       ],
       "ref": "7401f97d-2b5f-4859-9c44-0ea52d51cf35",
       "rows": [
        [
         "from_location_aracaju_(se)",
         "2"
        ],
        [
         "from_location_brasilia_(df)",
         "2"
        ],
        [
         "from_location_campo_grande_(ms)",
         "2"
        ],
        [
         "from_location_florianopolis_(sc)",
         "2"
        ],
        [
         "from_location_natal_(rn)",
         "2"
        ],
        [
         "from_location_recife_(pe)",
         "2"
        ],
        [
         "from_location_rio_de_janeiro_(rj)",
         "2"
        ],
        [
         "from_location_salvador_(bh)",
         "2"
        ],
        [
         "from_location_sao_paulo_(sp)",
         "2"
        ],
        [
         "to_location_aracaju_(se)",
         "2"
        ],
        [
         "to_location_brasilia_(df)",
         "2"
        ],
        [
         "to_location_campo_grande_(ms)",
         "2"
        ],
        [
         "to_location_florianopolis_(sc)",
         "2"
        ],
        [
         "to_location_natal_(rn)",
         "2"
        ],
        [
         "to_location_recife_(pe)",
         "2"
        ],
        [
         "to_location_rio_de_janeiro_(rj)",
         "2"
        ],
        [
         "to_location_salvador_(bh)",
         "2"
        ],
        [
         "to_location_sao_paulo_(sp)",
         "2"
        ],
        [
         "agency_cloudfy",
         "2"
        ],
        [
         "agency_flyingdrops",
         "2"
        ],
        [
         "agency_rainbow",
         "2"
        ],
        [
         "route_aracaju_(se)_brasilia_(df)",
         "2"
        ],
        [
         "route_aracaju_(se)_campo_grande_(ms)",
         "2"
        ],
        [
         "route_aracaju_(se)_florianopolis_(sc)",
         "2"
        ],
        [
         "route_aracaju_(se)_natal_(rn)",
         "2"
        ],
        [
         "route_aracaju_(se)_recife_(pe)",
         "2"
        ],
        [
         "route_aracaju_(se)_sao_paulo_(sp)",
         "2"
        ],
        [
         "route_brasilia_(df)_aracaju_(se)",
         "2"
        ],
        [
         "route_brasilia_(df)_campo_grande_(ms)",
         "2"
        ],
        [
         "route_brasilia_(df)_florianopolis_(sc)",
         "2"
        ],
        [
         "route_brasilia_(df)_natal_(rn)",
         "2"
        ],
        [
         "route_brasilia_(df)_recife_(pe)",
         "2"
        ],
        [
         "route_brasilia_(df)_sao_paulo_(sp)",
         "2"
        ],
        [
         "route_campo_grande_(ms)_aracaju_(se)",
         "2"
        ],
        [
         "route_campo_grande_(ms)_brasilia_(df)",
         "2"
        ],
        [
         "route_campo_grande_(ms)_florianopolis_(sc)",
         "2"
        ],
        [
         "route_campo_grande_(ms)_natal_(rn)",
         "2"
        ],
        [
         "route_campo_grande_(ms)_recife_(pe)",
         "2"
        ],
        [
         "route_campo_grande_(ms)_sao_paulo_(sp)",
         "2"
        ],
        [
         "route_florianopolis_(sc)_aracaju_(se)",
         "2"
        ],
        [
         "route_florianopolis_(sc)_brasilia_(df)",
         "2"
        ],
        [
         "route_florianopolis_(sc)_campo_grande_(ms)",
         "2"
        ],
        [
         "route_florianopolis_(sc)_natal_(rn)",
         "2"
        ],
        [
         "route_florianopolis_(sc)_recife_(pe)",
         "2"
        ],
        [
         "route_florianopolis_(sc)_sao_paulo_(sp)",
         "2"
        ],
        [
         "route_natal_(rn)_aracaju_(se)",
         "2"
        ],
        [
         "route_natal_(rn)_brasilia_(df)",
         "2"
        ],
        [
         "route_natal_(rn)_campo_grande_(ms)",
         "2"
        ],
        [
         "route_natal_(rn)_florianopolis_(sc)",
         "2"
        ],
        [
         "route_natal_(rn)_recife_(pe)",
         "2"
        ]
       ],
       "shape": {
        "columns": 1,
        "rows": 105
       }
      },
      "text/plain": [
       "from_location_aracaju_(se)           2\n",
       "from_location_brasilia_(df)          2\n",
       "from_location_campo_grande_(ms)      2\n",
       "from_location_florianopolis_(sc)     2\n",
       "from_location_natal_(rn)             2\n",
       "                                    ..\n",
       "month_cos                           11\n",
       "day_of_week_sin                      5\n",
       "day_of_week_cos                      5\n",
       "day_sin                             31\n",
       "day_cos                             26\n",
       "Length: 105, dtype: int64"
      ]
     },
     "execution_count": 35,
     "metadata": {},
     "output_type": "execute_result"
    }
   ],
   "source": [
    "gold_train_df.nunique()"
   ]
  },
  {
   "cell_type": "markdown",
   "metadata": {},
   "source": [
    "### Gold Pipeline Verification\n",
    "The `gold_pipeline.py` applies the final feature engineering and preprocessing steps:\n",
    "- **Duplcates**: after dropping unique identification columns(travel_code and user_code) there were no erroneous duplicates but duplicate data due to different people boarding the same flight for the same route, these duplicate rows were droped successfully.\n",
    "- **Imputation**: Missing values have been imputed.\n",
    "- **Feature Engineering**: Cyclical features and interaction features have been created.\n",
    "- **Categorical Encoding**: Categorical features have been encoded.\n",
    "- **Outlier Handling**: Outliers have been handled.\n",
    "- **Power Transformation and Scaling**: Numerical features have been transformed and scaled.\n",
    "The gold data is now ready for model training. We can see that all columns are numerical and there are no missing values."
   ]
  },
  {
   "cell_type": "markdown",
   "metadata": {},
   "source": []
  }
 ],
 "metadata": {
  "kernelspec": {
   "display_name": "flights_mlops",
   "language": "python",
   "name": "python3"
  },
  "language_info": {
   "codemirror_mode": {
    "name": "ipython",
    "version": 3
   },
   "file_extension": ".py",
   "mimetype": "text/x-python",
   "name": "python",
   "nbconvert_exporter": "python",
   "pygments_lexer": "ipython3",
   "version": "3.12.9"
  }
 },
 "nbformat": 4,
 "nbformat_minor": 4
}
