{
 "cells": [
  {
   "cell_type": "markdown",
   "metadata": {},
   "source": [
    "# Data Analysis and Pipeline Verification"
   ]
  },
  {
   "cell_type": "markdown",
   "metadata": {},
   "source": [
    "- This notebook analyzes the flight price prediction dataset at different stages of the MLOps pipeline: raw, bronze, silver, and gold. The goal is to perform basic data analysis at each stage and verify if the corresponding data processing pipelines have worked as expected.\n",
    "- Gets the test instances utilized for local explanation by shapley"
   ]
  },
  {
   "cell_type": "code",
   "execution_count": 1,
   "metadata": {},
   "outputs": [],
   "source": [
    "import pandas as pd\n",
    "import numpy as np\n",
    "import warnings\n",
    "\n",
    "warnings.filterwarnings(\"ignore\")"
   ]
  },
  {
   "cell_type": "markdown",
   "metadata": {},
   "source": [
    "## 1. Raw Data Analysis"
   ]
  },
  {
   "cell_type": "markdown",
   "metadata": {},
   "source": [
    "We start by loading the raw dataset and performing a preliminary analysis."
   ]
  },
  {
   "cell_type": "code",
   "execution_count": 2,
   "metadata": {},
   "outputs": [],
   "source": [
    "from shared.config import core_paths, config_bronze, config_gold, config_silver"
   ]
  },
  {
   "cell_type": "code",
   "execution_count": 3,
   "metadata": {},
   "outputs": [
    {
     "data": {
      "application/vnd.microsoft.datawrangler.viewer.v0+json": {
       "columns": [
        {
         "name": "index",
         "rawType": "int64",
         "type": "integer"
        },
        {
         "name": "travelCode",
         "rawType": "int64",
         "type": "integer"
        },
        {
         "name": "userCode",
         "rawType": "int64",
         "type": "integer"
        },
        {
         "name": "from",
         "rawType": "object",
         "type": "string"
        },
        {
         "name": "to",
         "rawType": "object",
         "type": "string"
        },
        {
         "name": "flightType",
         "rawType": "object",
         "type": "string"
        },
        {
         "name": "price",
         "rawType": "float64",
         "type": "float"
        },
        {
         "name": "time",
         "rawType": "float64",
         "type": "float"
        },
        {
         "name": "distance",
         "rawType": "float64",
         "type": "float"
        },
        {
         "name": "agency",
         "rawType": "object",
         "type": "string"
        },
        {
         "name": "date",
         "rawType": "object",
         "type": "string"
        }
       ],
       "ref": "6213bd02-ae82-4b4e-b3f2-2f7040df202c",
       "rows": [
        [
         "0",
         "0",
         "0",
         "Recife (PE)",
         "Florianopolis (SC)",
         "firstClass",
         "1434.38",
         "1.76",
         "676.53",
         "FlyingDrops",
         "2019-09-26"
        ],
        [
         "1",
         "121138",
         "1202",
         "Florianopolis (SC)",
         "Natal (RN)",
         "firstClass",
         "1315.27",
         "1.84",
         "709.37",
         "CloudFy",
         "2019-09-26"
        ],
        [
         "2",
         "132076",
         "1301",
         "Florianopolis (SC)",
         "Salvador (BH)",
         "premium",
         "1311.38",
         "2.44",
         "937.77",
         "CloudFy",
         "2019-09-26"
        ],
        [
         "3",
         "28904",
         "276",
         "Recife (PE)",
         "Rio de Janeiro (RJ)",
         "economic",
         "908.93",
         "2.3",
         "885.57",
         "Rainbow",
         "2019-09-26"
        ],
        [
         "4",
         "88695",
         "877",
         "Aracaju (SE)",
         "Natal (RN)",
         "firstClass",
         "598.61",
         "0.46",
         "176.33",
         "CloudFy",
         "2019-09-26"
        ]
       ],
       "shape": {
        "columns": 10,
        "rows": 5
       }
      },
      "text/html": [
       "<div>\n",
       "<style scoped>\n",
       "    .dataframe tbody tr th:only-of-type {\n",
       "        vertical-align: middle;\n",
       "    }\n",
       "\n",
       "    .dataframe tbody tr th {\n",
       "        vertical-align: top;\n",
       "    }\n",
       "\n",
       "    .dataframe thead th {\n",
       "        text-align: right;\n",
       "    }\n",
       "</style>\n",
       "<table border=\"1\" class=\"dataframe\">\n",
       "  <thead>\n",
       "    <tr style=\"text-align: right;\">\n",
       "      <th></th>\n",
       "      <th>travelCode</th>\n",
       "      <th>userCode</th>\n",
       "      <th>from</th>\n",
       "      <th>to</th>\n",
       "      <th>flightType</th>\n",
       "      <th>price</th>\n",
       "      <th>time</th>\n",
       "      <th>distance</th>\n",
       "      <th>agency</th>\n",
       "      <th>date</th>\n",
       "    </tr>\n",
       "  </thead>\n",
       "  <tbody>\n",
       "    <tr>\n",
       "      <th>0</th>\n",
       "      <td>0</td>\n",
       "      <td>0</td>\n",
       "      <td>Recife (PE)</td>\n",
       "      <td>Florianopolis (SC)</td>\n",
       "      <td>firstClass</td>\n",
       "      <td>1434.38</td>\n",
       "      <td>1.76</td>\n",
       "      <td>676.53</td>\n",
       "      <td>FlyingDrops</td>\n",
       "      <td>2019-09-26</td>\n",
       "    </tr>\n",
       "    <tr>\n",
       "      <th>1</th>\n",
       "      <td>121138</td>\n",
       "      <td>1202</td>\n",
       "      <td>Florianopolis (SC)</td>\n",
       "      <td>Natal (RN)</td>\n",
       "      <td>firstClass</td>\n",
       "      <td>1315.27</td>\n",
       "      <td>1.84</td>\n",
       "      <td>709.37</td>\n",
       "      <td>CloudFy</td>\n",
       "      <td>2019-09-26</td>\n",
       "    </tr>\n",
       "    <tr>\n",
       "      <th>2</th>\n",
       "      <td>132076</td>\n",
       "      <td>1301</td>\n",
       "      <td>Florianopolis (SC)</td>\n",
       "      <td>Salvador (BH)</td>\n",
       "      <td>premium</td>\n",
       "      <td>1311.38</td>\n",
       "      <td>2.44</td>\n",
       "      <td>937.77</td>\n",
       "      <td>CloudFy</td>\n",
       "      <td>2019-09-26</td>\n",
       "    </tr>\n",
       "    <tr>\n",
       "      <th>3</th>\n",
       "      <td>28904</td>\n",
       "      <td>276</td>\n",
       "      <td>Recife (PE)</td>\n",
       "      <td>Rio de Janeiro (RJ)</td>\n",
       "      <td>economic</td>\n",
       "      <td>908.93</td>\n",
       "      <td>2.30</td>\n",
       "      <td>885.57</td>\n",
       "      <td>Rainbow</td>\n",
       "      <td>2019-09-26</td>\n",
       "    </tr>\n",
       "    <tr>\n",
       "      <th>4</th>\n",
       "      <td>88695</td>\n",
       "      <td>877</td>\n",
       "      <td>Aracaju (SE)</td>\n",
       "      <td>Natal (RN)</td>\n",
       "      <td>firstClass</td>\n",
       "      <td>598.61</td>\n",
       "      <td>0.46</td>\n",
       "      <td>176.33</td>\n",
       "      <td>CloudFy</td>\n",
       "      <td>2019-09-26</td>\n",
       "    </tr>\n",
       "  </tbody>\n",
       "</table>\n",
       "</div>"
      ],
      "text/plain": [
       "   travelCode  userCode                from                   to  flightType  \\\n",
       "0           0         0         Recife (PE)   Florianopolis (SC)  firstClass   \n",
       "1      121138      1202  Florianopolis (SC)           Natal (RN)  firstClass   \n",
       "2      132076      1301  Florianopolis (SC)        Salvador (BH)     premium   \n",
       "3       28904       276         Recife (PE)  Rio de Janeiro (RJ)    economic   \n",
       "4       88695       877        Aracaju (SE)           Natal (RN)  firstClass   \n",
       "\n",
       "     price  time  distance       agency        date  \n",
       "0  1434.38  1.76    676.53  FlyingDrops  2019-09-26  \n",
       "1  1315.27  1.84    709.37      CloudFy  2019-09-26  \n",
       "2  1311.38  2.44    937.77      CloudFy  2019-09-26  \n",
       "3   908.93  2.30    885.57      Rainbow  2019-09-26  \n",
       "4   598.61  0.46    176.33      CloudFy  2019-09-26  "
      ]
     },
     "execution_count": 3,
     "metadata": {},
     "output_type": "execute_result"
    }
   ],
   "source": [
    "raw_df = pd.read_csv(core_paths.RAW_DATA_DIR / \"train_validation_test\" / \"train.csv\")\n",
    "raw_df.head()"
   ]
  },
  {
   "cell_type": "code",
   "execution_count": 4,
   "metadata": {},
   "outputs": [
    {
     "name": "stdout",
     "output_type": "stream",
     "text": [
      "<class 'pandas.core.frame.DataFrame'>\n",
      "RangeIndex: 190321 entries, 0 to 190320\n",
      "Data columns (total 10 columns):\n",
      " #   Column      Non-Null Count   Dtype  \n",
      "---  ------      --------------   -----  \n",
      " 0   travelCode  190321 non-null  int64  \n",
      " 1   userCode    190321 non-null  int64  \n",
      " 2   from        190321 non-null  object \n",
      " 3   to          190321 non-null  object \n",
      " 4   flightType  190321 non-null  object \n",
      " 5   price       190321 non-null  float64\n",
      " 6   time        190321 non-null  float64\n",
      " 7   distance    190321 non-null  float64\n",
      " 8   agency      190321 non-null  object \n",
      " 9   date        190321 non-null  object \n",
      "dtypes: float64(3), int64(2), object(5)\n",
      "memory usage: 14.5+ MB\n"
     ]
    }
   ],
   "source": [
    "raw_df.info()"
   ]
  },
  {
   "cell_type": "code",
   "execution_count": 5,
   "metadata": {},
   "outputs": [
    {
     "data": {
      "application/vnd.microsoft.datawrangler.viewer.v0+json": {
       "columns": [
        {
         "name": "index",
         "rawType": "object",
         "type": "string"
        },
        {
         "name": "travelCode",
         "rawType": "float64",
         "type": "float"
        },
        {
         "name": "userCode",
         "rawType": "float64",
         "type": "float"
        },
        {
         "name": "price",
         "rawType": "float64",
         "type": "float"
        },
        {
         "name": "time",
         "rawType": "float64",
         "type": "float"
        },
        {
         "name": "distance",
         "rawType": "float64",
         "type": "float"
        }
       ],
       "ref": "26b1248f-39ca-4dae-b91f-3a5ec4875ad3",
       "rows": [
        [
         "count",
         "190321.0",
         "190321.0",
         "190321.0",
         "190321.0",
         "190321.0"
        ],
        [
         "mean",
         "67919.41227189853",
         "667.159567257423",
         "955.6013910708749",
         "1.4183429574245616",
         "545.8752212840412"
        ],
        [
         "std",
         "39051.35276859851",
         "387.6247774338065",
         "362.4322407539498",
         "0.5435625681000794",
         "209.24670661403098"
        ],
        [
         "min",
         "0.0",
         "0.0",
         "301.51",
         "0.44",
         "168.22"
        ],
        [
         "25%",
         "34245.0",
         "328.0",
         "672.66",
         "1.02",
         "392.76"
        ],
        [
         "50%",
         "68332.0",
         "662.0",
         "899.6",
         "1.46",
         "562.14"
        ],
        [
         "75%",
         "101679.0",
         "1009.0",
         "1222.24",
         "1.76",
         "676.53"
        ],
        [
         "max",
         "135943.0",
         "1339.0",
         "1754.17",
         "2.44",
         "937.77"
        ]
       ],
       "shape": {
        "columns": 5,
        "rows": 8
       }
      },
      "text/html": [
       "<div>\n",
       "<style scoped>\n",
       "    .dataframe tbody tr th:only-of-type {\n",
       "        vertical-align: middle;\n",
       "    }\n",
       "\n",
       "    .dataframe tbody tr th {\n",
       "        vertical-align: top;\n",
       "    }\n",
       "\n",
       "    .dataframe thead th {\n",
       "        text-align: right;\n",
       "    }\n",
       "</style>\n",
       "<table border=\"1\" class=\"dataframe\">\n",
       "  <thead>\n",
       "    <tr style=\"text-align: right;\">\n",
       "      <th></th>\n",
       "      <th>travelCode</th>\n",
       "      <th>userCode</th>\n",
       "      <th>price</th>\n",
       "      <th>time</th>\n",
       "      <th>distance</th>\n",
       "    </tr>\n",
       "  </thead>\n",
       "  <tbody>\n",
       "    <tr>\n",
       "      <th>count</th>\n",
       "      <td>190321.000000</td>\n",
       "      <td>190321.000000</td>\n",
       "      <td>190321.000000</td>\n",
       "      <td>190321.000000</td>\n",
       "      <td>190321.000000</td>\n",
       "    </tr>\n",
       "    <tr>\n",
       "      <th>mean</th>\n",
       "      <td>67919.412272</td>\n",
       "      <td>667.159567</td>\n",
       "      <td>955.601391</td>\n",
       "      <td>1.418343</td>\n",
       "      <td>545.875221</td>\n",
       "    </tr>\n",
       "    <tr>\n",
       "      <th>std</th>\n",
       "      <td>39051.352769</td>\n",
       "      <td>387.624777</td>\n",
       "      <td>362.432241</td>\n",
       "      <td>0.543563</td>\n",
       "      <td>209.246707</td>\n",
       "    </tr>\n",
       "    <tr>\n",
       "      <th>min</th>\n",
       "      <td>0.000000</td>\n",
       "      <td>0.000000</td>\n",
       "      <td>301.510000</td>\n",
       "      <td>0.440000</td>\n",
       "      <td>168.220000</td>\n",
       "    </tr>\n",
       "    <tr>\n",
       "      <th>25%</th>\n",
       "      <td>34245.000000</td>\n",
       "      <td>328.000000</td>\n",
       "      <td>672.660000</td>\n",
       "      <td>1.020000</td>\n",
       "      <td>392.760000</td>\n",
       "    </tr>\n",
       "    <tr>\n",
       "      <th>50%</th>\n",
       "      <td>68332.000000</td>\n",
       "      <td>662.000000</td>\n",
       "      <td>899.600000</td>\n",
       "      <td>1.460000</td>\n",
       "      <td>562.140000</td>\n",
       "    </tr>\n",
       "    <tr>\n",
       "      <th>75%</th>\n",
       "      <td>101679.000000</td>\n",
       "      <td>1009.000000</td>\n",
       "      <td>1222.240000</td>\n",
       "      <td>1.760000</td>\n",
       "      <td>676.530000</td>\n",
       "    </tr>\n",
       "    <tr>\n",
       "      <th>max</th>\n",
       "      <td>135943.000000</td>\n",
       "      <td>1339.000000</td>\n",
       "      <td>1754.170000</td>\n",
       "      <td>2.440000</td>\n",
       "      <td>937.770000</td>\n",
       "    </tr>\n",
       "  </tbody>\n",
       "</table>\n",
       "</div>"
      ],
      "text/plain": [
       "          travelCode       userCode          price           time  \\\n",
       "count  190321.000000  190321.000000  190321.000000  190321.000000   \n",
       "mean    67919.412272     667.159567     955.601391       1.418343   \n",
       "std     39051.352769     387.624777     362.432241       0.543563   \n",
       "min         0.000000       0.000000     301.510000       0.440000   \n",
       "25%     34245.000000     328.000000     672.660000       1.020000   \n",
       "50%     68332.000000     662.000000     899.600000       1.460000   \n",
       "75%    101679.000000    1009.000000    1222.240000       1.760000   \n",
       "max    135943.000000    1339.000000    1754.170000       2.440000   \n",
       "\n",
       "            distance  \n",
       "count  190321.000000  \n",
       "mean      545.875221  \n",
       "std       209.246707  \n",
       "min       168.220000  \n",
       "25%       392.760000  \n",
       "50%       562.140000  \n",
       "75%       676.530000  \n",
       "max       937.770000  "
      ]
     },
     "execution_count": 5,
     "metadata": {},
     "output_type": "execute_result"
    }
   ],
   "source": [
    "raw_df.describe()"
   ]
  },
  {
   "cell_type": "code",
   "execution_count": 6,
   "metadata": {},
   "outputs": [
    {
     "data": {
      "application/vnd.microsoft.datawrangler.viewer.v0+json": {
       "columns": [
        {
         "name": "index",
         "rawType": "object",
         "type": "string"
        },
        {
         "name": "from",
         "rawType": "object",
         "type": "unknown"
        },
        {
         "name": "to",
         "rawType": "object",
         "type": "unknown"
        },
        {
         "name": "flightType",
         "rawType": "object",
         "type": "unknown"
        },
        {
         "name": "agency",
         "rawType": "object",
         "type": "unknown"
        },
        {
         "name": "date",
         "rawType": "object",
         "type": "unknown"
        }
       ],
       "ref": "2f551520-9996-484f-a683-0ecd08a7802a",
       "rows": [
        [
         "count",
         "190321",
         "190321",
         "190321",
         "190321",
         "190321"
        ],
        [
         "unique",
         "9",
         "9",
         "3",
         "3",
         "461"
        ],
        [
         "top",
         "Florianopolis (SC)",
         "Florianopolis (SC)",
         "firstClass",
         "Rainbow",
         "2019-09-26"
        ],
        [
         "freq",
         "39868",
         "39737",
         "81242",
         "81741",
         "1335"
        ]
       ],
       "shape": {
        "columns": 5,
        "rows": 4
       }
      },
      "text/html": [
       "<div>\n",
       "<style scoped>\n",
       "    .dataframe tbody tr th:only-of-type {\n",
       "        vertical-align: middle;\n",
       "    }\n",
       "\n",
       "    .dataframe tbody tr th {\n",
       "        vertical-align: top;\n",
       "    }\n",
       "\n",
       "    .dataframe thead th {\n",
       "        text-align: right;\n",
       "    }\n",
       "</style>\n",
       "<table border=\"1\" class=\"dataframe\">\n",
       "  <thead>\n",
       "    <tr style=\"text-align: right;\">\n",
       "      <th></th>\n",
       "      <th>from</th>\n",
       "      <th>to</th>\n",
       "      <th>flightType</th>\n",
       "      <th>agency</th>\n",
       "      <th>date</th>\n",
       "    </tr>\n",
       "  </thead>\n",
       "  <tbody>\n",
       "    <tr>\n",
       "      <th>count</th>\n",
       "      <td>190321</td>\n",
       "      <td>190321</td>\n",
       "      <td>190321</td>\n",
       "      <td>190321</td>\n",
       "      <td>190321</td>\n",
       "    </tr>\n",
       "    <tr>\n",
       "      <th>unique</th>\n",
       "      <td>9</td>\n",
       "      <td>9</td>\n",
       "      <td>3</td>\n",
       "      <td>3</td>\n",
       "      <td>461</td>\n",
       "    </tr>\n",
       "    <tr>\n",
       "      <th>top</th>\n",
       "      <td>Florianopolis (SC)</td>\n",
       "      <td>Florianopolis (SC)</td>\n",
       "      <td>firstClass</td>\n",
       "      <td>Rainbow</td>\n",
       "      <td>2019-09-26</td>\n",
       "    </tr>\n",
       "    <tr>\n",
       "      <th>freq</th>\n",
       "      <td>39868</td>\n",
       "      <td>39737</td>\n",
       "      <td>81242</td>\n",
       "      <td>81741</td>\n",
       "      <td>1335</td>\n",
       "    </tr>\n",
       "  </tbody>\n",
       "</table>\n",
       "</div>"
      ],
      "text/plain": [
       "                      from                  to  flightType   agency  \\\n",
       "count               190321              190321      190321   190321   \n",
       "unique                   9                   9           3        3   \n",
       "top     Florianopolis (SC)  Florianopolis (SC)  firstClass  Rainbow   \n",
       "freq                 39868               39737       81242    81741   \n",
       "\n",
       "              date  \n",
       "count       190321  \n",
       "unique         461  \n",
       "top     2019-09-26  \n",
       "freq          1335  "
      ]
     },
     "execution_count": 6,
     "metadata": {},
     "output_type": "execute_result"
    }
   ],
   "source": [
    "raw_df.describe(include=\"object\")"
   ]
  },
  {
   "cell_type": "code",
   "execution_count": 7,
   "metadata": {},
   "outputs": [
    {
     "data": {
      "application/vnd.microsoft.datawrangler.viewer.v0+json": {
       "columns": [
        {
         "name": "index",
         "rawType": "object",
         "type": "string"
        },
        {
         "name": "0",
         "rawType": "int64",
         "type": "integer"
        }
       ],
       "ref": "dc0624c3-425c-460a-a8a2-a52db366f3cf",
       "rows": [
        [
         "travelCode",
         "95430"
        ],
        [
         "userCode",
         "1335"
        ],
        [
         "from",
         "9"
        ],
        [
         "to",
         "9"
        ],
        [
         "flightType",
         "3"
        ],
        [
         "price",
         "490"
        ],
        [
         "time",
         "33"
        ],
        [
         "distance",
         "35"
        ],
        [
         "agency",
         "3"
        ],
        [
         "date",
         "461"
        ]
       ],
       "shape": {
        "columns": 1,
        "rows": 10
       }
      },
      "text/plain": [
       "travelCode    95430\n",
       "userCode       1335\n",
       "from              9\n",
       "to                9\n",
       "flightType        3\n",
       "price           490\n",
       "time             33\n",
       "distance         35\n",
       "agency            3\n",
       "date            461\n",
       "dtype: int64"
      ]
     },
     "execution_count": 7,
     "metadata": {},
     "output_type": "execute_result"
    }
   ],
   "source": [
    "raw_df.nunique()"
   ]
  },
  {
   "cell_type": "code",
   "execution_count": 8,
   "metadata": {},
   "outputs": [
    {
     "name": "stdout",
     "output_type": "stream",
     "text": [
      "from:['Recife (PE)', 'Florianopolis (SC)', 'Aracaju (SE)', 'Campo Grande (MS)', 'Brasilia (DF)', 'Natal (RN)', 'Sao Paulo (SP)', 'Rio de Janeiro (RJ)', 'Salvador (BH)']\n",
      "to:['Florianopolis (SC)', 'Natal (RN)', 'Salvador (BH)', 'Rio de Janeiro (RJ)', 'Aracaju (SE)', 'Sao Paulo (SP)', 'Recife (PE)', 'Campo Grande (MS)', 'Brasilia (DF)']\n",
      "flightType:['firstClass', 'premium', 'economic']\n",
      "agency:['FlyingDrops', 'CloudFy', 'Rainbow']\n"
     ]
    }
   ],
   "source": [
    "cat_cols = list(raw_df.select_dtypes(include=\"object\").columns)\n",
    "cat_cols.remove(\"date\")\n",
    "for col in cat_cols:\n",
    "    unique_cats = list(raw_df[col].unique())\n",
    "    print(f\"{col}:{unique_cats}\")"
   ]
  },
  {
   "cell_type": "markdown",
   "metadata": {},
   "source": [
    "### Initial Thoughts on Raw Data:\n",
    "- The dataset contains a mix of numerical and categorical features.\n",
    "- Column names are not standardized.\n"
   ]
  },
  {
   "cell_type": "markdown",
   "metadata": {},
   "source": [
    "## 2. Bronze Data Analysis"
   ]
  },
  {
   "cell_type": "code",
   "execution_count": 9,
   "metadata": {},
   "outputs": [
    {
     "data": {
      "application/vnd.microsoft.datawrangler.viewer.v0+json": {
       "columns": [
        {
         "name": "index",
         "rawType": "int64",
         "type": "integer"
        },
        {
         "name": "travelCode",
         "rawType": "int64",
         "type": "integer"
        },
        {
         "name": "userCode",
         "rawType": "int64",
         "type": "integer"
        },
        {
         "name": "from",
         "rawType": "object",
         "type": "string"
        },
        {
         "name": "to",
         "rawType": "object",
         "type": "string"
        },
        {
         "name": "flightType",
         "rawType": "object",
         "type": "string"
        },
        {
         "name": "price",
         "rawType": "float64",
         "type": "float"
        },
        {
         "name": "time",
         "rawType": "float64",
         "type": "float"
        },
        {
         "name": "distance",
         "rawType": "float64",
         "type": "float"
        },
        {
         "name": "agency",
         "rawType": "object",
         "type": "string"
        },
        {
         "name": "date",
         "rawType": "object",
         "type": "string"
        }
       ],
       "ref": "a6ca7777-5b10-40e2-b237-8ddd5845f225",
       "rows": [
        [
         "0",
         "0",
         "0",
         "Recife (PE)",
         "Florianopolis (SC)",
         "firstClass",
         "1434.38",
         "1.76",
         "676.53",
         "FlyingDrops",
         "2019-09-26"
        ],
        [
         "1",
         "121138",
         "1202",
         "Florianopolis (SC)",
         "Natal (RN)",
         "firstClass",
         "1315.27",
         "1.84",
         "709.37",
         "CloudFy",
         "2019-09-26"
        ],
        [
         "2",
         "132076",
         "1301",
         "Florianopolis (SC)",
         "Salvador (BH)",
         "premium",
         "1311.38",
         "2.44",
         "937.77",
         "CloudFy",
         "2019-09-26"
        ],
        [
         "3",
         "28904",
         "276",
         "Recife (PE)",
         "Rio de Janeiro (RJ)",
         "economic",
         "908.93",
         "2.3",
         "885.57",
         "Rainbow",
         "2019-09-26"
        ],
        [
         "4",
         "88695",
         "877",
         "Aracaju (SE)",
         "Natal (RN)",
         "firstClass",
         "598.61",
         "0.46",
         "176.33",
         "CloudFy",
         "2019-09-26"
        ]
       ],
       "shape": {
        "columns": 10,
        "rows": 5
       }
      },
      "text/html": [
       "<div>\n",
       "<style scoped>\n",
       "    .dataframe tbody tr th:only-of-type {\n",
       "        vertical-align: middle;\n",
       "    }\n",
       "\n",
       "    .dataframe tbody tr th {\n",
       "        vertical-align: top;\n",
       "    }\n",
       "\n",
       "    .dataframe thead th {\n",
       "        text-align: right;\n",
       "    }\n",
       "</style>\n",
       "<table border=\"1\" class=\"dataframe\">\n",
       "  <thead>\n",
       "    <tr style=\"text-align: right;\">\n",
       "      <th></th>\n",
       "      <th>travelCode</th>\n",
       "      <th>userCode</th>\n",
       "      <th>from</th>\n",
       "      <th>to</th>\n",
       "      <th>flightType</th>\n",
       "      <th>price</th>\n",
       "      <th>time</th>\n",
       "      <th>distance</th>\n",
       "      <th>agency</th>\n",
       "      <th>date</th>\n",
       "    </tr>\n",
       "  </thead>\n",
       "  <tbody>\n",
       "    <tr>\n",
       "      <th>0</th>\n",
       "      <td>0</td>\n",
       "      <td>0</td>\n",
       "      <td>Recife (PE)</td>\n",
       "      <td>Florianopolis (SC)</td>\n",
       "      <td>firstClass</td>\n",
       "      <td>1434.38</td>\n",
       "      <td>1.76</td>\n",
       "      <td>676.53</td>\n",
       "      <td>FlyingDrops</td>\n",
       "      <td>2019-09-26</td>\n",
       "    </tr>\n",
       "    <tr>\n",
       "      <th>1</th>\n",
       "      <td>121138</td>\n",
       "      <td>1202</td>\n",
       "      <td>Florianopolis (SC)</td>\n",
       "      <td>Natal (RN)</td>\n",
       "      <td>firstClass</td>\n",
       "      <td>1315.27</td>\n",
       "      <td>1.84</td>\n",
       "      <td>709.37</td>\n",
       "      <td>CloudFy</td>\n",
       "      <td>2019-09-26</td>\n",
       "    </tr>\n",
       "    <tr>\n",
       "      <th>2</th>\n",
       "      <td>132076</td>\n",
       "      <td>1301</td>\n",
       "      <td>Florianopolis (SC)</td>\n",
       "      <td>Salvador (BH)</td>\n",
       "      <td>premium</td>\n",
       "      <td>1311.38</td>\n",
       "      <td>2.44</td>\n",
       "      <td>937.77</td>\n",
       "      <td>CloudFy</td>\n",
       "      <td>2019-09-26</td>\n",
       "    </tr>\n",
       "    <tr>\n",
       "      <th>3</th>\n",
       "      <td>28904</td>\n",
       "      <td>276</td>\n",
       "      <td>Recife (PE)</td>\n",
       "      <td>Rio de Janeiro (RJ)</td>\n",
       "      <td>economic</td>\n",
       "      <td>908.93</td>\n",
       "      <td>2.30</td>\n",
       "      <td>885.57</td>\n",
       "      <td>Rainbow</td>\n",
       "      <td>2019-09-26</td>\n",
       "    </tr>\n",
       "    <tr>\n",
       "      <th>4</th>\n",
       "      <td>88695</td>\n",
       "      <td>877</td>\n",
       "      <td>Aracaju (SE)</td>\n",
       "      <td>Natal (RN)</td>\n",
       "      <td>firstClass</td>\n",
       "      <td>598.61</td>\n",
       "      <td>0.46</td>\n",
       "      <td>176.33</td>\n",
       "      <td>CloudFy</td>\n",
       "      <td>2019-09-26</td>\n",
       "    </tr>\n",
       "  </tbody>\n",
       "</table>\n",
       "</div>"
      ],
      "text/plain": [
       "   travelCode  userCode                from                   to  flightType  \\\n",
       "0           0         0         Recife (PE)   Florianopolis (SC)  firstClass   \n",
       "1      121138      1202  Florianopolis (SC)           Natal (RN)  firstClass   \n",
       "2      132076      1301  Florianopolis (SC)        Salvador (BH)     premium   \n",
       "3       28904       276         Recife (PE)  Rio de Janeiro (RJ)    economic   \n",
       "4       88695       877        Aracaju (SE)           Natal (RN)  firstClass   \n",
       "\n",
       "     price  time  distance       agency        date  \n",
       "0  1434.38  1.76    676.53  FlyingDrops  2019-09-26  \n",
       "1  1315.27  1.84    709.37      CloudFy  2019-09-26  \n",
       "2  1311.38  2.44    937.77      CloudFy  2019-09-26  \n",
       "3   908.93  2.30    885.57      Rainbow  2019-09-26  \n",
       "4   598.61  0.46    176.33      CloudFy  2019-09-26  "
      ]
     },
     "execution_count": 9,
     "metadata": {},
     "output_type": "execute_result"
    }
   ],
   "source": [
    "bronze_train_df = pd.read_csv(config_bronze.BRONZE_PROCESSED_DIR / \"train.csv\")\n",
    "bronze_train_df.head()"
   ]
  },
  {
   "cell_type": "code",
   "execution_count": 10,
   "metadata": {},
   "outputs": [
    {
     "name": "stdout",
     "output_type": "stream",
     "text": [
      "<class 'pandas.core.frame.DataFrame'>\n",
      "RangeIndex: 190321 entries, 0 to 190320\n",
      "Data columns (total 10 columns):\n",
      " #   Column      Non-Null Count   Dtype  \n",
      "---  ------      --------------   -----  \n",
      " 0   travelCode  190321 non-null  int64  \n",
      " 1   userCode    190321 non-null  int64  \n",
      " 2   from        190321 non-null  object \n",
      " 3   to          190321 non-null  object \n",
      " 4   flightType  190321 non-null  object \n",
      " 5   price       190321 non-null  float64\n",
      " 6   time        190321 non-null  float64\n",
      " 7   distance    190321 non-null  float64\n",
      " 8   agency      190321 non-null  object \n",
      " 9   date        190321 non-null  object \n",
      "dtypes: float64(3), int64(2), object(5)\n",
      "memory usage: 14.5+ MB\n"
     ]
    }
   ],
   "source": [
    "bronze_train_df.info()"
   ]
  },
  {
   "cell_type": "code",
   "execution_count": 11,
   "metadata": {},
   "outputs": [
    {
     "data": {
      "application/vnd.microsoft.datawrangler.viewer.v0+json": {
       "columns": [
        {
         "name": "index",
         "rawType": "object",
         "type": "string"
        },
        {
         "name": "travelCode",
         "rawType": "float64",
         "type": "float"
        },
        {
         "name": "userCode",
         "rawType": "float64",
         "type": "float"
        },
        {
         "name": "price",
         "rawType": "float64",
         "type": "float"
        },
        {
         "name": "time",
         "rawType": "float64",
         "type": "float"
        },
        {
         "name": "distance",
         "rawType": "float64",
         "type": "float"
        }
       ],
       "ref": "d7698e4c-815f-44ce-881e-587f54255c34",
       "rows": [
        [
         "count",
         "190321.0",
         "190321.0",
         "190321.0",
         "190321.0",
         "190321.0"
        ],
        [
         "mean",
         "67919.41227189853",
         "667.159567257423",
         "955.6013910708749",
         "1.4183429574245616",
         "545.8752212840412"
        ],
        [
         "std",
         "39051.35276859851",
         "387.6247774338065",
         "362.4322407539498",
         "0.5435625681000794",
         "209.24670661403098"
        ],
        [
         "min",
         "0.0",
         "0.0",
         "301.51",
         "0.44",
         "168.22"
        ],
        [
         "25%",
         "34245.0",
         "328.0",
         "672.66",
         "1.02",
         "392.76"
        ],
        [
         "50%",
         "68332.0",
         "662.0",
         "899.6",
         "1.46",
         "562.14"
        ],
        [
         "75%",
         "101679.0",
         "1009.0",
         "1222.24",
         "1.76",
         "676.53"
        ],
        [
         "max",
         "135943.0",
         "1339.0",
         "1754.17",
         "2.44",
         "937.77"
        ]
       ],
       "shape": {
        "columns": 5,
        "rows": 8
       }
      },
      "text/html": [
       "<div>\n",
       "<style scoped>\n",
       "    .dataframe tbody tr th:only-of-type {\n",
       "        vertical-align: middle;\n",
       "    }\n",
       "\n",
       "    .dataframe tbody tr th {\n",
       "        vertical-align: top;\n",
       "    }\n",
       "\n",
       "    .dataframe thead th {\n",
       "        text-align: right;\n",
       "    }\n",
       "</style>\n",
       "<table border=\"1\" class=\"dataframe\">\n",
       "  <thead>\n",
       "    <tr style=\"text-align: right;\">\n",
       "      <th></th>\n",
       "      <th>travelCode</th>\n",
       "      <th>userCode</th>\n",
       "      <th>price</th>\n",
       "      <th>time</th>\n",
       "      <th>distance</th>\n",
       "    </tr>\n",
       "  </thead>\n",
       "  <tbody>\n",
       "    <tr>\n",
       "      <th>count</th>\n",
       "      <td>190321.000000</td>\n",
       "      <td>190321.000000</td>\n",
       "      <td>190321.000000</td>\n",
       "      <td>190321.000000</td>\n",
       "      <td>190321.000000</td>\n",
       "    </tr>\n",
       "    <tr>\n",
       "      <th>mean</th>\n",
       "      <td>67919.412272</td>\n",
       "      <td>667.159567</td>\n",
       "      <td>955.601391</td>\n",
       "      <td>1.418343</td>\n",
       "      <td>545.875221</td>\n",
       "    </tr>\n",
       "    <tr>\n",
       "      <th>std</th>\n",
       "      <td>39051.352769</td>\n",
       "      <td>387.624777</td>\n",
       "      <td>362.432241</td>\n",
       "      <td>0.543563</td>\n",
       "      <td>209.246707</td>\n",
       "    </tr>\n",
       "    <tr>\n",
       "      <th>min</th>\n",
       "      <td>0.000000</td>\n",
       "      <td>0.000000</td>\n",
       "      <td>301.510000</td>\n",
       "      <td>0.440000</td>\n",
       "      <td>168.220000</td>\n",
       "    </tr>\n",
       "    <tr>\n",
       "      <th>25%</th>\n",
       "      <td>34245.000000</td>\n",
       "      <td>328.000000</td>\n",
       "      <td>672.660000</td>\n",
       "      <td>1.020000</td>\n",
       "      <td>392.760000</td>\n",
       "    </tr>\n",
       "    <tr>\n",
       "      <th>50%</th>\n",
       "      <td>68332.000000</td>\n",
       "      <td>662.000000</td>\n",
       "      <td>899.600000</td>\n",
       "      <td>1.460000</td>\n",
       "      <td>562.140000</td>\n",
       "    </tr>\n",
       "    <tr>\n",
       "      <th>75%</th>\n",
       "      <td>101679.000000</td>\n",
       "      <td>1009.000000</td>\n",
       "      <td>1222.240000</td>\n",
       "      <td>1.760000</td>\n",
       "      <td>676.530000</td>\n",
       "    </tr>\n",
       "    <tr>\n",
       "      <th>max</th>\n",
       "      <td>135943.000000</td>\n",
       "      <td>1339.000000</td>\n",
       "      <td>1754.170000</td>\n",
       "      <td>2.440000</td>\n",
       "      <td>937.770000</td>\n",
       "    </tr>\n",
       "  </tbody>\n",
       "</table>\n",
       "</div>"
      ],
      "text/plain": [
       "          travelCode       userCode          price           time  \\\n",
       "count  190321.000000  190321.000000  190321.000000  190321.000000   \n",
       "mean    67919.412272     667.159567     955.601391       1.418343   \n",
       "std     39051.352769     387.624777     362.432241       0.543563   \n",
       "min         0.000000       0.000000     301.510000       0.440000   \n",
       "25%     34245.000000     328.000000     672.660000       1.020000   \n",
       "50%     68332.000000     662.000000     899.600000       1.460000   \n",
       "75%    101679.000000    1009.000000    1222.240000       1.760000   \n",
       "max    135943.000000    1339.000000    1754.170000       2.440000   \n",
       "\n",
       "            distance  \n",
       "count  190321.000000  \n",
       "mean      545.875221  \n",
       "std       209.246707  \n",
       "min       168.220000  \n",
       "25%       392.760000  \n",
       "50%       562.140000  \n",
       "75%       676.530000  \n",
       "max       937.770000  "
      ]
     },
     "execution_count": 11,
     "metadata": {},
     "output_type": "execute_result"
    }
   ],
   "source": [
    "bronze_train_df.describe()"
   ]
  },
  {
   "cell_type": "code",
   "execution_count": 12,
   "metadata": {},
   "outputs": [
    {
     "data": {
      "application/vnd.microsoft.datawrangler.viewer.v0+json": {
       "columns": [
        {
         "name": "index",
         "rawType": "object",
         "type": "string"
        },
        {
         "name": "from",
         "rawType": "object",
         "type": "unknown"
        },
        {
         "name": "to",
         "rawType": "object",
         "type": "unknown"
        },
        {
         "name": "flightType",
         "rawType": "object",
         "type": "unknown"
        },
        {
         "name": "agency",
         "rawType": "object",
         "type": "unknown"
        },
        {
         "name": "date",
         "rawType": "object",
         "type": "unknown"
        }
       ],
       "ref": "12f79732-502c-45b3-9648-5ac35b8c94e9",
       "rows": [
        [
         "count",
         "190321",
         "190321",
         "190321",
         "190321",
         "190321"
        ],
        [
         "unique",
         "9",
         "9",
         "3",
         "3",
         "461"
        ],
        [
         "top",
         "Florianopolis (SC)",
         "Florianopolis (SC)",
         "firstClass",
         "Rainbow",
         "2019-09-26"
        ],
        [
         "freq",
         "39868",
         "39737",
         "81242",
         "81741",
         "1335"
        ]
       ],
       "shape": {
        "columns": 5,
        "rows": 4
       }
      },
      "text/html": [
       "<div>\n",
       "<style scoped>\n",
       "    .dataframe tbody tr th:only-of-type {\n",
       "        vertical-align: middle;\n",
       "    }\n",
       "\n",
       "    .dataframe tbody tr th {\n",
       "        vertical-align: top;\n",
       "    }\n",
       "\n",
       "    .dataframe thead th {\n",
       "        text-align: right;\n",
       "    }\n",
       "</style>\n",
       "<table border=\"1\" class=\"dataframe\">\n",
       "  <thead>\n",
       "    <tr style=\"text-align: right;\">\n",
       "      <th></th>\n",
       "      <th>from</th>\n",
       "      <th>to</th>\n",
       "      <th>flightType</th>\n",
       "      <th>agency</th>\n",
       "      <th>date</th>\n",
       "    </tr>\n",
       "  </thead>\n",
       "  <tbody>\n",
       "    <tr>\n",
       "      <th>count</th>\n",
       "      <td>190321</td>\n",
       "      <td>190321</td>\n",
       "      <td>190321</td>\n",
       "      <td>190321</td>\n",
       "      <td>190321</td>\n",
       "    </tr>\n",
       "    <tr>\n",
       "      <th>unique</th>\n",
       "      <td>9</td>\n",
       "      <td>9</td>\n",
       "      <td>3</td>\n",
       "      <td>3</td>\n",
       "      <td>461</td>\n",
       "    </tr>\n",
       "    <tr>\n",
       "      <th>top</th>\n",
       "      <td>Florianopolis (SC)</td>\n",
       "      <td>Florianopolis (SC)</td>\n",
       "      <td>firstClass</td>\n",
       "      <td>Rainbow</td>\n",
       "      <td>2019-09-26</td>\n",
       "    </tr>\n",
       "    <tr>\n",
       "      <th>freq</th>\n",
       "      <td>39868</td>\n",
       "      <td>39737</td>\n",
       "      <td>81242</td>\n",
       "      <td>81741</td>\n",
       "      <td>1335</td>\n",
       "    </tr>\n",
       "  </tbody>\n",
       "</table>\n",
       "</div>"
      ],
      "text/plain": [
       "                      from                  to  flightType   agency  \\\n",
       "count               190321              190321      190321   190321   \n",
       "unique                   9                   9           3        3   \n",
       "top     Florianopolis (SC)  Florianopolis (SC)  firstClass  Rainbow   \n",
       "freq                 39868               39737       81242    81741   \n",
       "\n",
       "              date  \n",
       "count       190321  \n",
       "unique         461  \n",
       "top     2019-09-26  \n",
       "freq          1335  "
      ]
     },
     "execution_count": 12,
     "metadata": {},
     "output_type": "execute_result"
    }
   ],
   "source": [
    "bronze_train_df.describe(include=\"object\")"
   ]
  },
  {
   "cell_type": "code",
   "execution_count": 13,
   "metadata": {},
   "outputs": [
    {
     "data": {
      "application/vnd.microsoft.datawrangler.viewer.v0+json": {
       "columns": [
        {
         "name": "index",
         "rawType": "object",
         "type": "string"
        },
        {
         "name": "0",
         "rawType": "int64",
         "type": "integer"
        }
       ],
       "ref": "84ce7a90-c6c8-4bc9-ae9b-90ec45454b8b",
       "rows": [
        [
         "travelCode",
         "95430"
        ],
        [
         "userCode",
         "1335"
        ],
        [
         "from",
         "9"
        ],
        [
         "to",
         "9"
        ],
        [
         "flightType",
         "3"
        ],
        [
         "price",
         "490"
        ],
        [
         "time",
         "33"
        ],
        [
         "distance",
         "35"
        ],
        [
         "agency",
         "3"
        ],
        [
         "date",
         "461"
        ]
       ],
       "shape": {
        "columns": 1,
        "rows": 10
       }
      },
      "text/plain": [
       "travelCode    95430\n",
       "userCode       1335\n",
       "from              9\n",
       "to                9\n",
       "flightType        3\n",
       "price           490\n",
       "time             33\n",
       "distance         35\n",
       "agency            3\n",
       "date            461\n",
       "dtype: int64"
      ]
     },
     "execution_count": 13,
     "metadata": {},
     "output_type": "execute_result"
    }
   ],
   "source": [
    "bronze_train_df.nunique()"
   ]
  },
  {
   "cell_type": "markdown",
   "metadata": {},
   "source": [
    "### Bronze Pipeline Verification\n",
    "The `bronze_pipeline.py` is mainly responsible for data validation. It checks for:\n",
    "- Column presence and order.\n",
    "- Data types.\n",
    "Since the bronze data is just a validated version of the raw data, we don't expect to see significant changes in the data itself, but we can be more confident in its quality."
   ]
  },
  {
   "cell_type": "markdown",
   "metadata": {},
   "source": [
    "## 3. Silver Data Analysis"
   ]
  },
  {
   "cell_type": "code",
   "execution_count": 14,
   "metadata": {},
   "outputs": [
    {
     "data": {
      "application/vnd.microsoft.datawrangler.viewer.v0+json": {
       "columns": [
        {
         "name": "index",
         "rawType": "int64",
         "type": "integer"
        },
        {
         "name": "travel_code",
         "rawType": "int32",
         "type": "integer"
        },
        {
         "name": "user_code",
         "rawType": "int16",
         "type": "integer"
        },
        {
         "name": "from_location",
         "rawType": "category",
         "type": "unknown"
        },
        {
         "name": "to_location",
         "rawType": "category",
         "type": "unknown"
        },
        {
         "name": "flight_type",
         "rawType": "category",
         "type": "unknown"
        },
        {
         "name": "price",
         "rawType": "float32",
         "type": "float"
        },
        {
         "name": "time",
         "rawType": "float32",
         "type": "float"
        },
        {
         "name": "distance",
         "rawType": "float32",
         "type": "float"
        },
        {
         "name": "agency",
         "rawType": "category",
         "type": "unknown"
        },
        {
         "name": "date",
         "rawType": "datetime64[ns]",
         "type": "datetime"
        },
        {
         "name": "year",
         "rawType": "int16",
         "type": "integer"
        },
        {
         "name": "month",
         "rawType": "int8",
         "type": "integer"
        },
        {
         "name": "day",
         "rawType": "int8",
         "type": "integer"
        },
        {
         "name": "day_of_week",
         "rawType": "int8",
         "type": "integer"
        },
        {
         "name": "day_of_year",
         "rawType": "int16",
         "type": "integer"
        },
        {
         "name": "week_of_year",
         "rawType": "int32",
         "type": "integer"
        }
       ],
       "ref": "83854e6d-e21f-4055-82df-984ee9d56c2e",
       "rows": [
        [
         "0",
         "0",
         "0",
         "Recife (PE)",
         "Florianopolis (SC)",
         "firstClass",
         "1434.38",
         "1.76",
         "676.53",
         "FlyingDrops",
         "2019-09-26 00:00:00",
         "2019",
         "9",
         "26",
         "3",
         "269",
         "39"
        ],
        [
         "1",
         "121138",
         "1202",
         "Florianopolis (SC)",
         "Natal (RN)",
         "firstClass",
         "1315.27",
         "1.84",
         "709.37",
         "CloudFy",
         "2019-09-26 00:00:00",
         "2019",
         "9",
         "26",
         "3",
         "269",
         "39"
        ],
        [
         "2",
         "132076",
         "1301",
         "Florianopolis (SC)",
         "Salvador (BH)",
         "premium",
         "1311.38",
         "2.44",
         "937.77",
         "CloudFy",
         "2019-09-26 00:00:00",
         "2019",
         "9",
         "26",
         "3",
         "269",
         "39"
        ],
        [
         "3",
         "28904",
         "276",
         "Recife (PE)",
         "Rio de Janeiro (RJ)",
         "economic",
         "908.93",
         "2.3",
         "885.57",
         "Rainbow",
         "2019-09-26 00:00:00",
         "2019",
         "9",
         "26",
         "3",
         "269",
         "39"
        ],
        [
         "4",
         "88695",
         "877",
         "Aracaju (SE)",
         "Natal (RN)",
         "firstClass",
         "598.61",
         "0.46",
         "176.33",
         "CloudFy",
         "2019-09-26 00:00:00",
         "2019",
         "9",
         "26",
         "3",
         "269",
         "39"
        ]
       ],
       "shape": {
        "columns": 16,
        "rows": 5
       }
      },
      "text/html": [
       "<div>\n",
       "<style scoped>\n",
       "    .dataframe tbody tr th:only-of-type {\n",
       "        vertical-align: middle;\n",
       "    }\n",
       "\n",
       "    .dataframe tbody tr th {\n",
       "        vertical-align: top;\n",
       "    }\n",
       "\n",
       "    .dataframe thead th {\n",
       "        text-align: right;\n",
       "    }\n",
       "</style>\n",
       "<table border=\"1\" class=\"dataframe\">\n",
       "  <thead>\n",
       "    <tr style=\"text-align: right;\">\n",
       "      <th></th>\n",
       "      <th>travel_code</th>\n",
       "      <th>user_code</th>\n",
       "      <th>from_location</th>\n",
       "      <th>to_location</th>\n",
       "      <th>flight_type</th>\n",
       "      <th>price</th>\n",
       "      <th>time</th>\n",
       "      <th>distance</th>\n",
       "      <th>agency</th>\n",
       "      <th>date</th>\n",
       "      <th>year</th>\n",
       "      <th>month</th>\n",
       "      <th>day</th>\n",
       "      <th>day_of_week</th>\n",
       "      <th>day_of_year</th>\n",
       "      <th>week_of_year</th>\n",
       "    </tr>\n",
       "  </thead>\n",
       "  <tbody>\n",
       "    <tr>\n",
       "      <th>0</th>\n",
       "      <td>0</td>\n",
       "      <td>0</td>\n",
       "      <td>Recife (PE)</td>\n",
       "      <td>Florianopolis (SC)</td>\n",
       "      <td>firstClass</td>\n",
       "      <td>1434.380005</td>\n",
       "      <td>1.76</td>\n",
       "      <td>676.530029</td>\n",
       "      <td>FlyingDrops</td>\n",
       "      <td>2019-09-26</td>\n",
       "      <td>2019</td>\n",
       "      <td>9</td>\n",
       "      <td>26</td>\n",
       "      <td>3</td>\n",
       "      <td>269</td>\n",
       "      <td>39</td>\n",
       "    </tr>\n",
       "    <tr>\n",
       "      <th>1</th>\n",
       "      <td>121138</td>\n",
       "      <td>1202</td>\n",
       "      <td>Florianopolis (SC)</td>\n",
       "      <td>Natal (RN)</td>\n",
       "      <td>firstClass</td>\n",
       "      <td>1315.270020</td>\n",
       "      <td>1.84</td>\n",
       "      <td>709.369995</td>\n",
       "      <td>CloudFy</td>\n",
       "      <td>2019-09-26</td>\n",
       "      <td>2019</td>\n",
       "      <td>9</td>\n",
       "      <td>26</td>\n",
       "      <td>3</td>\n",
       "      <td>269</td>\n",
       "      <td>39</td>\n",
       "    </tr>\n",
       "    <tr>\n",
       "      <th>2</th>\n",
       "      <td>132076</td>\n",
       "      <td>1301</td>\n",
       "      <td>Florianopolis (SC)</td>\n",
       "      <td>Salvador (BH)</td>\n",
       "      <td>premium</td>\n",
       "      <td>1311.380005</td>\n",
       "      <td>2.44</td>\n",
       "      <td>937.770020</td>\n",
       "      <td>CloudFy</td>\n",
       "      <td>2019-09-26</td>\n",
       "      <td>2019</td>\n",
       "      <td>9</td>\n",
       "      <td>26</td>\n",
       "      <td>3</td>\n",
       "      <td>269</td>\n",
       "      <td>39</td>\n",
       "    </tr>\n",
       "    <tr>\n",
       "      <th>3</th>\n",
       "      <td>28904</td>\n",
       "      <td>276</td>\n",
       "      <td>Recife (PE)</td>\n",
       "      <td>Rio de Janeiro (RJ)</td>\n",
       "      <td>economic</td>\n",
       "      <td>908.929993</td>\n",
       "      <td>2.30</td>\n",
       "      <td>885.570007</td>\n",
       "      <td>Rainbow</td>\n",
       "      <td>2019-09-26</td>\n",
       "      <td>2019</td>\n",
       "      <td>9</td>\n",
       "      <td>26</td>\n",
       "      <td>3</td>\n",
       "      <td>269</td>\n",
       "      <td>39</td>\n",
       "    </tr>\n",
       "    <tr>\n",
       "      <th>4</th>\n",
       "      <td>88695</td>\n",
       "      <td>877</td>\n",
       "      <td>Aracaju (SE)</td>\n",
       "      <td>Natal (RN)</td>\n",
       "      <td>firstClass</td>\n",
       "      <td>598.609985</td>\n",
       "      <td>0.46</td>\n",
       "      <td>176.330002</td>\n",
       "      <td>CloudFy</td>\n",
       "      <td>2019-09-26</td>\n",
       "      <td>2019</td>\n",
       "      <td>9</td>\n",
       "      <td>26</td>\n",
       "      <td>3</td>\n",
       "      <td>269</td>\n",
       "      <td>39</td>\n",
       "    </tr>\n",
       "  </tbody>\n",
       "</table>\n",
       "</div>"
      ],
      "text/plain": [
       "   travel_code  user_code       from_location          to_location  \\\n",
       "0            0          0         Recife (PE)   Florianopolis (SC)   \n",
       "1       121138       1202  Florianopolis (SC)           Natal (RN)   \n",
       "2       132076       1301  Florianopolis (SC)        Salvador (BH)   \n",
       "3        28904        276         Recife (PE)  Rio de Janeiro (RJ)   \n",
       "4        88695        877        Aracaju (SE)           Natal (RN)   \n",
       "\n",
       "  flight_type        price  time    distance       agency       date  year  \\\n",
       "0  firstClass  1434.380005  1.76  676.530029  FlyingDrops 2019-09-26  2019   \n",
       "1  firstClass  1315.270020  1.84  709.369995      CloudFy 2019-09-26  2019   \n",
       "2     premium  1311.380005  2.44  937.770020      CloudFy 2019-09-26  2019   \n",
       "3    economic   908.929993  2.30  885.570007      Rainbow 2019-09-26  2019   \n",
       "4  firstClass   598.609985  0.46  176.330002      CloudFy 2019-09-26  2019   \n",
       "\n",
       "   month  day  day_of_week  day_of_year  week_of_year  \n",
       "0      9   26            3          269            39  \n",
       "1      9   26            3          269            39  \n",
       "2      9   26            3          269            39  \n",
       "3      9   26            3          269            39  \n",
       "4      9   26            3          269            39  "
      ]
     },
     "execution_count": 14,
     "metadata": {},
     "output_type": "execute_result"
    }
   ],
   "source": [
    "silver_train_df = pd.read_parquet(config_silver.SILVER_PROCESSED_DIR / \"train.parquet\")\n",
    "silver_train_df.head()"
   ]
  },
  {
   "cell_type": "code",
   "execution_count": 15,
   "metadata": {},
   "outputs": [
    {
     "name": "stdout",
     "output_type": "stream",
     "text": [
      "<class 'pandas.core.frame.DataFrame'>\n",
      "RangeIndex: 190321 entries, 0 to 190320\n",
      "Data columns (total 16 columns):\n",
      " #   Column         Non-Null Count   Dtype         \n",
      "---  ------         --------------   -----         \n",
      " 0   travel_code    190321 non-null  int32         \n",
      " 1   user_code      190321 non-null  int16         \n",
      " 2   from_location  190321 non-null  category      \n",
      " 3   to_location    190321 non-null  category      \n",
      " 4   flight_type    190321 non-null  category      \n",
      " 5   price          190321 non-null  float32       \n",
      " 6   time           190321 non-null  float32       \n",
      " 7   distance       190321 non-null  float32       \n",
      " 8   agency         190321 non-null  category      \n",
      " 9   date           190321 non-null  datetime64[ns]\n",
      " 10  year           190321 non-null  int16         \n",
      " 11  month          190321 non-null  int8          \n",
      " 12  day            190321 non-null  int8          \n",
      " 13  day_of_week    190321 non-null  int8          \n",
      " 14  day_of_year    190321 non-null  int16         \n",
      " 15  week_of_year   190321 non-null  int32         \n",
      "dtypes: category(4), datetime64[ns](1), float32(3), int16(3), int32(2), int8(3)\n",
      "memory usage: 7.4 MB\n"
     ]
    }
   ],
   "source": [
    "silver_train_df.info()"
   ]
  },
  {
   "cell_type": "code",
   "execution_count": 16,
   "metadata": {},
   "outputs": [
    {
     "data": {
      "application/vnd.microsoft.datawrangler.viewer.v0+json": {
       "columns": [
        {
         "name": "index",
         "rawType": "object",
         "type": "string"
        },
        {
         "name": "travel_code",
         "rawType": "float64",
         "type": "float"
        },
        {
         "name": "user_code",
         "rawType": "float64",
         "type": "float"
        },
        {
         "name": "price",
         "rawType": "float64",
         "type": "float"
        },
        {
         "name": "time",
         "rawType": "float64",
         "type": "float"
        },
        {
         "name": "distance",
         "rawType": "float64",
         "type": "float"
        },
        {
         "name": "date",
         "rawType": "object",
         "type": "unknown"
        },
        {
         "name": "year",
         "rawType": "float64",
         "type": "float"
        },
        {
         "name": "month",
         "rawType": "float64",
         "type": "float"
        },
        {
         "name": "day",
         "rawType": "float64",
         "type": "float"
        },
        {
         "name": "day_of_week",
         "rawType": "float64",
         "type": "float"
        },
        {
         "name": "day_of_year",
         "rawType": "float64",
         "type": "float"
        },
        {
         "name": "week_of_year",
         "rawType": "float64",
         "type": "float"
        }
       ],
       "ref": "ae66d2c7-80f7-4015-8c19-d73508080adc",
       "rows": [
        [
         "count",
         "190321.0",
         "190321.0",
         "190321.0",
         "190321.0",
         "190321.0",
         "190321",
         "190321.0",
         "190321.0",
         "190321.0",
         "190321.0",
         "190321.0",
         "190321.0"
        ],
        [
         "mean",
         "67919.41227189853",
         "667.159567257423",
         "955.6013793945312",
         "1.4183430671691895",
         "545.875244140625",
         "2020-07-11 06:14:53.299215872",
         "2020.032040605083",
         "6.449950347045255",
         "15.853079796764414",
         "3.373122251354291",
         "181.34523778248328",
         "26.484938603727386"
        ],
        [
         "min",
         "0.0",
         "0.0",
         "301.510009765625",
         "0.4399999976158142",
         "168.22000122070312",
         "2019-09-26 00:00:00",
         "2019.0",
         "1.0",
         "1.0",
         "0.0",
         "1.0",
         "1.0"
        ],
        [
         "25%",
         "34245.0",
         "328.0",
         "672.6599731445312",
         "1.0199999809265137",
         "392.760009765625",
         "2020-02-02 00:00:00",
         "2020.0",
         "3.0",
         "8.0",
         "3.0",
         "80.0",
         "12.0"
        ],
        [
         "50%",
         "68332.0",
         "662.0",
         "899.5999755859375",
         "1.4600000381469727",
         "562.1400146484375",
         "2020-06-26 00:00:00",
         "2020.0",
         "6.0",
         "16.0",
         "3.0",
         "168.0",
         "24.0"
        ],
        [
         "75%",
         "101679.0",
         "1009.0",
         "1222.239990234375",
         "1.7599999904632568",
         "676.530029296875",
         "2020-12-10 00:00:00",
         "2020.0",
         "10.0",
         "24.0",
         "4.0",
         "290.0",
         "42.0"
        ],
        [
         "max",
         "135943.0",
         "1339.0",
         "1754.1700439453125",
         "2.440000057220459",
         "937.77001953125",
         "2021-07-01 00:00:00",
         "2021.0",
         "12.0",
         "31.0",
         "6.0",
         "366.0",
         "53.0"
        ],
        [
         "std",
         "39051.35276859851",
         "387.62477743381083",
         "362.42645263671875",
         "0.5434548854827881",
         "209.2086639404297",
         null,
         "0.6383540417921405",
         "3.6730528536654035",
         "8.843703162754972",
         "1.653324808139473",
         "112.40368993668412",
         "16.158774568885537"
        ]
       ],
       "shape": {
        "columns": 12,
        "rows": 8
       }
      },
      "text/html": [
       "<div>\n",
       "<style scoped>\n",
       "    .dataframe tbody tr th:only-of-type {\n",
       "        vertical-align: middle;\n",
       "    }\n",
       "\n",
       "    .dataframe tbody tr th {\n",
       "        vertical-align: top;\n",
       "    }\n",
       "\n",
       "    .dataframe thead th {\n",
       "        text-align: right;\n",
       "    }\n",
       "</style>\n",
       "<table border=\"1\" class=\"dataframe\">\n",
       "  <thead>\n",
       "    <tr style=\"text-align: right;\">\n",
       "      <th></th>\n",
       "      <th>travel_code</th>\n",
       "      <th>user_code</th>\n",
       "      <th>price</th>\n",
       "      <th>time</th>\n",
       "      <th>distance</th>\n",
       "      <th>date</th>\n",
       "      <th>year</th>\n",
       "      <th>month</th>\n",
       "      <th>day</th>\n",
       "      <th>day_of_week</th>\n",
       "      <th>day_of_year</th>\n",
       "      <th>week_of_year</th>\n",
       "    </tr>\n",
       "  </thead>\n",
       "  <tbody>\n",
       "    <tr>\n",
       "      <th>count</th>\n",
       "      <td>190321.000000</td>\n",
       "      <td>190321.000000</td>\n",
       "      <td>190321.000000</td>\n",
       "      <td>190321.000000</td>\n",
       "      <td>190321.000000</td>\n",
       "      <td>190321</td>\n",
       "      <td>190321.000000</td>\n",
       "      <td>190321.000000</td>\n",
       "      <td>190321.000000</td>\n",
       "      <td>190321.000000</td>\n",
       "      <td>190321.000000</td>\n",
       "      <td>190321.000000</td>\n",
       "    </tr>\n",
       "    <tr>\n",
       "      <th>mean</th>\n",
       "      <td>67919.412272</td>\n",
       "      <td>667.159567</td>\n",
       "      <td>955.601379</td>\n",
       "      <td>1.418343</td>\n",
       "      <td>545.875244</td>\n",
       "      <td>2020-07-11 06:14:53.299215872</td>\n",
       "      <td>2020.032041</td>\n",
       "      <td>6.449950</td>\n",
       "      <td>15.853080</td>\n",
       "      <td>3.373122</td>\n",
       "      <td>181.345238</td>\n",
       "      <td>26.484939</td>\n",
       "    </tr>\n",
       "    <tr>\n",
       "      <th>min</th>\n",
       "      <td>0.000000</td>\n",
       "      <td>0.000000</td>\n",
       "      <td>301.510010</td>\n",
       "      <td>0.440000</td>\n",
       "      <td>168.220001</td>\n",
       "      <td>2019-09-26 00:00:00</td>\n",
       "      <td>2019.000000</td>\n",
       "      <td>1.000000</td>\n",
       "      <td>1.000000</td>\n",
       "      <td>0.000000</td>\n",
       "      <td>1.000000</td>\n",
       "      <td>1.000000</td>\n",
       "    </tr>\n",
       "    <tr>\n",
       "      <th>25%</th>\n",
       "      <td>34245.000000</td>\n",
       "      <td>328.000000</td>\n",
       "      <td>672.659973</td>\n",
       "      <td>1.020000</td>\n",
       "      <td>392.760010</td>\n",
       "      <td>2020-02-02 00:00:00</td>\n",
       "      <td>2020.000000</td>\n",
       "      <td>3.000000</td>\n",
       "      <td>8.000000</td>\n",
       "      <td>3.000000</td>\n",
       "      <td>80.000000</td>\n",
       "      <td>12.000000</td>\n",
       "    </tr>\n",
       "    <tr>\n",
       "      <th>50%</th>\n",
       "      <td>68332.000000</td>\n",
       "      <td>662.000000</td>\n",
       "      <td>899.599976</td>\n",
       "      <td>1.460000</td>\n",
       "      <td>562.140015</td>\n",
       "      <td>2020-06-26 00:00:00</td>\n",
       "      <td>2020.000000</td>\n",
       "      <td>6.000000</td>\n",
       "      <td>16.000000</td>\n",
       "      <td>3.000000</td>\n",
       "      <td>168.000000</td>\n",
       "      <td>24.000000</td>\n",
       "    </tr>\n",
       "    <tr>\n",
       "      <th>75%</th>\n",
       "      <td>101679.000000</td>\n",
       "      <td>1009.000000</td>\n",
       "      <td>1222.239990</td>\n",
       "      <td>1.760000</td>\n",
       "      <td>676.530029</td>\n",
       "      <td>2020-12-10 00:00:00</td>\n",
       "      <td>2020.000000</td>\n",
       "      <td>10.000000</td>\n",
       "      <td>24.000000</td>\n",
       "      <td>4.000000</td>\n",
       "      <td>290.000000</td>\n",
       "      <td>42.000000</td>\n",
       "    </tr>\n",
       "    <tr>\n",
       "      <th>max</th>\n",
       "      <td>135943.000000</td>\n",
       "      <td>1339.000000</td>\n",
       "      <td>1754.170044</td>\n",
       "      <td>2.440000</td>\n",
       "      <td>937.770020</td>\n",
       "      <td>2021-07-01 00:00:00</td>\n",
       "      <td>2021.000000</td>\n",
       "      <td>12.000000</td>\n",
       "      <td>31.000000</td>\n",
       "      <td>6.000000</td>\n",
       "      <td>366.000000</td>\n",
       "      <td>53.000000</td>\n",
       "    </tr>\n",
       "    <tr>\n",
       "      <th>std</th>\n",
       "      <td>39051.352769</td>\n",
       "      <td>387.624777</td>\n",
       "      <td>362.426453</td>\n",
       "      <td>0.543455</td>\n",
       "      <td>209.208664</td>\n",
       "      <td>NaN</td>\n",
       "      <td>0.638354</td>\n",
       "      <td>3.673053</td>\n",
       "      <td>8.843703</td>\n",
       "      <td>1.653325</td>\n",
       "      <td>112.403690</td>\n",
       "      <td>16.158775</td>\n",
       "    </tr>\n",
       "  </tbody>\n",
       "</table>\n",
       "</div>"
      ],
      "text/plain": [
       "         travel_code      user_code          price           time  \\\n",
       "count  190321.000000  190321.000000  190321.000000  190321.000000   \n",
       "mean    67919.412272     667.159567     955.601379       1.418343   \n",
       "min         0.000000       0.000000     301.510010       0.440000   \n",
       "25%     34245.000000     328.000000     672.659973       1.020000   \n",
       "50%     68332.000000     662.000000     899.599976       1.460000   \n",
       "75%    101679.000000    1009.000000    1222.239990       1.760000   \n",
       "max    135943.000000    1339.000000    1754.170044       2.440000   \n",
       "std     39051.352769     387.624777     362.426453       0.543455   \n",
       "\n",
       "            distance                           date           year  \\\n",
       "count  190321.000000                         190321  190321.000000   \n",
       "mean      545.875244  2020-07-11 06:14:53.299215872    2020.032041   \n",
       "min       168.220001            2019-09-26 00:00:00    2019.000000   \n",
       "25%       392.760010            2020-02-02 00:00:00    2020.000000   \n",
       "50%       562.140015            2020-06-26 00:00:00    2020.000000   \n",
       "75%       676.530029            2020-12-10 00:00:00    2020.000000   \n",
       "max       937.770020            2021-07-01 00:00:00    2021.000000   \n",
       "std       209.208664                            NaN       0.638354   \n",
       "\n",
       "               month            day    day_of_week    day_of_year  \\\n",
       "count  190321.000000  190321.000000  190321.000000  190321.000000   \n",
       "mean        6.449950      15.853080       3.373122     181.345238   \n",
       "min         1.000000       1.000000       0.000000       1.000000   \n",
       "25%         3.000000       8.000000       3.000000      80.000000   \n",
       "50%         6.000000      16.000000       3.000000     168.000000   \n",
       "75%        10.000000      24.000000       4.000000     290.000000   \n",
       "max        12.000000      31.000000       6.000000     366.000000   \n",
       "std         3.673053       8.843703       1.653325     112.403690   \n",
       "\n",
       "        week_of_year  \n",
       "count  190321.000000  \n",
       "mean       26.484939  \n",
       "min         1.000000  \n",
       "25%        12.000000  \n",
       "50%        24.000000  \n",
       "75%        42.000000  \n",
       "max        53.000000  \n",
       "std        16.158775  "
      ]
     },
     "execution_count": 16,
     "metadata": {},
     "output_type": "execute_result"
    }
   ],
   "source": [
    "silver_train_df.describe()"
   ]
  },
  {
   "cell_type": "code",
   "execution_count": 17,
   "metadata": {},
   "outputs": [
    {
     "data": {
      "application/vnd.microsoft.datawrangler.viewer.v0+json": {
       "columns": [
        {
         "name": "index",
         "rawType": "object",
         "type": "string"
        },
        {
         "name": "from_location",
         "rawType": "object",
         "type": "unknown"
        },
        {
         "name": "to_location",
         "rawType": "object",
         "type": "unknown"
        },
        {
         "name": "flight_type",
         "rawType": "object",
         "type": "unknown"
        },
        {
         "name": "agency",
         "rawType": "object",
         "type": "unknown"
        }
       ],
       "ref": "f061e0ec-a1b8-4497-b8b2-576c5c080bb5",
       "rows": [
        [
         "count",
         "190321",
         "190321",
         "190321",
         "190321"
        ],
        [
         "unique",
         "9",
         "9",
         "3",
         "3"
        ],
        [
         "top",
         "Florianopolis (SC)",
         "Florianopolis (SC)",
         "firstClass",
         "Rainbow"
        ],
        [
         "freq",
         "39868",
         "39737",
         "81242",
         "81741"
        ]
       ],
       "shape": {
        "columns": 4,
        "rows": 4
       }
      },
      "text/html": [
       "<div>\n",
       "<style scoped>\n",
       "    .dataframe tbody tr th:only-of-type {\n",
       "        vertical-align: middle;\n",
       "    }\n",
       "\n",
       "    .dataframe tbody tr th {\n",
       "        vertical-align: top;\n",
       "    }\n",
       "\n",
       "    .dataframe thead th {\n",
       "        text-align: right;\n",
       "    }\n",
       "</style>\n",
       "<table border=\"1\" class=\"dataframe\">\n",
       "  <thead>\n",
       "    <tr style=\"text-align: right;\">\n",
       "      <th></th>\n",
       "      <th>from_location</th>\n",
       "      <th>to_location</th>\n",
       "      <th>flight_type</th>\n",
       "      <th>agency</th>\n",
       "    </tr>\n",
       "  </thead>\n",
       "  <tbody>\n",
       "    <tr>\n",
       "      <th>count</th>\n",
       "      <td>190321</td>\n",
       "      <td>190321</td>\n",
       "      <td>190321</td>\n",
       "      <td>190321</td>\n",
       "    </tr>\n",
       "    <tr>\n",
       "      <th>unique</th>\n",
       "      <td>9</td>\n",
       "      <td>9</td>\n",
       "      <td>3</td>\n",
       "      <td>3</td>\n",
       "    </tr>\n",
       "    <tr>\n",
       "      <th>top</th>\n",
       "      <td>Florianopolis (SC)</td>\n",
       "      <td>Florianopolis (SC)</td>\n",
       "      <td>firstClass</td>\n",
       "      <td>Rainbow</td>\n",
       "    </tr>\n",
       "    <tr>\n",
       "      <th>freq</th>\n",
       "      <td>39868</td>\n",
       "      <td>39737</td>\n",
       "      <td>81242</td>\n",
       "      <td>81741</td>\n",
       "    </tr>\n",
       "  </tbody>\n",
       "</table>\n",
       "</div>"
      ],
      "text/plain": [
       "             from_location         to_location flight_type   agency\n",
       "count               190321              190321      190321   190321\n",
       "unique                   9                   9           3        3\n",
       "top     Florianopolis (SC)  Florianopolis (SC)  firstClass  Rainbow\n",
       "freq                 39868               39737       81242    81741"
      ]
     },
     "execution_count": 17,
     "metadata": {},
     "output_type": "execute_result"
    }
   ],
   "source": [
    "silver_train_df.describe(include=[\"object\", \"category\"])"
   ]
  },
  {
   "cell_type": "code",
   "execution_count": 18,
   "metadata": {},
   "outputs": [
    {
     "data": {
      "text/plain": [
       "Index(['from_location', 'to_location', 'flight_type', 'agency'], dtype='object')"
      ]
     },
     "execution_count": 18,
     "metadata": {},
     "output_type": "execute_result"
    }
   ],
   "source": [
    "cat_silver_df = silver_train_df.select_dtypes(include=[\"category\"])\n",
    "cat_silver_df.columns"
   ]
  },
  {
   "cell_type": "code",
   "execution_count": 19,
   "metadata": {
    "scrolled": true
   },
   "outputs": [
    {
     "name": "stdout",
     "output_type": "stream",
     "text": [
      "['Aracaju (SE)', 'Brasilia (DF)', 'Campo Grande (MS)', 'Florianopolis (SC)', 'Natal (RN)', 'Recife (PE)', 'Rio de Janeiro (RJ)', 'Salvador (BH)', 'Sao Paulo (SP)']\n",
      "['Aracaju (SE)', 'Brasilia (DF)', 'Campo Grande (MS)', 'Florianopolis (SC)', 'Natal (RN)', 'Recife (PE)', 'Rio de Janeiro (RJ)', 'Salvador (BH)', 'Sao Paulo (SP)']\n",
      "['economic', 'firstClass', 'premium']\n",
      "['CloudFy', 'FlyingDrops', 'Rainbow']\n"
     ]
    }
   ],
   "source": [
    "for col in cat_silver_df.columns:\n",
    "    print(f\"{cat_silver_df[col].cat.categories.to_list()}\")"
   ]
  },
  {
   "cell_type": "code",
   "execution_count": 20,
   "metadata": {},
   "outputs": [
    {
     "data": {
      "application/vnd.microsoft.datawrangler.viewer.v0+json": {
       "columns": [
        {
         "name": "index",
         "rawType": "object",
         "type": "string"
        },
        {
         "name": "0",
         "rawType": "int64",
         "type": "integer"
        }
       ],
       "ref": "eb489f64-39cf-4aff-8271-a437df9ca2d6",
       "rows": [
        [
         "travel_code",
         "95430"
        ],
        [
         "user_code",
         "1335"
        ],
        [
         "from_location",
         "9"
        ],
        [
         "to_location",
         "9"
        ],
        [
         "flight_type",
         "3"
        ],
        [
         "price",
         "490"
        ],
        [
         "time",
         "33"
        ],
        [
         "distance",
         "35"
        ],
        [
         "agency",
         "3"
        ],
        [
         "date",
         "461"
        ],
        [
         "year",
         "3"
        ],
        [
         "month",
         "12"
        ],
        [
         "day",
         "31"
        ],
        [
         "day_of_week",
         "5"
        ],
        [
         "day_of_year",
         "327"
        ],
        [
         "week_of_year",
         "53"
        ]
       ],
       "shape": {
        "columns": 1,
        "rows": 16
       }
      },
      "text/plain": [
       "travel_code      95430\n",
       "user_code         1335\n",
       "from_location        9\n",
       "to_location          9\n",
       "flight_type          3\n",
       "price              490\n",
       "time                33\n",
       "distance            35\n",
       "agency               3\n",
       "date               461\n",
       "year                 3\n",
       "month               12\n",
       "day                 31\n",
       "day_of_week          5\n",
       "day_of_year        327\n",
       "week_of_year        53\n",
       "dtype: int64"
      ]
     },
     "execution_count": 20,
     "metadata": {},
     "output_type": "execute_result"
    }
   ],
   "source": [
    "silver_train_df.nunique()"
   ]
  },
  {
   "cell_type": "code",
   "execution_count": 21,
   "metadata": {},
   "outputs": [
    {
     "data": {
      "text/plain": [
       "0"
      ]
     },
     "execution_count": 21,
     "metadata": {},
     "output_type": "execute_result"
    }
   ],
   "source": [
    "silver_train_df.duplicated(keep=False).sum()"
   ]
  },
  {
   "cell_type": "code",
   "execution_count": 22,
   "metadata": {},
   "outputs": [],
   "source": [
    "silver_train_dropped = silver_train_df.drop(\n",
    "    columns=[\n",
    "        \"travel_code\",\n",
    "        \"user_code\",\n",
    "        \"date\",\n",
    "        \"day_of_year\",\n",
    "        \"week_of_year\",\n",
    "    ]\n",
    ")"
   ]
  },
  {
   "cell_type": "code",
   "execution_count": 23,
   "metadata": {},
   "outputs": [
    {
     "data": {
      "application/vnd.microsoft.datawrangler.viewer.v0+json": {
       "columns": [
        {
         "name": "index",
         "rawType": "int64",
         "type": "integer"
        },
        {
         "name": "from_location",
         "rawType": "category",
         "type": "unknown"
        },
        {
         "name": "to_location",
         "rawType": "category",
         "type": "unknown"
        },
        {
         "name": "flight_type",
         "rawType": "category",
         "type": "unknown"
        },
        {
         "name": "price",
         "rawType": "float32",
         "type": "float"
        },
        {
         "name": "time",
         "rawType": "float32",
         "type": "float"
        },
        {
         "name": "distance",
         "rawType": "float32",
         "type": "float"
        },
        {
         "name": "agency",
         "rawType": "category",
         "type": "unknown"
        },
        {
         "name": "year",
         "rawType": "int16",
         "type": "integer"
        },
        {
         "name": "month",
         "rawType": "int8",
         "type": "integer"
        },
        {
         "name": "day",
         "rawType": "int8",
         "type": "integer"
        },
        {
         "name": "day_of_week",
         "rawType": "int8",
         "type": "integer"
        }
       ],
       "ref": "5263b0ca-7331-4603-abdf-9c2cb354c1b4",
       "rows": [
        [
         "178241",
         "Florianopolis (SC)",
         "Salvador (BH)",
         "firstClass",
         "1630.75",
         "2.44",
         "937.77",
         "Rainbow",
         "2021",
         "5",
         "6",
         "3"
        ],
        [
         "120626",
         "Recife (PE)",
         "Natal (RN)",
         "economic",
         "360.22",
         "0.58",
         "222.67",
         "Rainbow",
         "2020",
         "9",
         "19",
         "5"
        ],
        [
         "86305",
         "Florianopolis (SC)",
         "Sao Paulo (SP)",
         "premium",
         "554.87",
         "1.46",
         "562.14",
         "CloudFy",
         "2020",
         "5",
         "28",
         "3"
        ],
        [
         "165873",
         "Salvador (BH)",
         "Florianopolis (SC)",
         "economic",
         "899.6",
         "2.44",
         "937.77",
         "Rainbow",
         "2021",
         "3",
         "12",
         "4"
        ],
        [
         "93011",
         "Recife (PE)",
         "Florianopolis (SC)",
         "firstClass",
         "1371.83",
         "1.76",
         "676.53",
         "Rainbow",
         "2020",
         "6",
         "19",
         "4"
        ]
       ],
       "shape": {
        "columns": 11,
        "rows": 5
       }
      },
      "text/html": [
       "<div>\n",
       "<style scoped>\n",
       "    .dataframe tbody tr th:only-of-type {\n",
       "        vertical-align: middle;\n",
       "    }\n",
       "\n",
       "    .dataframe tbody tr th {\n",
       "        vertical-align: top;\n",
       "    }\n",
       "\n",
       "    .dataframe thead th {\n",
       "        text-align: right;\n",
       "    }\n",
       "</style>\n",
       "<table border=\"1\" class=\"dataframe\">\n",
       "  <thead>\n",
       "    <tr style=\"text-align: right;\">\n",
       "      <th></th>\n",
       "      <th>from_location</th>\n",
       "      <th>to_location</th>\n",
       "      <th>flight_type</th>\n",
       "      <th>price</th>\n",
       "      <th>time</th>\n",
       "      <th>distance</th>\n",
       "      <th>agency</th>\n",
       "      <th>year</th>\n",
       "      <th>month</th>\n",
       "      <th>day</th>\n",
       "      <th>day_of_week</th>\n",
       "    </tr>\n",
       "  </thead>\n",
       "  <tbody>\n",
       "    <tr>\n",
       "      <th>178241</th>\n",
       "      <td>Florianopolis (SC)</td>\n",
       "      <td>Salvador (BH)</td>\n",
       "      <td>firstClass</td>\n",
       "      <td>1630.750000</td>\n",
       "      <td>2.44</td>\n",
       "      <td>937.770020</td>\n",
       "      <td>Rainbow</td>\n",
       "      <td>2021</td>\n",
       "      <td>5</td>\n",
       "      <td>6</td>\n",
       "      <td>3</td>\n",
       "    </tr>\n",
       "    <tr>\n",
       "      <th>120626</th>\n",
       "      <td>Recife (PE)</td>\n",
       "      <td>Natal (RN)</td>\n",
       "      <td>economic</td>\n",
       "      <td>360.220001</td>\n",
       "      <td>0.58</td>\n",
       "      <td>222.669998</td>\n",
       "      <td>Rainbow</td>\n",
       "      <td>2020</td>\n",
       "      <td>9</td>\n",
       "      <td>19</td>\n",
       "      <td>5</td>\n",
       "    </tr>\n",
       "    <tr>\n",
       "      <th>86305</th>\n",
       "      <td>Florianopolis (SC)</td>\n",
       "      <td>Sao Paulo (SP)</td>\n",
       "      <td>premium</td>\n",
       "      <td>554.869995</td>\n",
       "      <td>1.46</td>\n",
       "      <td>562.140015</td>\n",
       "      <td>CloudFy</td>\n",
       "      <td>2020</td>\n",
       "      <td>5</td>\n",
       "      <td>28</td>\n",
       "      <td>3</td>\n",
       "    </tr>\n",
       "    <tr>\n",
       "      <th>165873</th>\n",
       "      <td>Salvador (BH)</td>\n",
       "      <td>Florianopolis (SC)</td>\n",
       "      <td>economic</td>\n",
       "      <td>899.599976</td>\n",
       "      <td>2.44</td>\n",
       "      <td>937.770020</td>\n",
       "      <td>Rainbow</td>\n",
       "      <td>2021</td>\n",
       "      <td>3</td>\n",
       "      <td>12</td>\n",
       "      <td>4</td>\n",
       "    </tr>\n",
       "    <tr>\n",
       "      <th>93011</th>\n",
       "      <td>Recife (PE)</td>\n",
       "      <td>Florianopolis (SC)</td>\n",
       "      <td>firstClass</td>\n",
       "      <td>1371.829956</td>\n",
       "      <td>1.76</td>\n",
       "      <td>676.530029</td>\n",
       "      <td>Rainbow</td>\n",
       "      <td>2020</td>\n",
       "      <td>6</td>\n",
       "      <td>19</td>\n",
       "      <td>4</td>\n",
       "    </tr>\n",
       "  </tbody>\n",
       "</table>\n",
       "</div>"
      ],
      "text/plain": [
       "             from_location         to_location flight_type        price  time  \\\n",
       "178241  Florianopolis (SC)       Salvador (BH)  firstClass  1630.750000  2.44   \n",
       "120626         Recife (PE)          Natal (RN)    economic   360.220001  0.58   \n",
       "86305   Florianopolis (SC)      Sao Paulo (SP)     premium   554.869995  1.46   \n",
       "165873       Salvador (BH)  Florianopolis (SC)    economic   899.599976  2.44   \n",
       "93011          Recife (PE)  Florianopolis (SC)  firstClass  1371.829956  1.76   \n",
       "\n",
       "          distance   agency  year  month  day  day_of_week  \n",
       "178241  937.770020  Rainbow  2021      5    6            3  \n",
       "120626  222.669998  Rainbow  2020      9   19            5  \n",
       "86305   562.140015  CloudFy  2020      5   28            3  \n",
       "165873  937.770020  Rainbow  2021      3   12            4  \n",
       "93011   676.530029  Rainbow  2020      6   19            4  "
      ]
     },
     "execution_count": 23,
     "metadata": {},
     "output_type": "execute_result"
    }
   ],
   "source": [
    "silver_train_dropped.sample(5)"
   ]
  },
  {
   "cell_type": "code",
   "execution_count": 24,
   "metadata": {},
   "outputs": [
    {
     "name": "stdout",
     "output_type": "stream",
     "text": [
      "190321\n",
      "190321\n"
     ]
    }
   ],
   "source": [
    "print(len(silver_train_df))\n",
    "print(len(silver_train_dropped))"
   ]
  },
  {
   "cell_type": "code",
   "execution_count": 25,
   "metadata": {},
   "outputs": [
    {
     "data": {
      "text/plain": [
       "95579"
      ]
     },
     "execution_count": 25,
     "metadata": {},
     "output_type": "execute_result"
    }
   ],
   "source": [
    "silver_train_dropped.duplicated(keep=\"first\").sum()"
   ]
  },
  {
   "cell_type": "code",
   "execution_count": 26,
   "metadata": {},
   "outputs": [],
   "source": [
    "silver_test_df = pd.read_parquet(config_silver.SILVER_PROCESSED_DIR / \"test.parquet\")\n",
    "silver_test_dropped = silver_train_df.drop(\n",
    "    columns=[\n",
    "        \"travel_code\",\n",
    "        \"user_code\",\n",
    "        \"date\",\n",
    "        \"day_of_year\",\n",
    "        \"week_of_year\",\n",
    "    ]\n",
    ")"
   ]
  },
  {
   "cell_type": "markdown",
   "metadata": {},
   "source": [
    "### Silver Pipeline Verification\n",
    "The `silver_pipeline.py` performs several transformations:\n",
    "- **Column Renaming and Standardization**: Column names are now in snake_case.\n",
    "- **Data Type Optimization**: Data types have been optimized (e.g., `date` is now a datetime object).\n",
    "- **Feature Engineering**: New date-related features have been created (`year`, `month`, `day`, etc.).\n",
    "- **Duplicate Handling**: Erroneous duplicates have been removed.\n",
    "By comparing the silver data to the bronze data, we can verify that these transformations have been applied correctly."
   ]
  },
  {
   "cell_type": "markdown",
   "metadata": {},
   "source": [
    "## 4. Gold Data Analysis"
   ]
  },
  {
   "cell_type": "code",
   "execution_count": 27,
   "metadata": {},
   "outputs": [
    {
     "data": {
      "application/vnd.microsoft.datawrangler.viewer.v0+json": {
       "columns": [
        {
         "name": "index",
         "rawType": "int64",
         "type": "integer"
        },
        {
         "name": "flight_type",
         "rawType": "float64",
         "type": "float"
        },
        {
         "name": "from_location",
         "rawType": "float64",
         "type": "float"
        },
        {
         "name": "to_location",
         "rawType": "float64",
         "type": "float"
        },
        {
         "name": "agency",
         "rawType": "float64",
         "type": "float"
        },
        {
         "name": "price",
         "rawType": "float64",
         "type": "float"
        },
        {
         "name": "time",
         "rawType": "float64",
         "type": "float"
        },
        {
         "name": "distance",
         "rawType": "float64",
         "type": "float"
        },
        {
         "name": "year",
         "rawType": "float64",
         "type": "float"
        },
        {
         "name": "month_sin",
         "rawType": "float64",
         "type": "float"
        },
        {
         "name": "month_cos",
         "rawType": "float64",
         "type": "float"
        },
        {
         "name": "day_of_week_sin",
         "rawType": "float64",
         "type": "float"
        },
        {
         "name": "day_of_week_cos",
         "rawType": "float64",
         "type": "float"
        },
        {
         "name": "day_sin",
         "rawType": "float64",
         "type": "float"
        },
        {
         "name": "day_cos",
         "rawType": "float64",
         "type": "float"
        }
       ],
       "ref": "841cdbc5-f189-4f7e-89db-cd102cd59e79",
       "rows": [
        [
         "0",
         "2.0",
         "5.0",
         "3.0",
         "1.0",
         "1434.3800048828125",
         "1.7599999904632568",
         "676.530029296875",
         "2019.0",
         "-1.0",
         "-1.8369701987210297e-16",
         "0.43388373911755823",
         "-0.900968867902419",
         "-0.848644257494751",
         "0.5289640103269624"
        ],
        [
         "1",
         "2.0",
         "3.0",
         "4.0",
         "0.0",
         "1315.27001953125",
         "1.840000033378601",
         "709.3699951171875",
         "2019.0",
         "-1.0",
         "-1.8369701987210297e-16",
         "0.43388373911755823",
         "-0.900968867902419",
         "-0.848644257494751",
         "0.5289640103269624"
        ],
        [
         "2",
         "1.0",
         "3.0",
         "7.0",
         "0.0",
         "1311.3800048828125",
         "2.440000057220459",
         "937.77001953125",
         "2019.0",
         "-1.0",
         "-1.8369701987210297e-16",
         "0.43388373911755823",
         "-0.900968867902419",
         "-0.848644257494751",
         "0.5289640103269624"
        ],
        [
         "3",
         "0.0",
         "5.0",
         "6.0",
         "2.0",
         "908.9299926757812",
         "2.299999952316284",
         "885.5700073242188",
         "2019.0",
         "-1.0",
         "-1.8369701987210297e-16",
         "0.43388373911755823",
         "-0.900968867902419",
         "-0.848644257494751",
         "0.5289640103269624"
        ],
        [
         "4",
         "2.0",
         "0.0",
         "4.0",
         "0.0",
         "598.6099853515625",
         "0.46000000834465027",
         "176.3300018310547",
         "2019.0",
         "-1.0",
         "-1.8369701987210297e-16",
         "0.43388373911755823",
         "-0.900968867902419",
         "-0.848644257494751",
         "0.5289640103269624"
        ]
       ],
       "shape": {
        "columns": 14,
        "rows": 5
       }
      },
      "text/html": [
       "<div>\n",
       "<style scoped>\n",
       "    .dataframe tbody tr th:only-of-type {\n",
       "        vertical-align: middle;\n",
       "    }\n",
       "\n",
       "    .dataframe tbody tr th {\n",
       "        vertical-align: top;\n",
       "    }\n",
       "\n",
       "    .dataframe thead th {\n",
       "        text-align: right;\n",
       "    }\n",
       "</style>\n",
       "<table border=\"1\" class=\"dataframe\">\n",
       "  <thead>\n",
       "    <tr style=\"text-align: right;\">\n",
       "      <th></th>\n",
       "      <th>flight_type</th>\n",
       "      <th>from_location</th>\n",
       "      <th>to_location</th>\n",
       "      <th>agency</th>\n",
       "      <th>price</th>\n",
       "      <th>time</th>\n",
       "      <th>distance</th>\n",
       "      <th>year</th>\n",
       "      <th>month_sin</th>\n",
       "      <th>month_cos</th>\n",
       "      <th>day_of_week_sin</th>\n",
       "      <th>day_of_week_cos</th>\n",
       "      <th>day_sin</th>\n",
       "      <th>day_cos</th>\n",
       "    </tr>\n",
       "  </thead>\n",
       "  <tbody>\n",
       "    <tr>\n",
       "      <th>0</th>\n",
       "      <td>2.0</td>\n",
       "      <td>5.0</td>\n",
       "      <td>3.0</td>\n",
       "      <td>1.0</td>\n",
       "      <td>1434.380005</td>\n",
       "      <td>1.76</td>\n",
       "      <td>676.530029</td>\n",
       "      <td>2019.0</td>\n",
       "      <td>-1.0</td>\n",
       "      <td>-1.836970e-16</td>\n",
       "      <td>0.433884</td>\n",
       "      <td>-0.900969</td>\n",
       "      <td>-0.848644</td>\n",
       "      <td>0.528964</td>\n",
       "    </tr>\n",
       "    <tr>\n",
       "      <th>1</th>\n",
       "      <td>2.0</td>\n",
       "      <td>3.0</td>\n",
       "      <td>4.0</td>\n",
       "      <td>0.0</td>\n",
       "      <td>1315.270020</td>\n",
       "      <td>1.84</td>\n",
       "      <td>709.369995</td>\n",
       "      <td>2019.0</td>\n",
       "      <td>-1.0</td>\n",
       "      <td>-1.836970e-16</td>\n",
       "      <td>0.433884</td>\n",
       "      <td>-0.900969</td>\n",
       "      <td>-0.848644</td>\n",
       "      <td>0.528964</td>\n",
       "    </tr>\n",
       "    <tr>\n",
       "      <th>2</th>\n",
       "      <td>1.0</td>\n",
       "      <td>3.0</td>\n",
       "      <td>7.0</td>\n",
       "      <td>0.0</td>\n",
       "      <td>1311.380005</td>\n",
       "      <td>2.44</td>\n",
       "      <td>937.770020</td>\n",
       "      <td>2019.0</td>\n",
       "      <td>-1.0</td>\n",
       "      <td>-1.836970e-16</td>\n",
       "      <td>0.433884</td>\n",
       "      <td>-0.900969</td>\n",
       "      <td>-0.848644</td>\n",
       "      <td>0.528964</td>\n",
       "    </tr>\n",
       "    <tr>\n",
       "      <th>3</th>\n",
       "      <td>0.0</td>\n",
       "      <td>5.0</td>\n",
       "      <td>6.0</td>\n",
       "      <td>2.0</td>\n",
       "      <td>908.929993</td>\n",
       "      <td>2.30</td>\n",
       "      <td>885.570007</td>\n",
       "      <td>2019.0</td>\n",
       "      <td>-1.0</td>\n",
       "      <td>-1.836970e-16</td>\n",
       "      <td>0.433884</td>\n",
       "      <td>-0.900969</td>\n",
       "      <td>-0.848644</td>\n",
       "      <td>0.528964</td>\n",
       "    </tr>\n",
       "    <tr>\n",
       "      <th>4</th>\n",
       "      <td>2.0</td>\n",
       "      <td>0.0</td>\n",
       "      <td>4.0</td>\n",
       "      <td>0.0</td>\n",
       "      <td>598.609985</td>\n",
       "      <td>0.46</td>\n",
       "      <td>176.330002</td>\n",
       "      <td>2019.0</td>\n",
       "      <td>-1.0</td>\n",
       "      <td>-1.836970e-16</td>\n",
       "      <td>0.433884</td>\n",
       "      <td>-0.900969</td>\n",
       "      <td>-0.848644</td>\n",
       "      <td>0.528964</td>\n",
       "    </tr>\n",
       "  </tbody>\n",
       "</table>\n",
       "</div>"
      ],
      "text/plain": [
       "   flight_type  from_location  to_location  agency        price  time  \\\n",
       "0          2.0            5.0          3.0     1.0  1434.380005  1.76   \n",
       "1          2.0            3.0          4.0     0.0  1315.270020  1.84   \n",
       "2          1.0            3.0          7.0     0.0  1311.380005  2.44   \n",
       "3          0.0            5.0          6.0     2.0   908.929993  2.30   \n",
       "4          2.0            0.0          4.0     0.0   598.609985  0.46   \n",
       "\n",
       "     distance    year  month_sin     month_cos  day_of_week_sin  \\\n",
       "0  676.530029  2019.0       -1.0 -1.836970e-16         0.433884   \n",
       "1  709.369995  2019.0       -1.0 -1.836970e-16         0.433884   \n",
       "2  937.770020  2019.0       -1.0 -1.836970e-16         0.433884   \n",
       "3  885.570007  2019.0       -1.0 -1.836970e-16         0.433884   \n",
       "4  176.330002  2019.0       -1.0 -1.836970e-16         0.433884   \n",
       "\n",
       "   day_of_week_cos   day_sin   day_cos  \n",
       "0        -0.900969 -0.848644  0.528964  \n",
       "1        -0.900969 -0.848644  0.528964  \n",
       "2        -0.900969 -0.848644  0.528964  \n",
       "3        -0.900969 -0.848644  0.528964  \n",
       "4        -0.900969 -0.848644  0.528964  "
      ]
     },
     "execution_count": 27,
     "metadata": {},
     "output_type": "execute_result"
    }
   ],
   "source": [
    "gold_train_df = pd.read_parquet(config_gold.GOLD_PROCESSED_DIR / \"train.parquet\")\n",
    "gold_train_df.head()"
   ]
  },
  {
   "cell_type": "code",
   "execution_count": 28,
   "metadata": {},
   "outputs": [],
   "source": [
    "gold_train_df.sample(50).to_csv(\"gold_sample.csv\")"
   ]
  },
  {
   "cell_type": "code",
   "execution_count": 29,
   "metadata": {},
   "outputs": [
    {
     "data": {
      "text/plain": [
       "Index(['flight_type', 'from_location', 'to_location', 'agency', 'price',\n",
       "       'time', 'distance', 'year', 'month_sin', 'month_cos', 'day_of_week_sin',\n",
       "       'day_of_week_cos', 'day_sin', 'day_cos'],\n",
       "      dtype='object')"
      ]
     },
     "execution_count": 29,
     "metadata": {},
     "output_type": "execute_result"
    }
   ],
   "source": [
    "gold_train_df.columns"
   ]
  },
  {
   "cell_type": "code",
   "execution_count": 30,
   "metadata": {},
   "outputs": [
    {
     "name": "stdout",
     "output_type": "stream",
     "text": [
      "<class 'pandas.core.frame.DataFrame'>\n",
      "RangeIndex: 94742 entries, 0 to 94741\n",
      "Data columns (total 14 columns):\n",
      " #   Column           Non-Null Count  Dtype  \n",
      "---  ------           --------------  -----  \n",
      " 0   flight_type      94742 non-null  float64\n",
      " 1   from_location    94742 non-null  float64\n",
      " 2   to_location      94742 non-null  float64\n",
      " 3   agency           94742 non-null  float64\n",
      " 4   price            94742 non-null  float64\n",
      " 5   time             94742 non-null  float64\n",
      " 6   distance         94742 non-null  float64\n",
      " 7   year             94742 non-null  float64\n",
      " 8   month_sin        94742 non-null  float64\n",
      " 9   month_cos        94742 non-null  float64\n",
      " 10  day_of_week_sin  94742 non-null  float64\n",
      " 11  day_of_week_cos  94742 non-null  float64\n",
      " 12  day_sin          94742 non-null  float64\n",
      " 13  day_cos          94742 non-null  float64\n",
      "dtypes: float64(14)\n",
      "memory usage: 10.1 MB\n"
     ]
    }
   ],
   "source": [
    "gold_train_df.info()"
   ]
  },
  {
   "cell_type": "code",
   "execution_count": 31,
   "metadata": {},
   "outputs": [
    {
     "data": {
      "application/vnd.microsoft.datawrangler.viewer.v0+json": {
       "columns": [
        {
         "name": "index",
         "rawType": "object",
         "type": "string"
        },
        {
         "name": "flight_type",
         "rawType": "float64",
         "type": "float"
        },
        {
         "name": "from_location",
         "rawType": "float64",
         "type": "float"
        },
        {
         "name": "to_location",
         "rawType": "float64",
         "type": "float"
        },
        {
         "name": "agency",
         "rawType": "float64",
         "type": "float"
        },
        {
         "name": "price",
         "rawType": "float64",
         "type": "float"
        },
        {
         "name": "time",
         "rawType": "float64",
         "type": "float"
        },
        {
         "name": "distance",
         "rawType": "float64",
         "type": "float"
        },
        {
         "name": "year",
         "rawType": "float64",
         "type": "float"
        },
        {
         "name": "month_sin",
         "rawType": "float64",
         "type": "float"
        },
        {
         "name": "month_cos",
         "rawType": "float64",
         "type": "float"
        },
        {
         "name": "day_of_week_sin",
         "rawType": "float64",
         "type": "float"
        },
        {
         "name": "day_of_week_cos",
         "rawType": "float64",
         "type": "float"
        },
        {
         "name": "day_sin",
         "rawType": "float64",
         "type": "float"
        },
        {
         "name": "day_cos",
         "rawType": "float64",
         "type": "float"
        }
       ],
       "ref": "1d65ffa1-e185-42d4-a176-3b2103e0b991",
       "rows": [
        [
         "count",
         "94742.0",
         "94742.0",
         "94742.0",
         "94742.0",
         "94742.0",
         "94742.0",
         "94742.0",
         "94742.0",
         "94742.0",
         "94742.0",
         "94742.0",
         "94742.0",
         "94742.0",
         "94742.0"
        ],
        [
         "mean",
         "1.1422494775284457",
         "3.785955542420468",
         "3.2099596799729793",
         "1.0001583247134322",
         "944.9938630040065",
         "1.3511912343565384",
         "520.0402873569261",
         "2020.0774841147538",
         "0.08310325466222329",
         "0.08454658900816807",
         "-0.22862397016560418",
         "-0.20819172718949897",
         "-0.0036982613093056228",
         "-0.009739448870477334"
        ],
        [
         "std",
         "0.833229101696858",
         "2.575361408297393",
         "2.393595336666511",
         "0.9256172926018547",
         "357.57876860160934",
         "0.5488071268823707",
         "211.30213550479365",
         "0.642241304478522",
         "0.6883344717382092",
         "0.7156478080145571",
         "0.5521173085996528",
         "0.7743147347378079",
         "0.7128549768555893",
         "0.7012416145082434"
        ],
        [
         "min",
         "0.0",
         "0.0",
         "0.0",
         "0.0",
         "301.510009765625",
         "0.4399999976158142",
         "168.22000122070312",
         "2019.0",
         "-1.0",
         "-1.0",
         "-0.9749279121818236",
         "-0.9009688679024191",
         "-0.9987165071710528",
         "-0.9948693233918952"
        ],
        [
         "25%",
         "0.0",
         "2.0",
         "1.0",
         "0.0",
         "667.0",
         "0.8500000238418579",
         "327.54998779296875",
         "2020.0",
         "-0.5000000000000004",
         "-0.5000000000000004",
         "-0.7818314824680299",
         "-0.900968867902419",
         "-0.72479278722912",
         "-0.7587581226927909"
        ],
        [
         "50%",
         "1.0",
         "4.0",
         "3.0",
         "1.0",
         "889.0700073242188",
         "1.440000057220459",
         "555.739990234375",
         "2020.0",
         "1.2246467991473532e-16",
         "6.123233995736766e-17",
         "-0.433883739117558",
         "-0.2225209339563146",
         "-2.4492935982947064e-16",
         "-0.05064916883871264"
        ],
        [
         "75%",
         "2.0",
         "6.0",
         "5.0",
         "2.0",
         "1209.0400390625",
         "1.7599999904632568",
         "676.530029296875",
         "2020.0",
         "0.8660254037844386",
         "0.8660254037844384",
         "0.43388373911755823",
         "0.6234898018587334",
         "0.7247927872291199",
         "0.6889669190756865"
        ],
        [
         "max",
         "2.0",
         "8.0",
         "8.0",
         "2.0",
         "1754.1700439453125",
         "2.440000057220459",
         "937.77001953125",
         "2021.0",
         "1.0",
         "1.0",
         "0.43388373911755823",
         "1.0",
         "0.9987165071710528",
         "1.0"
        ]
       ],
       "shape": {
        "columns": 14,
        "rows": 8
       }
      },
      "text/html": [
       "<div>\n",
       "<style scoped>\n",
       "    .dataframe tbody tr th:only-of-type {\n",
       "        vertical-align: middle;\n",
       "    }\n",
       "\n",
       "    .dataframe tbody tr th {\n",
       "        vertical-align: top;\n",
       "    }\n",
       "\n",
       "    .dataframe thead th {\n",
       "        text-align: right;\n",
       "    }\n",
       "</style>\n",
       "<table border=\"1\" class=\"dataframe\">\n",
       "  <thead>\n",
       "    <tr style=\"text-align: right;\">\n",
       "      <th></th>\n",
       "      <th>flight_type</th>\n",
       "      <th>from_location</th>\n",
       "      <th>to_location</th>\n",
       "      <th>agency</th>\n",
       "      <th>price</th>\n",
       "      <th>time</th>\n",
       "      <th>distance</th>\n",
       "      <th>year</th>\n",
       "      <th>month_sin</th>\n",
       "      <th>month_cos</th>\n",
       "      <th>day_of_week_sin</th>\n",
       "      <th>day_of_week_cos</th>\n",
       "      <th>day_sin</th>\n",
       "      <th>day_cos</th>\n",
       "    </tr>\n",
       "  </thead>\n",
       "  <tbody>\n",
       "    <tr>\n",
       "      <th>count</th>\n",
       "      <td>94742.000000</td>\n",
       "      <td>94742.000000</td>\n",
       "      <td>94742.000000</td>\n",
       "      <td>94742.000000</td>\n",
       "      <td>94742.000000</td>\n",
       "      <td>94742.000000</td>\n",
       "      <td>94742.000000</td>\n",
       "      <td>94742.000000</td>\n",
       "      <td>9.474200e+04</td>\n",
       "      <td>9.474200e+04</td>\n",
       "      <td>94742.000000</td>\n",
       "      <td>94742.000000</td>\n",
       "      <td>9.474200e+04</td>\n",
       "      <td>94742.000000</td>\n",
       "    </tr>\n",
       "    <tr>\n",
       "      <th>mean</th>\n",
       "      <td>1.142249</td>\n",
       "      <td>3.785956</td>\n",
       "      <td>3.209960</td>\n",
       "      <td>1.000158</td>\n",
       "      <td>944.993863</td>\n",
       "      <td>1.351191</td>\n",
       "      <td>520.040287</td>\n",
       "      <td>2020.077484</td>\n",
       "      <td>8.310325e-02</td>\n",
       "      <td>8.454659e-02</td>\n",
       "      <td>-0.228624</td>\n",
       "      <td>-0.208192</td>\n",
       "      <td>-3.698261e-03</td>\n",
       "      <td>-0.009739</td>\n",
       "    </tr>\n",
       "    <tr>\n",
       "      <th>std</th>\n",
       "      <td>0.833229</td>\n",
       "      <td>2.575361</td>\n",
       "      <td>2.393595</td>\n",
       "      <td>0.925617</td>\n",
       "      <td>357.578769</td>\n",
       "      <td>0.548807</td>\n",
       "      <td>211.302136</td>\n",
       "      <td>0.642241</td>\n",
       "      <td>6.883345e-01</td>\n",
       "      <td>7.156478e-01</td>\n",
       "      <td>0.552117</td>\n",
       "      <td>0.774315</td>\n",
       "      <td>7.128550e-01</td>\n",
       "      <td>0.701242</td>\n",
       "    </tr>\n",
       "    <tr>\n",
       "      <th>min</th>\n",
       "      <td>0.000000</td>\n",
       "      <td>0.000000</td>\n",
       "      <td>0.000000</td>\n",
       "      <td>0.000000</td>\n",
       "      <td>301.510010</td>\n",
       "      <td>0.440000</td>\n",
       "      <td>168.220001</td>\n",
       "      <td>2019.000000</td>\n",
       "      <td>-1.000000e+00</td>\n",
       "      <td>-1.000000e+00</td>\n",
       "      <td>-0.974928</td>\n",
       "      <td>-0.900969</td>\n",
       "      <td>-9.987165e-01</td>\n",
       "      <td>-0.994869</td>\n",
       "    </tr>\n",
       "    <tr>\n",
       "      <th>25%</th>\n",
       "      <td>0.000000</td>\n",
       "      <td>2.000000</td>\n",
       "      <td>1.000000</td>\n",
       "      <td>0.000000</td>\n",
       "      <td>667.000000</td>\n",
       "      <td>0.850000</td>\n",
       "      <td>327.549988</td>\n",
       "      <td>2020.000000</td>\n",
       "      <td>-5.000000e-01</td>\n",
       "      <td>-5.000000e-01</td>\n",
       "      <td>-0.781831</td>\n",
       "      <td>-0.900969</td>\n",
       "      <td>-7.247928e-01</td>\n",
       "      <td>-0.758758</td>\n",
       "    </tr>\n",
       "    <tr>\n",
       "      <th>50%</th>\n",
       "      <td>1.000000</td>\n",
       "      <td>4.000000</td>\n",
       "      <td>3.000000</td>\n",
       "      <td>1.000000</td>\n",
       "      <td>889.070007</td>\n",
       "      <td>1.440000</td>\n",
       "      <td>555.739990</td>\n",
       "      <td>2020.000000</td>\n",
       "      <td>1.224647e-16</td>\n",
       "      <td>6.123234e-17</td>\n",
       "      <td>-0.433884</td>\n",
       "      <td>-0.222521</td>\n",
       "      <td>-2.449294e-16</td>\n",
       "      <td>-0.050649</td>\n",
       "    </tr>\n",
       "    <tr>\n",
       "      <th>75%</th>\n",
       "      <td>2.000000</td>\n",
       "      <td>6.000000</td>\n",
       "      <td>5.000000</td>\n",
       "      <td>2.000000</td>\n",
       "      <td>1209.040039</td>\n",
       "      <td>1.760000</td>\n",
       "      <td>676.530029</td>\n",
       "      <td>2020.000000</td>\n",
       "      <td>8.660254e-01</td>\n",
       "      <td>8.660254e-01</td>\n",
       "      <td>0.433884</td>\n",
       "      <td>0.623490</td>\n",
       "      <td>7.247928e-01</td>\n",
       "      <td>0.688967</td>\n",
       "    </tr>\n",
       "    <tr>\n",
       "      <th>max</th>\n",
       "      <td>2.000000</td>\n",
       "      <td>8.000000</td>\n",
       "      <td>8.000000</td>\n",
       "      <td>2.000000</td>\n",
       "      <td>1754.170044</td>\n",
       "      <td>2.440000</td>\n",
       "      <td>937.770020</td>\n",
       "      <td>2021.000000</td>\n",
       "      <td>1.000000e+00</td>\n",
       "      <td>1.000000e+00</td>\n",
       "      <td>0.433884</td>\n",
       "      <td>1.000000</td>\n",
       "      <td>9.987165e-01</td>\n",
       "      <td>1.000000</td>\n",
       "    </tr>\n",
       "  </tbody>\n",
       "</table>\n",
       "</div>"
      ],
      "text/plain": [
       "        flight_type  from_location   to_location        agency         price  \\\n",
       "count  94742.000000   94742.000000  94742.000000  94742.000000  94742.000000   \n",
       "mean       1.142249       3.785956      3.209960      1.000158    944.993863   \n",
       "std        0.833229       2.575361      2.393595      0.925617    357.578769   \n",
       "min        0.000000       0.000000      0.000000      0.000000    301.510010   \n",
       "25%        0.000000       2.000000      1.000000      0.000000    667.000000   \n",
       "50%        1.000000       4.000000      3.000000      1.000000    889.070007   \n",
       "75%        2.000000       6.000000      5.000000      2.000000   1209.040039   \n",
       "max        2.000000       8.000000      8.000000      2.000000   1754.170044   \n",
       "\n",
       "               time      distance          year     month_sin     month_cos  \\\n",
       "count  94742.000000  94742.000000  94742.000000  9.474200e+04  9.474200e+04   \n",
       "mean       1.351191    520.040287   2020.077484  8.310325e-02  8.454659e-02   \n",
       "std        0.548807    211.302136      0.642241  6.883345e-01  7.156478e-01   \n",
       "min        0.440000    168.220001   2019.000000 -1.000000e+00 -1.000000e+00   \n",
       "25%        0.850000    327.549988   2020.000000 -5.000000e-01 -5.000000e-01   \n",
       "50%        1.440000    555.739990   2020.000000  1.224647e-16  6.123234e-17   \n",
       "75%        1.760000    676.530029   2020.000000  8.660254e-01  8.660254e-01   \n",
       "max        2.440000    937.770020   2021.000000  1.000000e+00  1.000000e+00   \n",
       "\n",
       "       day_of_week_sin  day_of_week_cos       day_sin       day_cos  \n",
       "count     94742.000000     94742.000000  9.474200e+04  94742.000000  \n",
       "mean         -0.228624        -0.208192 -3.698261e-03     -0.009739  \n",
       "std           0.552117         0.774315  7.128550e-01      0.701242  \n",
       "min          -0.974928        -0.900969 -9.987165e-01     -0.994869  \n",
       "25%          -0.781831        -0.900969 -7.247928e-01     -0.758758  \n",
       "50%          -0.433884        -0.222521 -2.449294e-16     -0.050649  \n",
       "75%           0.433884         0.623490  7.247928e-01      0.688967  \n",
       "max           0.433884         1.000000  9.987165e-01      1.000000  "
      ]
     },
     "execution_count": 31,
     "metadata": {},
     "output_type": "execute_result"
    }
   ],
   "source": [
    "gold_train_df.describe()"
   ]
  },
  {
   "cell_type": "code",
   "execution_count": 32,
   "metadata": {},
   "outputs": [
    {
     "data": {
      "application/vnd.microsoft.datawrangler.viewer.v0+json": {
       "columns": [
        {
         "name": "index",
         "rawType": "object",
         "type": "string"
        },
        {
         "name": "0",
         "rawType": "int64",
         "type": "integer"
        }
       ],
       "ref": "559d6df8-7e3d-4e31-904b-7d38120a1bf9",
       "rows": [
        [
         "flight_type",
         "3"
        ],
        [
         "from_location",
         "9"
        ],
        [
         "to_location",
         "9"
        ],
        [
         "agency",
         "3"
        ],
        [
         "price",
         "490"
        ],
        [
         "time",
         "33"
        ],
        [
         "distance",
         "35"
        ],
        [
         "year",
         "3"
        ],
        [
         "month_sin",
         "11"
        ],
        [
         "month_cos",
         "11"
        ],
        [
         "day_of_week_sin",
         "5"
        ],
        [
         "day_of_week_cos",
         "5"
        ],
        [
         "day_sin",
         "31"
        ],
        [
         "day_cos",
         "26"
        ]
       ],
       "shape": {
        "columns": 1,
        "rows": 14
       }
      },
      "text/plain": [
       "flight_type          3\n",
       "from_location        9\n",
       "to_location          9\n",
       "agency               3\n",
       "price              490\n",
       "time                33\n",
       "distance            35\n",
       "year                 3\n",
       "month_sin           11\n",
       "month_cos           11\n",
       "day_of_week_sin      5\n",
       "day_of_week_cos      5\n",
       "day_sin             31\n",
       "day_cos             26\n",
       "dtype: int64"
      ]
     },
     "execution_count": 32,
     "metadata": {},
     "output_type": "execute_result"
    }
   ],
   "source": [
    "gold_train_df.nunique()"
   ]
  },
  {
   "cell_type": "markdown",
   "metadata": {},
   "source": [
    "### Gold Pipeline Verification\n",
    "The `gold_pipeline.py` applies the final feature engineering and preprocessing steps:\n",
    "- **Duplcates**: after dropping unique identification columns(travel_code and user_code) there were no erroneous duplicates but duplicate data due to different people boarding the same flight for the same route, these duplicate rows were droped successfully.\n",
    "- **Imputation**: Missing values have been imputed.\n",
    "- **Feature Engineering**: Cyclical features and interaction features have been created.\n",
    "- **Categorical Encoding**: Categorical features have been encoded.\n",
    "- **Outlier Handling**: Outliers have been handled.\n",
    "- **Power Transformation and Scaling**: Numerical features have been transformed and scaled.\n",
    "The gold data is now ready for model training. We can see that all columns are numerical and there are no missing values."
   ]
  },
  {
   "cell_type": "markdown",
   "metadata": {},
   "source": [
    "## Get the test indices that were tested with SHAP for prediction by Lightgbm champion model"
   ]
  },
  {
   "cell_type": "code",
   "execution_count": 33,
   "metadata": {},
   "outputs": [],
   "source": [
    "test_gold = pd.read_parquet(config_gold.GOLD_PROCESSED_DIR / \"test.parquet\")"
   ]
  },
  {
   "cell_type": "markdown",
   "metadata": {},
   "source": [
    "follow the same sampling method with random state used in the shap_explain.py\n",
    "we used 2000 samples with random_state 42 and the first three instances for that."
   ]
  },
  {
   "cell_type": "code",
   "execution_count": 34,
   "metadata": {},
   "outputs": [],
   "source": [
    "# shap_local_instances = test_gold.sample(n=2000, random_state=42).head(3)"
   ]
  },
  {
   "cell_type": "code",
   "execution_count": 35,
   "metadata": {},
   "outputs": [],
   "source": [
    "# shap_local_instances"
   ]
  },
  {
   "cell_type": "markdown",
   "metadata": {},
   "source": [
    "lets get the same instances in raw from the silver dataset so we can make sense of the predictions and features."
   ]
  },
  {
   "cell_type": "code",
   "execution_count": 36,
   "metadata": {},
   "outputs": [],
   "source": [
    "# shap_local_instances.to_csv(\n",
    "#     core_paths.DOCS_DIR / \"Final_model_shap_local_instances.csv\"\n",
    "# )\n",
    "# shap_local_instances_unprocessed.to_csv(\n",
    "#     core_paths.DOCS_DIR / \"shap_local_instances_unprocessed.csv\"\n",
    "# )"
   ]
  },
  {
   "cell_type": "markdown",
   "metadata": {},
   "source": [
    "### Checking Prediction Server\n",
    "\n"
   ]
  },
  {
   "cell_type": "code",
   "execution_count": 37,
   "metadata": {},
   "outputs": [],
   "source": [
    "from dotenv import load_dotenv\n",
    "from prediction_server.model_loader import (\n",
    "    load_production_model,\n",
    "    load_preprocessing_artifacts,\n",
    ")\n",
    "from prediction_server.predict import preprocessing_for_prediction\n",
    "from prediction_server import config_app"
   ]
  },
  {
   "cell_type": "code",
   "execution_count": 38,
   "metadata": {},
   "outputs": [
    {
     "data": {
      "text/plain": [
       "True"
      ]
     },
     "execution_count": 38,
     "metadata": {},
     "output_type": "execute_result"
    }
   ],
   "source": [
    "load_dotenv()"
   ]
  },
  {
   "cell_type": "code",
   "execution_count": 39,
   "metadata": {},
   "outputs": [
    {
     "data": {
      "application/vnd.jupyter.widget-view+json": {
       "model_id": "7fbeb257b06d4d83b9bd66877a6a441c",
       "version_major": 2,
       "version_minor": 0
      },
      "text/plain": [
       "Downloading artifacts:   0%|          | 0/7 [00:00<?, ?it/s]"
      ]
     },
     "metadata": {},
     "output_type": "display_data"
    }
   ],
   "source": [
    "model = load_production_model(\n",
    "    config_app.MODEL_NAME,\n",
    "    config_app.MODEL_VERSION_ALIAS,\n",
    "    model_flavor=config_app.MODEL_FLAVOR,\n",
    ")"
   ]
  },
  {
   "cell_type": "code",
   "execution_count": 40,
   "metadata": {},
   "outputs": [
    {
     "data": {
      "text/plain": [
       "(1, 13)"
      ]
     },
     "execution_count": 40,
     "metadata": {},
     "output_type": "execute_result"
    }
   ],
   "source": [
    "instance = np.array([test_gold.drop(columns=[\"price\"]).iloc[0]])\n",
    "instance.shape"
   ]
  },
  {
   "cell_type": "code",
   "execution_count": 41,
   "metadata": {},
   "outputs": [],
   "source": [
    "actual_price = test_gold[\"price\"][0]\n",
    "actual_price = f\"{actual_price:.2f}\""
   ]
  },
  {
   "cell_type": "code",
   "execution_count": 42,
   "metadata": {},
   "outputs": [
    {
     "name": "stdout",
     "output_type": "stream",
     "text": [
      "predicted_price:696.72, actual_price:697.22\n"
     ]
    }
   ],
   "source": [
    "predicted_price = model.predict(instance)[0]\n",
    "predicted_price = f\"{predicted_price:.2f}\"\n",
    "print(f\"predicted_price:{predicted_price}, actual_price:{actual_price}\")"
   ]
  },
  {
   "cell_type": "code",
   "execution_count": 43,
   "metadata": {},
   "outputs": [
    {
     "data": {
      "application/vnd.microsoft.datawrangler.viewer.v0+json": {
       "columns": [
        {
         "name": "index",
         "rawType": "int64",
         "type": "integer"
        },
        {
         "name": "travelCode",
         "rawType": "int64",
         "type": "integer"
        },
        {
         "name": "userCode",
         "rawType": "int64",
         "type": "integer"
        },
        {
         "name": "from",
         "rawType": "object",
         "type": "string"
        },
        {
         "name": "to",
         "rawType": "object",
         "type": "string"
        },
        {
         "name": "flightType",
         "rawType": "object",
         "type": "string"
        },
        {
         "name": "time",
         "rawType": "float64",
         "type": "float"
        },
        {
         "name": "distance",
         "rawType": "float64",
         "type": "float"
        },
        {
         "name": "agency",
         "rawType": "object",
         "type": "string"
        },
        {
         "name": "date",
         "rawType": "object",
         "type": "string"
        }
       ],
       "ref": "71d07de5-708f-4b76-a4f0-e3c62688187f",
       "rows": [
        [
         "0",
         "0",
         "0",
         "Recife (PE)",
         "Florianopolis (SC)",
         "firstClass",
         "1.76",
         "676.53",
         "FlyingDrops",
         "2019-09-26"
        ]
       ],
       "shape": {
        "columns": 9,
        "rows": 1
       }
      },
      "text/html": [
       "<div>\n",
       "<style scoped>\n",
       "    .dataframe tbody tr th:only-of-type {\n",
       "        vertical-align: middle;\n",
       "    }\n",
       "\n",
       "    .dataframe tbody tr th {\n",
       "        vertical-align: top;\n",
       "    }\n",
       "\n",
       "    .dataframe thead th {\n",
       "        text-align: right;\n",
       "    }\n",
       "</style>\n",
       "<table border=\"1\" class=\"dataframe\">\n",
       "  <thead>\n",
       "    <tr style=\"text-align: right;\">\n",
       "      <th></th>\n",
       "      <th>travelCode</th>\n",
       "      <th>userCode</th>\n",
       "      <th>from</th>\n",
       "      <th>to</th>\n",
       "      <th>flightType</th>\n",
       "      <th>time</th>\n",
       "      <th>distance</th>\n",
       "      <th>agency</th>\n",
       "      <th>date</th>\n",
       "    </tr>\n",
       "  </thead>\n",
       "  <tbody>\n",
       "    <tr>\n",
       "      <th>0</th>\n",
       "      <td>0</td>\n",
       "      <td>0</td>\n",
       "      <td>Recife (PE)</td>\n",
       "      <td>Florianopolis (SC)</td>\n",
       "      <td>firstClass</td>\n",
       "      <td>1.76</td>\n",
       "      <td>676.53</td>\n",
       "      <td>FlyingDrops</td>\n",
       "      <td>2019-09-26</td>\n",
       "    </tr>\n",
       "  </tbody>\n",
       "</table>\n",
       "</div>"
      ],
      "text/plain": [
       "   travelCode  userCode         from                  to  flightType  time  \\\n",
       "0           0         0  Recife (PE)  Florianopolis (SC)  firstClass  1.76   \n",
       "\n",
       "   distance       agency        date  \n",
       "0    676.53  FlyingDrops  2019-09-26  "
      ]
     },
     "execution_count": 43,
     "metadata": {},
     "output_type": "execute_result"
    }
   ],
   "source": [
    "raw_instance = raw_df.drop(columns=[\"price\"]).iloc[[0]]\n",
    "raw_instance"
   ]
  },
  {
   "cell_type": "code",
   "execution_count": 50,
   "metadata": {},
   "outputs": [
    {
     "name": "stderr",
     "output_type": "stream",
     "text": [
      "Column 'price' was not found in DataFrame during transform. Skipping.\n",
      "Target column 'price' not found in CategoricalEncoder. Adding a dummy column for transformation.\n"
     ]
    }
   ],
   "source": [
    "preprocessors = load_preprocessing_artifacts()\n",
    "preprocessed_df = preprocessing_for_prediction(raw_instance, preprocessors)"
   ]
  },
  {
   "cell_type": "code",
   "execution_count": 51,
   "metadata": {},
   "outputs": [
    {
     "data": {
      "application/vnd.microsoft.datawrangler.viewer.v0+json": {
       "columns": [
        {
         "name": "index",
         "rawType": "int64",
         "type": "integer"
        },
        {
         "name": "flight_type",
         "rawType": "float64",
         "type": "float"
        },
        {
         "name": "from_location",
         "rawType": "float64",
         "type": "float"
        },
        {
         "name": "to_location",
         "rawType": "float64",
         "type": "float"
        },
        {
         "name": "agency",
         "rawType": "float64",
         "type": "float"
        },
        {
         "name": "time",
         "rawType": "float64",
         "type": "float"
        },
        {
         "name": "distance",
         "rawType": "float64",
         "type": "float"
        },
        {
         "name": "year",
         "rawType": "float64",
         "type": "float"
        },
        {
         "name": "month_sin",
         "rawType": "float64",
         "type": "float"
        },
        {
         "name": "month_cos",
         "rawType": "float64",
         "type": "float"
        },
        {
         "name": "day_of_week_sin",
         "rawType": "float64",
         "type": "float"
        },
        {
         "name": "day_of_week_cos",
         "rawType": "float64",
         "type": "float"
        },
        {
         "name": "day_sin",
         "rawType": "float64",
         "type": "float"
        },
        {
         "name": "day_cos",
         "rawType": "float64",
         "type": "float"
        }
       ],
       "ref": "b090accd-55ff-49ff-b94a-c4e4d3649477",
       "rows": [
        [
         "0",
         "2.0",
         "5.0",
         "3.0",
         "1.0",
         "1.76",
         "676.53",
         "2019.0",
         "-1.0",
         "-1.8369701987210297e-16",
         "0.43388373911755823",
         "-0.900968867902419",
         "-0.848644257494751",
         "0.5289640103269624"
        ]
       ],
       "shape": {
        "columns": 13,
        "rows": 1
       }
      },
      "text/html": [
       "<div>\n",
       "<style scoped>\n",
       "    .dataframe tbody tr th:only-of-type {\n",
       "        vertical-align: middle;\n",
       "    }\n",
       "\n",
       "    .dataframe tbody tr th {\n",
       "        vertical-align: top;\n",
       "    }\n",
       "\n",
       "    .dataframe thead th {\n",
       "        text-align: right;\n",
       "    }\n",
       "</style>\n",
       "<table border=\"1\" class=\"dataframe\">\n",
       "  <thead>\n",
       "    <tr style=\"text-align: right;\">\n",
       "      <th></th>\n",
       "      <th>flight_type</th>\n",
       "      <th>from_location</th>\n",
       "      <th>to_location</th>\n",
       "      <th>agency</th>\n",
       "      <th>time</th>\n",
       "      <th>distance</th>\n",
       "      <th>year</th>\n",
       "      <th>month_sin</th>\n",
       "      <th>month_cos</th>\n",
       "      <th>day_of_week_sin</th>\n",
       "      <th>day_of_week_cos</th>\n",
       "      <th>day_sin</th>\n",
       "      <th>day_cos</th>\n",
       "    </tr>\n",
       "  </thead>\n",
       "  <tbody>\n",
       "    <tr>\n",
       "      <th>0</th>\n",
       "      <td>2.0</td>\n",
       "      <td>5.0</td>\n",
       "      <td>3.0</td>\n",
       "      <td>1.0</td>\n",
       "      <td>1.76</td>\n",
       "      <td>676.53</td>\n",
       "      <td>2019.0</td>\n",
       "      <td>-1.0</td>\n",
       "      <td>-1.836970e-16</td>\n",
       "      <td>0.433884</td>\n",
       "      <td>-0.900969</td>\n",
       "      <td>-0.848644</td>\n",
       "      <td>0.528964</td>\n",
       "    </tr>\n",
       "  </tbody>\n",
       "</table>\n",
       "</div>"
      ],
      "text/plain": [
       "   flight_type  from_location  to_location  agency  time  distance    year  \\\n",
       "0          2.0            5.0          3.0     1.0  1.76    676.53  2019.0   \n",
       "\n",
       "   month_sin     month_cos  day_of_week_sin  day_of_week_cos   day_sin  \\\n",
       "0       -1.0 -1.836970e-16         0.433884        -0.900969 -0.848644   \n",
       "\n",
       "    day_cos  \n",
       "0  0.528964  "
      ]
     },
     "execution_count": 51,
     "metadata": {},
     "output_type": "execute_result"
    }
   ],
   "source": [
    "preprocessed_df"
   ]
  },
  {
   "cell_type": "code",
   "execution_count": 47,
   "metadata": {},
   "outputs": [],
   "source": [
    "actual_price = raw_df[\"price\"][0]"
   ]
  },
  {
   "cell_type": "code",
   "execution_count": 48,
   "metadata": {},
   "outputs": [],
   "source": [
    "prediction_price = model.predict(preprocessed_df)[0]"
   ]
  },
  {
   "cell_type": "code",
   "execution_count": 49,
   "metadata": {},
   "outputs": [
    {
     "name": "stdout",
     "output_type": "stream",
     "text": [
      "predicted_price:1434.35, actual_price:1434.38\n"
     ]
    }
   ],
   "source": [
    "prediction_price = f\"{prediction_price:.2f}\"\n",
    "print(f\"predicted_price:{prediction_price}, actual_price:{actual_price}\")"
   ]
  },
  {
   "cell_type": "code",
   "execution_count": null,
   "metadata": {},
   "outputs": [
    {
     "data": {
      "text/plain": [
       "{'from_location': 'Recife (PE)',\n",
       " 'to_location': 'Florianopolis (SC)',\n",
       " 'flight_type': 'firstClass',\n",
       " 'time': 1.76,\n",
       " 'distance': 676.53,\n",
       " 'agency': 'FlyingDrops',\n",
       " 'date': '2019-09-26'}"
      ]
     },
     "execution_count": 60,
     "metadata": {},
     "output_type": "execute_result"
    }
   ],
   "source": [
    "# sample\n",
    "{\n",
    "    \"from_location\": \"Recife (PE)\",\n",
    "    \"to_location\": \"Florianopolis (SC)\",\n",
    "    \"flight_type\": \"firstClass\",\n",
    "    \"time\": 1.76,\n",
    "    \"distance\": 676.53,\n",
    "    \"agency\": \"FlyingDrops\",\n",
    "    \"date\": \"2019-09-26\",\n",
    "}"
   ]
  }
 ],
 "metadata": {
  "kernelspec": {
   "display_name": "flights_mlops",
   "language": "python",
   "name": "python3"
  },
  "language_info": {
   "codemirror_mode": {
    "name": "ipython",
    "version": 3
   },
   "file_extension": ".py",
   "mimetype": "text/x-python",
   "name": "python",
   "nbconvert_exporter": "python",
   "pygments_lexer": "ipython3",
   "version": "3.12.9"
  }
 },
 "nbformat": 4,
 "nbformat_minor": 4
}
